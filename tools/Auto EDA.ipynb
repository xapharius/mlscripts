{
 "cells": [
  {
   "cell_type": "markdown",
   "metadata": {},
   "source": [
    "# Auto EDA Tool Comparison\n",
    "- A bunch of auto-eda tools out there in the last years, good to know which one to use in workflow\n",
    "- Comparing pandas profiler, sweetviz, autoviz, lux, dataprep\n",
    "- Usability and style are the biggest factors. In terms of features all are very similar: distributions, correlations, missing values.\n",
    "- Testing on some random tabular kaggle dataset\n",
    "- The ones that are not actively maintained will break with new versions of jupyter and numpy\n",
    "- Had to clear outputs as interactives not working in viewer, also quite large\n",
    "\n",
    "## Summary \n",
    "- Pandas Profiler is best, easy to to use and configurable for extra complexity. Actively maintained and very neat.\n",
    "- DataPrep is the second choice, perhaps to dig deeper after using yprofiler. env issues with new numpy versions.\n",
    "- SweetViz, AutoViz ok but not very usable - either messy viz or api - and not up to date\n",
    "- Lux seriously out of date, couldn't get to work without chaning the base env\n",
    "\n",
    "## Pandas Profiler\n",
    "- very clean an neatly organised\n",
    "- great docs\n",
    "- nice balance between ease of use and advanced usage\n",
    "- congis are the not the most pythonic but do the job\n",
    "- would be nice to have dedicated target analysis\n",
    "- compatible with newer libraries and up to date \n",
    "\n",
    "## SweetViz\n",
    "- no docs?\n",
    "- viz style not great, too cluttered\n",
    "- Has target analysis options but doesn't work for categorical :-/\n",
    "- Doesn't seem to be actively maintained\n",
    "\n",
    "## AutoViz\n",
    "- api fairly complicated, would have separated reader from df api.\n",
    "- not great separation of use-cases: basic overview and more complex drilldown.\n",
    "- target analysis pretty cool\n",
    "- output is quite messy\n",
    "\n",
    "## Lux\n",
    "- Not a fan of overriding pandas api\n",
    "- Can't get it to work with jupyterlab 4.2 `UserWarning: ValueError: The extension \"luxwidget\" does not yet support the current version of JupyterLab.'`\n",
    "- While it's ok to having to use older package versions inside the venv, it's not acceptable if one has to change the stack outside of the venv \n",
    "- Doesn't seem to be maintained, last commit in 2023\n",
    "\n",
    "## DataPrep\n",
    "- Had to downgrade numpy and markupsafe\n",
    "- Stats and insights quite helpful\n",
    "- Nice that each specialised call (correlation, missing) has multiple metrics and displays to choose from\n",
    "- Good balance between high-level reports and drill down options using different apis\n",
    "- Viz not as tidy as pandas-profiler"
   ]
  },
  {
   "cell_type": "code",
   "execution_count": null,
   "metadata": {},
   "outputs": [],
   "source": [
    "import pandas as pd\n",
    "train_df = pd.read_csv(\"/data/datasets/kaggle/Multi-Class-Prediction-of-Obesity-Risk/train.csv\")\n",
    "test_df = pd.read_csv(\"/data/datasets/kaggle/Multi-Class-Prediction-of-Obesity-Risk/test.csv\")"
   ]
  },
  {
   "cell_type": "markdown",
   "metadata": {},
   "source": [
    "# Pandas Profiler\n",
    "- very clean an neatly organised\n",
    "- great docs\n",
    "- nice balance between ease of use and advanced usage via additional configs\n",
    "- would be nice to have dedicated target analysis"
   ]
  },
  {
   "cell_type": "code",
   "execution_count": null,
   "metadata": {},
   "outputs": [],
   "source": [
    "import ydata_profiling as ydp\n",
    "\n",
    "conf = {\"correlations\": {\"auto\": {\"calculate\": True}, \"spearman\": {\"calculate\": True}}}\n",
    "\n",
    "train_report = ydp.ProfileReport(train_df, **conf)\n",
    "test_report = ydp.ProfileReport(test_df, **conf)\n",
    "\n",
    "train_report.compare(test_report)"
   ]
  },
  {
   "cell_type": "markdown",
   "metadata": {},
   "source": [
    "# SweetViz\n",
    "- no docs?\n",
    "- viz style not great, too cluttered\n",
    "- Has target analysis options but doesn't work for categorical :-/\n",
    "- Doesn't seem to be actively maintained"
   ]
  },
  {
   "cell_type": "code",
   "execution_count": null,
   "metadata": {},
   "outputs": [],
   "source": [
    "import sweetviz as sv\n",
    "\n",
    "report = sv.compare([train_df, \"Train\"], [test_df, \"Test\"])\n",
    "report.show_notebook()"
   ]
  },
  {
   "cell_type": "markdown",
   "metadata": {},
   "source": [
    "# AutoViz\n",
    "- api fairly complicated, would have separated reader from df api.\n",
    "- not great separation of use-cases: basic overview and more complex drilldown.\n",
    "- target analysis pretty cool\n",
    "- output is quite messy"
   ]
  },
  {
   "cell_type": "code",
   "execution_count": null,
   "metadata": {},
   "outputs": [],
   "source": [
    "from autoviz import AutoViz_Class\n",
    "AV = AutoViz_Class()\n",
    "\n",
    "dft = AV.AutoViz(\n",
    "    filename=\"\",\n",
    "    dfte=train_df,\n",
    "    depVar=\"NObeyesdad\",\n",
    "    chart_format=\"bokeh\",\n",
    ")\n"
   ]
  },
  {
   "cell_type": "markdown",
   "metadata": {},
   "source": [
    "# Lux\n",
    "- Not a fan of overriding pandas api\n",
    "- Can't get it to work with jupyterlab 4.2 `UserWarning: ValueError: The extension \"luxwidget\" does not yet support the current version of JupyterLab.'`\n",
    "- While it's ok to having to use older package versions inside the venv, it's not acceptable if one has to change the stack outside of the venv \n",
    "- Doesn't seem to be maintained, last commit in 2023"
   ]
  },
  {
   "cell_type": "code",
   "execution_count": null,
   "metadata": {},
   "outputs": [],
   "source": [
    "import lux\n",
    "lux.debug_info()"
   ]
  },
  {
   "cell_type": "markdown",
   "metadata": {},
   "source": [
    "# DataPrep\n",
    "- Had to downgrade numpy and markupsafe\n",
    "- Stats and insights quite helpful\n",
    "- Nice that each specialised call (correlation, missing) has multiple metrics and displays to choose from\n",
    "- Good balance between high-level reports and drill down options using different apis\n",
    "- Viz not as tidy as pandas-profiler"
   ]
  },
  {
   "cell_type": "code",
   "execution_count": null,
   "metadata": {},
   "outputs": [],
   "source": [
    "from dataprep.eda import plot, plot_correlation, plot_missing, create_report, plot_diff"
   ]
  },
  {
   "cell_type": "code",
   "execution_count": null,
   "metadata": {},
   "outputs": [],
   "source": [
    "create_report(train_df)"
   ]
  },
  {
   "cell_type": "code",
   "execution_count": null,
   "metadata": {},
   "outputs": [],
   "source": [
    "plot(train_df)"
   ]
  },
  {
   "cell_type": "code",
   "execution_count": null,
   "metadata": {},
   "outputs": [],
   "source": [
    "plot(train_df, \"NObeyesdad\")"
   ]
  },
  {
   "cell_type": "code",
   "execution_count": null,
   "metadata": {},
   "outputs": [],
   "source": [
    "plot_correlation(train_df)"
   ]
  },
  {
   "cell_type": "code",
   "execution_count": null,
   "metadata": {},
   "outputs": [],
   "source": [
    "plot_missing(train_df)"
   ]
  },
  {
   "cell_type": "code",
   "execution_count": null,
   "metadata": {},
   "outputs": [],
   "source": [
    "plot_diff([train_df, test_df])"
   ]
  }
 ],
 "metadata": {
  "kernelspec": {
   "display_name": "Python [conda env:eda]",
   "language": "python",
   "name": "conda-env-eda-py"
  },
  "language_info": {
   "codemirror_mode": {
    "name": "ipython",
    "version": 3
   },
   "file_extension": ".py",
   "mimetype": "text/x-python",
   "name": "python",
   "nbconvert_exporter": "python",
   "pygments_lexer": "ipython3",
   "version": "3.10.14"
  }
 },
 "nbformat": 4,
 "nbformat_minor": 4
}
