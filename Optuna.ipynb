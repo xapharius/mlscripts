{
 "cells": [
  {
   "cell_type": "markdown",
   "id": "fitting-bangladesh",
   "metadata": {},
   "source": [
    "# Optuna\n",
    "- Optuna is a great tool for exploring the hyper-parameters of an optimisation problem. \n",
    "- It is versatile because it is lightweight and specialised - a feature commonly lost in big projects. \n",
    "- Optuna comes in handy for DL since we do have a lot of hyper-params of varying sensitivity.\n",
    "- Here I will write some recipies for Pytorch training with Optuna and then for a single-node multi-gpu setup.\n",
    "\n",
    "### 1. Optuna and Pytorch\n",
    "- The official examples intertwine Optuna calls with Pytorch trainer boilerplate.\n",
    "- Ideally one would decouple this things so one can run DL training independently (for POC, or debugging) and then add Optuna on top if necessary.\n",
    "- For this I will try to split the Pytorch parts from the Optuna calls by encapsulation.\n",
    "\n",
    "### 2. Single-node multi-GPU\n",
    "- Parallel training of models in a multi-GPU setting is very useful for small datasets/models.\n",
    "- Parallel training in Optuna is possible since the db is safe of race conditions.\n",
    "- We can spawn multiple workers/processes and assign it a separate GPU."
   ]
  },
  {
   "cell_type": "code",
   "execution_count": 20,
   "id": "incorrect-acrobat",
   "metadata": {},
   "outputs": [],
   "source": [
    "import sys\n",
    "import joblib\n",
    "import logging\n",
    "import subprocess\n",
    "\n",
    "import torch\n",
    "from torch import nn, optim\n",
    "from torch.utils.data import DataLoader\n",
    "from torchvision import transforms\n",
    "from torchvision.datasets import CIFAR100\n",
    "from torchvision.models import vgg16_bn\n",
    "\n",
    "import optuna\n",
    "from optuna import Trial\n",
    "from optuna import visualization as opt_viz\n",
    "\n",
    "%config Completer.use_jedi = False\n",
    "%matplotlib inline"
   ]
  },
  {
   "cell_type": "markdown",
   "id": "round-abuse",
   "metadata": {},
   "source": [
    "# 1. Optuna and Pytorch\n",
    "- Pytorch boilerplate code such as getting the data loaders, computing accuracy, creating the model etc.\n",
    "- Ideally the Pytorch trainer would not depend on Optuna so it can be run independently.\n",
    "- Only once we are happy with the trainer we would wish to pass it to Optuna."
   ]
  },
  {
   "cell_type": "markdown",
   "id": "equivalent-belarus",
   "metadata": {},
   "source": [
    "## 1.1 Pytorch Trainer\n",
    "- The trainer should receive it's hyper-params directly as args, not as a trial\n",
    "- Will yield the optuna objective metric (accuracy here) since we need to report it to the trial object for pruning\n",
    "- Turning the trainer into a generator allows us to decouple it from Optuna entirely"
   ]
  },
  {
   "cell_type": "code",
   "execution_count": 15,
   "id": "placed-peninsula",
   "metadata": {
    "tags": []
   },
   "outputs": [],
   "source": [
    "DS_PATH = \"/data/datasets/CIFAR100\"\n",
    "\n",
    "\n",
    "def get_model():\n",
    "    model = vgg16_bn()\n",
    "    model.features = model.features[:-1]\n",
    "    model.avgpool = nn.AvgPool2d(kernel_size=2)\n",
    "    model.classifier = nn.Sequential(nn.Linear(512, 100))\n",
    "    return model\n",
    "\n",
    "\n",
    "def get_accuracy(model, loader):\n",
    "    correct = 0\n",
    "    n_obs = 0\n",
    "\n",
    "    device = list(model.parameters())[0].device\n",
    "    model.eval()\n",
    "    for X, y in loader:\n",
    "        X, y = X.to(device), y.to(device)\n",
    "        with torch.no_grad():\n",
    "            out = model(X)\n",
    "        correct += (out.argmax(dim=1) == y).float().sum()\n",
    "        n_obs += len(X)\n",
    "    model.train()\n",
    "\n",
    "    accuracy = correct / n_obs\n",
    "    return accuracy.item()\n",
    "\n",
    "\n",
    "def get_loaders(batch_size=64):\n",
    "    means = [0.5071, 0.4867, 0.4408]\n",
    "    stds = [0.2675, 0.2565, 0.2761]\n",
    "    \n",
    "    train_transform = transforms.Compose(\n",
    "        [\n",
    "            transforms.RandomCrop(32, padding=4),\n",
    "            transforms.RandomHorizontalFlip(),\n",
    "            transforms.ToTensor(),\n",
    "            transforms.Normalize(means, stds),\n",
    "        ]\n",
    "    )\n",
    "    test_transform = transforms.Compose(\n",
    "        [\n",
    "            transforms.ToTensor(),\n",
    "            transforms.Normalize(means, stds),\n",
    "        ]\n",
    "    )\n",
    "\n",
    "    train_ds = CIFAR100(root=DS_PATH, transform=train_transform, train=True)\n",
    "    test_ds = CIFAR100(root=DS_PATH, transform=test_transform, train=False)\n",
    "\n",
    "    train_loader = DataLoader(\n",
    "        train_ds, batch_size=batch_size, shuffle=True, pin_memory=True\n",
    "    )\n",
    "    test_loader = DataLoader(\n",
    "        test_ds, batch_size=batch_size, shuffle=False, pin_memory=True\n",
    "    )\n",
    "\n",
    "    return train_loader, test_loader\n",
    "    \n",
    "\n",
    "\n",
    "def train(n_epochs=10, batch_size=64, lr=1e-1, device=\"cuda:0\"):\n",
    "    \"\"\"\n",
    "    Trying to keep any optuna code out of here, keep just a standard pytorch training.\n",
    "    Need to make it a generator to yield the objective score.\n",
    "    \"\"\"\n",
    "    model = get_model().to(device)\n",
    "    train_loader, test_loader = get_loaders(batch_size)\n",
    "    \n",
    "    criterion = nn.CrossEntropyLoss()\n",
    "    optimiser = optim.SGD(model.parameters(), lr=lr, momentum=0.9, weight_decay=1e-4, nesterov=True)\n",
    "    lr_scheduler = optim.lr_scheduler.CosineAnnealingLR(optimiser, T_max=n_epochs)\n",
    "    \n",
    "    for epoch in range(n_epochs):\n",
    "        \n",
    "        for X, y in train_loader:\n",
    "            X, y = X.to(device), y.to(device)\n",
    "            criterion(model(X), y).backward()\n",
    "            optimiser.step()\n",
    "            optimiser.zero_grad()\n",
    "            \n",
    "        lr_scheduler.step()\n",
    "        acc = get_accuracy(model, test_loader)\n",
    "        yield acc\n"
   ]
  },
  {
   "cell_type": "markdown",
   "id": "catholic-rebecca",
   "metadata": {},
   "source": [
    "## 1.2 Optuna\n",
    "- Will encapsulate the pytorch boilerplate.\n",
    "- Optuna calls will be reduced to run_trial and run_study.\n",
    "- run_trial will be the \"objective\" function from standard Optuna tutorials, accepting the trial parameter.\n",
    "- Ideally the hyper-parameter ranges should be defined outside and run_trials should accept them as args.\n",
    "- run_study will make run_trial partial by assigning the hyper-param ranges, Optuna needs run_trial to just get trial."
   ]
  },
  {
   "cell_type": "code",
   "execution_count": 47,
   "id": "graphic-anatomy",
   "metadata": {},
   "outputs": [],
   "source": [
    "def run_trial(trial: Trial, n_epochs=\"10:50:10\", batch_size=\"50:1000:50\", lr=\"1e-4:1e-1:1e-4\", device=\"cuda:0\"):\n",
    "    \"\"\"\n",
    "    Would have been nice to be able to specify hyper-param ranges when creating the study rather than in the trial.\n",
    "    Workaround by passing string args and parsing them here. Will call this function as a curry/partial.\n",
    "    \"\"\"\n",
    "    parse_arg = lambda arg, type_: {key: type_(val) for key, val in zip([\"low\", \"high\", \"step\"], arg.split(\":\"))}\n",
    "    \n",
    "    n_epochs = trial.suggest_int(\"n_epochs\", **parse_arg(n_epochs, int))\n",
    "    batch_size = trial.suggest_int(\"batch_size\", **parse_arg(batch_size, int))\n",
    "    lr = trial.suggest_float(\"lr\", **parse_arg(lr, float))\n",
    "    \n",
    "    for epoch, acc in enumerate(train(n_epochs=n_epochs, batch_size=batch_size, lr=lr, device=device)):\n",
    "        trial.report(acc, epoch)\n",
    "        if trial.should_prune():\n",
    "            raise optuna.exceptions.TrialPruned()\n",
    "    return acc\n",
    "\n",
    "\n",
    "def run_study(study_name=None, n_trials=20, **trial_kwargs):\n",
    "    \"\"\"\n",
    "    Creates, launches and returns the study. \n",
    "    Trial hyper-param ranges passed as kwarg-slicing-string-style-whatever e.g n_epochs=\"low:high:step\"\n",
    "    \"\"\"\n",
    "    study = optuna.create_study(\n",
    "        study_name=study_name, \n",
    "        load_if_exists=True, \n",
    "        storage=\"sqlite:///example.db\",\n",
    "        pruner=optuna.pruners.HyperbandPruner(), \n",
    "        direction=\"maximize\"\n",
    "    )\n",
    "    study.optimize(lambda trial: run_trial(trial, **trial_kwargs), n_trials=n_trials)\n",
    "    return study"
   ]
  },
  {
   "cell_type": "code",
   "execution_count": null,
   "id": "pregnant-toddler",
   "metadata": {
    "tags": []
   },
   "outputs": [],
   "source": [
    "study = run_study(n_trials=20, n_epochs=\"10:50:10\", batch_size=\"50:1000:50\", lr=\"1e-4:1e-1:1e-4\")"
   ]
  },
  {
   "cell_type": "code",
   "execution_count": 7,
   "id": "personalized-signal",
   "metadata": {},
   "outputs": [
    {
     "data": {
      "application/vnd.plotly.v1+json": {
       "config": {
        "plotlyServerURL": "https://plot.ly"
       },
       "data": [
        {
         "marker": {
          "maxdisplayed": 10
         },
         "mode": "lines+markers",
         "name": "Trial0",
         "type": "scatter",
         "x": [
          0,
          1,
          2,
          3,
          4,
          5,
          6,
          7,
          8,
          9,
          10,
          11,
          12,
          13,
          14,
          15,
          16,
          17,
          18,
          19,
          20,
          21,
          22,
          23,
          24,
          25,
          26,
          27,
          28,
          29,
          30,
          31,
          32,
          33,
          34,
          35,
          36,
          37,
          38,
          39
         ],
         "y": [
          0.1680999994277954,
          0.2703000009059906,
          0.34630000591278076,
          0.41110000014305115,
          0.4415999948978424,
          0.4739999771118164,
          0.49779999256134033,
          0.5191999673843384,
          0.5293999910354614,
          0.5356999635696411,
          0.5622000098228455,
          0.5539000034332275,
          0.5633999705314636,
          0.5699999928474426,
          0.5967999696731567,
          0.5906999707221985,
          0.6100000143051147,
          0.6146999597549438,
          0.6161999702453613,
          0.6234999895095825,
          0.6236000061035156,
          0.6266999840736389,
          0.6323999762535095,
          0.6329999566078186,
          0.6437000036239624,
          0.6432999968528748,
          0.6496999859809875,
          0.6466999650001526,
          0.6486999988555908,
          0.6503999829292297,
          0.6492999792098999,
          0.6541999578475952,
          0.6524999737739563,
          0.6532999873161316,
          0.6525999903678894,
          0.6525999903678894,
          0.6545000076293945,
          0.6543999910354614,
          0.6556999683380127,
          0.6554999947547913
         ]
        },
        {
         "marker": {
          "maxdisplayed": 10
         },
         "mode": "lines+markers",
         "name": "Trial1",
         "type": "scatter",
         "x": [
          0,
          1,
          2,
          3,
          4,
          5,
          6,
          7,
          8,
          9,
          10,
          11,
          12,
          13,
          14,
          15,
          16,
          17,
          18,
          19
         ],
         "y": [
          0.10459999740123749,
          0.15330000221729279,
          0.1842999905347824,
          0.20739999413490295,
          0.23510000109672546,
          0.2822999954223633,
          0.28299999237060547,
          0.3203999996185303,
          0.33409997820854187,
          0.352400004863739,
          0.3845999836921692,
          0.39159998297691345,
          0.3969999849796295,
          0.4136999845504761,
          0.42499998211860657,
          0.4292999804019928,
          0.43050000071525574,
          0.4350000023841858,
          0.4368000030517578,
          0.4404999911785126
         ]
        },
        {
         "marker": {
          "maxdisplayed": 10
         },
         "mode": "lines+markers",
         "name": "Trial2",
         "type": "scatter",
         "x": [
          0,
          1,
          2,
          3,
          4,
          5,
          6,
          7,
          8,
          9,
          10,
          11,
          12,
          13,
          14,
          15,
          16,
          17,
          18,
          19,
          20,
          21,
          22,
          23,
          24,
          25,
          26,
          27,
          28,
          29
         ],
         "y": [
          0.13669998943805695,
          0.16910000145435333,
          0.2847000062465668,
          0.33889999985694885,
          0.3946000039577484,
          0.45229998230934143,
          0.48399999737739563,
          0.5062999725341797,
          0.5212000012397766,
          0.5252999663352966,
          0.5396000146865845,
          0.5620999932289124,
          0.5728999972343445,
          0.5810999870300293,
          0.5654000043869019,
          0.592799961566925,
          0.6014999747276306,
          0.5968999862670898,
          0.6114999651908875,
          0.614300012588501,
          0.6216999888420105,
          0.6291999816894531,
          0.6337000131607056,
          0.6347000002861023,
          0.6330999732017517,
          0.6378999948501587,
          0.6394000053405762,
          0.6385999917984009,
          0.6398000121116638,
          0.6398999691009521
         ]
        },
        {
         "marker": {
          "maxdisplayed": 10
         },
         "mode": "lines+markers",
         "name": "Trial3",
         "type": "scatter",
         "x": [
          0,
          1,
          2,
          3,
          4,
          5,
          6,
          7,
          8,
          9
         ],
         "y": [
          0.058799996972084045,
          0.08889999985694885,
          0.1193000003695488,
          0.13089999556541443,
          0.14059999585151672,
          0.15029999613761902,
          0.15449999272823334,
          0.15539999306201935,
          0.15959998965263367,
          0.15809999406337738
         ]
        },
        {
         "marker": {
          "maxdisplayed": 10
         },
         "mode": "lines+markers",
         "name": "Trial4",
         "type": "scatter",
         "x": [
          0,
          1,
          2,
          3,
          4,
          5,
          6,
          7,
          8,
          9,
          10,
          11,
          12,
          13,
          14,
          15,
          16,
          17,
          18,
          19,
          20,
          21,
          22,
          23,
          24,
          25,
          26,
          27,
          28,
          29,
          30,
          31,
          32,
          33,
          34,
          35,
          36,
          37,
          38,
          39
         ],
         "y": [
          0.21130000054836273,
          0.26260000467300415,
          0.35189998149871826,
          0.39149999618530273,
          0.4268999993801117,
          0.5112999677658081,
          0.4838999807834625,
          0.4964999854564667,
          0.5550999641418457,
          0.558899998664856,
          0.5724999904632568,
          0.5823000073432922,
          0.5735999941825867,
          0.6000999808311462,
          0.6013999581336975,
          0.6026999950408936,
          0.6144999861717224,
          0.6139000058174133,
          0.625,
          0.6351999640464783,
          0.6372999548912048,
          0.6473000049591064,
          0.6326999664306641,
          0.6547999978065491,
          0.6541000008583069,
          0.6602999567985535,
          0.6672999858856201,
          0.670699954032898,
          0.6699000000953674,
          0.676099956035614,
          0.6793999671936035,
          0.6811999678611755,
          0.6851999759674072,
          0.6845999956130981,
          0.6836000084877014,
          0.6854999661445618,
          0.6901999711990356,
          0.6900999546051025,
          0.6886000037193298,
          0.6906999945640564
         ]
        },
        {
         "marker": {
          "maxdisplayed": 10
         },
         "mode": "lines+markers",
         "name": "Trial5",
         "type": "scatter",
         "x": [
          0,
          1
         ],
         "y": [
          0.07999999821186066,
          0.11129999905824661
         ]
        },
        {
         "marker": {
          "maxdisplayed": 10
         },
         "mode": "lines+markers",
         "name": "Trial6",
         "type": "scatter",
         "x": [
          0,
          1,
          2,
          3,
          4,
          5,
          6,
          7,
          8,
          9,
          10,
          11,
          12,
          13,
          14,
          15,
          16,
          17,
          18,
          19
         ],
         "y": [
          0.17559999227523804,
          0.2996000051498413,
          0.3734000027179718,
          0.4536999762058258,
          0.46369999647140503,
          0.42149999737739563,
          0.5152999758720398,
          0.5501999855041504,
          0.5680999755859375,
          0.5697999596595764,
          0.5870999693870544,
          0.6064000129699707,
          0.6234999895095825,
          0.6281999945640564,
          0.6434999704360962,
          0.6525999903678894,
          0.6563000082969666,
          0.6624000072479248,
          0.6631999611854553,
          0.6625999808311462
         ]
        },
        {
         "marker": {
          "maxdisplayed": 10
         },
         "mode": "lines+markers",
         "name": "Trial7",
         "type": "scatter",
         "x": [
          0,
          1,
          2,
          3,
          4,
          5,
          6,
          7,
          8,
          9,
          10,
          11,
          12,
          13,
          14,
          15,
          16,
          17,
          18,
          19
         ],
         "y": [
          0.11509999632835388,
          0.17309999465942383,
          0.22619999945163727,
          0.26829999685287476,
          0.30480000376701355,
          0.34869998693466187,
          0.3653999865055084,
          0.3828999996185303,
          0.4088999927043915,
          0.4373999834060669,
          0.4510999917984009,
          0.4657000005245209,
          0.4797999858856201,
          0.4845999777317047,
          0.4948999881744385,
          0.49949997663497925,
          0.5047000050544739,
          0.5077999830245972,
          0.5087000131607056,
          0.5113999843597412
         ]
        },
        {
         "marker": {
          "maxdisplayed": 10
         },
         "mode": "lines+markers",
         "name": "Trial8",
         "type": "scatter",
         "x": [
          0,
          1
         ],
         "y": [
          0.060999996960163116,
          0.09359999746084213
         ]
        },
        {
         "marker": {
          "maxdisplayed": 10
         },
         "mode": "lines+markers",
         "name": "Trial9",
         "type": "scatter",
         "x": [
          0,
          1
         ],
         "y": [
          0.12119999527931213,
          0.21449999511241913
         ]
        },
        {
         "marker": {
          "maxdisplayed": 10
         },
         "mode": "lines+markers",
         "name": "Trial10",
         "type": "scatter",
         "x": [
          0,
          1,
          2,
          3,
          4,
          5,
          6,
          7,
          8,
          9,
          10,
          11,
          12,
          13,
          14,
          15,
          16,
          17,
          18,
          19,
          20,
          21,
          22,
          23,
          24,
          25,
          26,
          27,
          28,
          29
         ],
         "y": [
          0.1241999939084053,
          0.2557999789714813,
          0.2883000075817108,
          0.35089999437332153,
          0.4341000020503998,
          0.44339999556541443,
          0.469899982213974,
          0.49959999322891235,
          0.5320999622344971,
          0.5590000152587891,
          0.5666999816894531,
          0.5630999803543091,
          0.5476999878883362,
          0.574999988079071,
          0.5981999635696411,
          0.6110999584197998,
          0.6110999584197998,
          0.6096999645233154,
          0.6225999593734741,
          0.6419000029563904,
          0.644599974155426,
          0.647599995136261,
          0.6523000001907349,
          0.6535999774932861,
          0.6554999947547913,
          0.6590999960899353,
          0.6613999605178833,
          0.6639999747276306,
          0.6620000004768372,
          0.6624000072479248
         ]
        },
        {
         "marker": {
          "maxdisplayed": 10
         },
         "mode": "lines+markers",
         "name": "Trial11",
         "type": "scatter",
         "x": [
          0,
          1,
          2,
          3
         ],
         "y": [
          0.04559999704360962,
          0.07739999890327454,
          0.09589999914169312,
          0.10669999569654465
         ]
        },
        {
         "marker": {
          "maxdisplayed": 10
         },
         "mode": "lines+markers",
         "name": "Trial12",
         "type": "scatter",
         "x": [
          0,
          1,
          2,
          3,
          4,
          5,
          6,
          7,
          8,
          9
         ],
         "y": [
          0.13609999418258667,
          0.21139998733997345,
          0.28859999775886536,
          0.35259997844696045,
          0.40209999680519104,
          0.42329999804496765,
          0.45559999346733093,
          0.491599977016449,
          0.5,
          0.5092999935150146
         ]
        },
        {
         "marker": {
          "maxdisplayed": 10
         },
         "mode": "lines+markers",
         "name": "Trial13",
         "type": "scatter",
         "x": [
          0,
          1,
          2,
          3,
          4,
          5,
          6,
          7,
          8,
          9
         ],
         "y": [
          0.16979999840259552,
          0.2728999853134155,
          0.3333999812602997,
          0.36789998412132263,
          0.41339999437332153,
          0.4551999866962433,
          0.47699999809265137,
          0.48420000076293945,
          0.5184999704360962,
          0.5198000073432922
         ]
        },
        {
         "marker": {
          "maxdisplayed": 10
         },
         "mode": "lines+markers",
         "name": "Trial14",
         "type": "scatter",
         "x": [
          0,
          1
         ],
         "y": [
          0.06430000066757202,
          0.1046999990940094
         ]
        },
        {
         "marker": {
          "maxdisplayed": 10
         },
         "mode": "lines+markers",
         "name": "Trial15",
         "type": "scatter",
         "x": [
          0,
          1,
          2,
          3
         ],
         "y": [
          0.2087000012397766,
          0.3255999982357025,
          0.37469998002052307,
          0.41769999265670776
         ]
        },
        {
         "marker": {
          "maxdisplayed": 10
         },
         "mode": "lines+markers",
         "name": "Trial16",
         "type": "scatter",
         "x": [
          0,
          1,
          2,
          3
         ],
         "y": [
          0.20309999585151672,
          0.2833999991416931,
          0.35819998383522034,
          0.41099998354911804
         ]
        },
        {
         "marker": {
          "maxdisplayed": 10
         },
         "mode": "lines+markers",
         "name": "Trial17",
         "type": "scatter",
         "x": [
          0,
          1,
          2,
          3,
          4,
          5,
          6,
          7,
          8,
          9,
          10,
          11,
          12,
          13,
          14,
          15,
          16,
          17,
          18,
          19,
          20,
          21,
          22,
          23,
          24,
          25,
          26,
          27,
          28,
          29,
          30,
          31,
          32,
          33,
          34,
          35,
          36,
          37,
          38,
          39
         ],
         "y": [
          0.18539999425411224,
          0.2175000011920929,
          0.3522000014781952,
          0.40869998931884766,
          0.46779999136924744,
          0.4699999988079071,
          0.5127999782562256,
          0.5022000074386597,
          0.530299961566925,
          0.5403000116348267,
          0.5449999570846558,
          0.5870999693870544,
          0.5625,
          0.5845999717712402,
          0.608299970626831,
          0.6089000105857849,
          0.6157999634742737,
          0.6176999807357788,
          0.6269999742507935,
          0.6323999762535095,
          0.6412000060081482,
          0.642799973487854,
          0.6506999731063843,
          0.6557999849319458,
          0.6554999947547913,
          0.667199969291687,
          0.670699954032898,
          0.6735999584197998,
          0.6750999689102173,
          0.6815999746322632,
          0.6829000115394592,
          0.6822999715805054,
          0.6832000017166138,
          0.6866999864578247,
          0.6861000061035156,
          0.6863999962806702,
          0.6869999766349792,
          0.6884999871253967,
          0.6875999569892883,
          0.6872999668121338
         ]
        },
        {
         "marker": {
          "maxdisplayed": 10
         },
         "mode": "lines+markers",
         "name": "Trial18",
         "type": "scatter",
         "x": [
          0,
          1,
          2,
          3
         ],
         "y": [
          0.15349999070167542,
          0.19429999589920044,
          0.2646999955177307,
          0.31939998269081116
         ]
        },
        {
         "marker": {
          "maxdisplayed": 10
         },
         "mode": "lines+markers",
         "name": "Trial19",
         "type": "scatter",
         "x": [
          0,
          1
         ],
         "y": [
          0.10769999772310257,
          0.19249999523162842
         ]
        }
       ],
       "layout": {
        "autosize": true,
        "showlegend": false,
        "template": {
         "data": {
          "bar": [
           {
            "error_x": {
             "color": "#2a3f5f"
            },
            "error_y": {
             "color": "#2a3f5f"
            },
            "marker": {
             "line": {
              "color": "#E5ECF6",
              "width": 0.5
             },
             "pattern": {
              "fillmode": "overlay",
              "size": 10,
              "solidity": 0.2
             }
            },
            "type": "bar"
           }
          ],
          "barpolar": [
           {
            "marker": {
             "line": {
              "color": "#E5ECF6",
              "width": 0.5
             },
             "pattern": {
              "fillmode": "overlay",
              "size": 10,
              "solidity": 0.2
             }
            },
            "type": "barpolar"
           }
          ],
          "carpet": [
           {
            "aaxis": {
             "endlinecolor": "#2a3f5f",
             "gridcolor": "white",
             "linecolor": "white",
             "minorgridcolor": "white",
             "startlinecolor": "#2a3f5f"
            },
            "baxis": {
             "endlinecolor": "#2a3f5f",
             "gridcolor": "white",
             "linecolor": "white",
             "minorgridcolor": "white",
             "startlinecolor": "#2a3f5f"
            },
            "type": "carpet"
           }
          ],
          "choropleth": [
           {
            "colorbar": {
             "outlinewidth": 0,
             "ticks": ""
            },
            "type": "choropleth"
           }
          ],
          "contour": [
           {
            "colorbar": {
             "outlinewidth": 0,
             "ticks": ""
            },
            "colorscale": [
             [
              0,
              "#0d0887"
             ],
             [
              0.1111111111111111,
              "#46039f"
             ],
             [
              0.2222222222222222,
              "#7201a8"
             ],
             [
              0.3333333333333333,
              "#9c179e"
             ],
             [
              0.4444444444444444,
              "#bd3786"
             ],
             [
              0.5555555555555556,
              "#d8576b"
             ],
             [
              0.6666666666666666,
              "#ed7953"
             ],
             [
              0.7777777777777778,
              "#fb9f3a"
             ],
             [
              0.8888888888888888,
              "#fdca26"
             ],
             [
              1,
              "#f0f921"
             ]
            ],
            "type": "contour"
           }
          ],
          "contourcarpet": [
           {
            "colorbar": {
             "outlinewidth": 0,
             "ticks": ""
            },
            "type": "contourcarpet"
           }
          ],
          "heatmap": [
           {
            "colorbar": {
             "outlinewidth": 0,
             "ticks": ""
            },
            "colorscale": [
             [
              0,
              "#0d0887"
             ],
             [
              0.1111111111111111,
              "#46039f"
             ],
             [
              0.2222222222222222,
              "#7201a8"
             ],
             [
              0.3333333333333333,
              "#9c179e"
             ],
             [
              0.4444444444444444,
              "#bd3786"
             ],
             [
              0.5555555555555556,
              "#d8576b"
             ],
             [
              0.6666666666666666,
              "#ed7953"
             ],
             [
              0.7777777777777778,
              "#fb9f3a"
             ],
             [
              0.8888888888888888,
              "#fdca26"
             ],
             [
              1,
              "#f0f921"
             ]
            ],
            "type": "heatmap"
           }
          ],
          "heatmapgl": [
           {
            "colorbar": {
             "outlinewidth": 0,
             "ticks": ""
            },
            "colorscale": [
             [
              0,
              "#0d0887"
             ],
             [
              0.1111111111111111,
              "#46039f"
             ],
             [
              0.2222222222222222,
              "#7201a8"
             ],
             [
              0.3333333333333333,
              "#9c179e"
             ],
             [
              0.4444444444444444,
              "#bd3786"
             ],
             [
              0.5555555555555556,
              "#d8576b"
             ],
             [
              0.6666666666666666,
              "#ed7953"
             ],
             [
              0.7777777777777778,
              "#fb9f3a"
             ],
             [
              0.8888888888888888,
              "#fdca26"
             ],
             [
              1,
              "#f0f921"
             ]
            ],
            "type": "heatmapgl"
           }
          ],
          "histogram": [
           {
            "marker": {
             "pattern": {
              "fillmode": "overlay",
              "size": 10,
              "solidity": 0.2
             }
            },
            "type": "histogram"
           }
          ],
          "histogram2d": [
           {
            "colorbar": {
             "outlinewidth": 0,
             "ticks": ""
            },
            "colorscale": [
             [
              0,
              "#0d0887"
             ],
             [
              0.1111111111111111,
              "#46039f"
             ],
             [
              0.2222222222222222,
              "#7201a8"
             ],
             [
              0.3333333333333333,
              "#9c179e"
             ],
             [
              0.4444444444444444,
              "#bd3786"
             ],
             [
              0.5555555555555556,
              "#d8576b"
             ],
             [
              0.6666666666666666,
              "#ed7953"
             ],
             [
              0.7777777777777778,
              "#fb9f3a"
             ],
             [
              0.8888888888888888,
              "#fdca26"
             ],
             [
              1,
              "#f0f921"
             ]
            ],
            "type": "histogram2d"
           }
          ],
          "histogram2dcontour": [
           {
            "colorbar": {
             "outlinewidth": 0,
             "ticks": ""
            },
            "colorscale": [
             [
              0,
              "#0d0887"
             ],
             [
              0.1111111111111111,
              "#46039f"
             ],
             [
              0.2222222222222222,
              "#7201a8"
             ],
             [
              0.3333333333333333,
              "#9c179e"
             ],
             [
              0.4444444444444444,
              "#bd3786"
             ],
             [
              0.5555555555555556,
              "#d8576b"
             ],
             [
              0.6666666666666666,
              "#ed7953"
             ],
             [
              0.7777777777777778,
              "#fb9f3a"
             ],
             [
              0.8888888888888888,
              "#fdca26"
             ],
             [
              1,
              "#f0f921"
             ]
            ],
            "type": "histogram2dcontour"
           }
          ],
          "mesh3d": [
           {
            "colorbar": {
             "outlinewidth": 0,
             "ticks": ""
            },
            "type": "mesh3d"
           }
          ],
          "parcoords": [
           {
            "line": {
             "colorbar": {
              "outlinewidth": 0,
              "ticks": ""
             }
            },
            "type": "parcoords"
           }
          ],
          "pie": [
           {
            "automargin": true,
            "type": "pie"
           }
          ],
          "scatter": [
           {
            "marker": {
             "colorbar": {
              "outlinewidth": 0,
              "ticks": ""
             }
            },
            "type": "scatter"
           }
          ],
          "scatter3d": [
           {
            "line": {
             "colorbar": {
              "outlinewidth": 0,
              "ticks": ""
             }
            },
            "marker": {
             "colorbar": {
              "outlinewidth": 0,
              "ticks": ""
             }
            },
            "type": "scatter3d"
           }
          ],
          "scattercarpet": [
           {
            "marker": {
             "colorbar": {
              "outlinewidth": 0,
              "ticks": ""
             }
            },
            "type": "scattercarpet"
           }
          ],
          "scattergeo": [
           {
            "marker": {
             "colorbar": {
              "outlinewidth": 0,
              "ticks": ""
             }
            },
            "type": "scattergeo"
           }
          ],
          "scattergl": [
           {
            "marker": {
             "colorbar": {
              "outlinewidth": 0,
              "ticks": ""
             }
            },
            "type": "scattergl"
           }
          ],
          "scattermapbox": [
           {
            "marker": {
             "colorbar": {
              "outlinewidth": 0,
              "ticks": ""
             }
            },
            "type": "scattermapbox"
           }
          ],
          "scatterpolar": [
           {
            "marker": {
             "colorbar": {
              "outlinewidth": 0,
              "ticks": ""
             }
            },
            "type": "scatterpolar"
           }
          ],
          "scatterpolargl": [
           {
            "marker": {
             "colorbar": {
              "outlinewidth": 0,
              "ticks": ""
             }
            },
            "type": "scatterpolargl"
           }
          ],
          "scatterternary": [
           {
            "marker": {
             "colorbar": {
              "outlinewidth": 0,
              "ticks": ""
             }
            },
            "type": "scatterternary"
           }
          ],
          "surface": [
           {
            "colorbar": {
             "outlinewidth": 0,
             "ticks": ""
            },
            "colorscale": [
             [
              0,
              "#0d0887"
             ],
             [
              0.1111111111111111,
              "#46039f"
             ],
             [
              0.2222222222222222,
              "#7201a8"
             ],
             [
              0.3333333333333333,
              "#9c179e"
             ],
             [
              0.4444444444444444,
              "#bd3786"
             ],
             [
              0.5555555555555556,
              "#d8576b"
             ],
             [
              0.6666666666666666,
              "#ed7953"
             ],
             [
              0.7777777777777778,
              "#fb9f3a"
             ],
             [
              0.8888888888888888,
              "#fdca26"
             ],
             [
              1,
              "#f0f921"
             ]
            ],
            "type": "surface"
           }
          ],
          "table": [
           {
            "cells": {
             "fill": {
              "color": "#EBF0F8"
             },
             "line": {
              "color": "white"
             }
            },
            "header": {
             "fill": {
              "color": "#C8D4E3"
             },
             "line": {
              "color": "white"
             }
            },
            "type": "table"
           }
          ]
         },
         "layout": {
          "annotationdefaults": {
           "arrowcolor": "#2a3f5f",
           "arrowhead": 0,
           "arrowwidth": 1
          },
          "autotypenumbers": "strict",
          "coloraxis": {
           "colorbar": {
            "outlinewidth": 0,
            "ticks": ""
           }
          },
          "colorscale": {
           "diverging": [
            [
             0,
             "#8e0152"
            ],
            [
             0.1,
             "#c51b7d"
            ],
            [
             0.2,
             "#de77ae"
            ],
            [
             0.3,
             "#f1b6da"
            ],
            [
             0.4,
             "#fde0ef"
            ],
            [
             0.5,
             "#f7f7f7"
            ],
            [
             0.6,
             "#e6f5d0"
            ],
            [
             0.7,
             "#b8e186"
            ],
            [
             0.8,
             "#7fbc41"
            ],
            [
             0.9,
             "#4d9221"
            ],
            [
             1,
             "#276419"
            ]
           ],
           "sequential": [
            [
             0,
             "#0d0887"
            ],
            [
             0.1111111111111111,
             "#46039f"
            ],
            [
             0.2222222222222222,
             "#7201a8"
            ],
            [
             0.3333333333333333,
             "#9c179e"
            ],
            [
             0.4444444444444444,
             "#bd3786"
            ],
            [
             0.5555555555555556,
             "#d8576b"
            ],
            [
             0.6666666666666666,
             "#ed7953"
            ],
            [
             0.7777777777777778,
             "#fb9f3a"
            ],
            [
             0.8888888888888888,
             "#fdca26"
            ],
            [
             1,
             "#f0f921"
            ]
           ],
           "sequentialminus": [
            [
             0,
             "#0d0887"
            ],
            [
             0.1111111111111111,
             "#46039f"
            ],
            [
             0.2222222222222222,
             "#7201a8"
            ],
            [
             0.3333333333333333,
             "#9c179e"
            ],
            [
             0.4444444444444444,
             "#bd3786"
            ],
            [
             0.5555555555555556,
             "#d8576b"
            ],
            [
             0.6666666666666666,
             "#ed7953"
            ],
            [
             0.7777777777777778,
             "#fb9f3a"
            ],
            [
             0.8888888888888888,
             "#fdca26"
            ],
            [
             1,
             "#f0f921"
            ]
           ]
          },
          "colorway": [
           "#636efa",
           "#EF553B",
           "#00cc96",
           "#ab63fa",
           "#FFA15A",
           "#19d3f3",
           "#FF6692",
           "#B6E880",
           "#FF97FF",
           "#FECB52"
          ],
          "font": {
           "color": "#2a3f5f"
          },
          "geo": {
           "bgcolor": "white",
           "lakecolor": "white",
           "landcolor": "#E5ECF6",
           "showlakes": true,
           "showland": true,
           "subunitcolor": "white"
          },
          "hoverlabel": {
           "align": "left"
          },
          "hovermode": "closest",
          "mapbox": {
           "style": "light"
          },
          "paper_bgcolor": "white",
          "plot_bgcolor": "#E5ECF6",
          "polar": {
           "angularaxis": {
            "gridcolor": "white",
            "linecolor": "white",
            "ticks": ""
           },
           "bgcolor": "#E5ECF6",
           "radialaxis": {
            "gridcolor": "white",
            "linecolor": "white",
            "ticks": ""
           }
          },
          "scene": {
           "xaxis": {
            "backgroundcolor": "#E5ECF6",
            "gridcolor": "white",
            "gridwidth": 2,
            "linecolor": "white",
            "showbackground": true,
            "ticks": "",
            "zerolinecolor": "white"
           },
           "yaxis": {
            "backgroundcolor": "#E5ECF6",
            "gridcolor": "white",
            "gridwidth": 2,
            "linecolor": "white",
            "showbackground": true,
            "ticks": "",
            "zerolinecolor": "white"
           },
           "zaxis": {
            "backgroundcolor": "#E5ECF6",
            "gridcolor": "white",
            "gridwidth": 2,
            "linecolor": "white",
            "showbackground": true,
            "ticks": "",
            "zerolinecolor": "white"
           }
          },
          "shapedefaults": {
           "line": {
            "color": "#2a3f5f"
           }
          },
          "ternary": {
           "aaxis": {
            "gridcolor": "white",
            "linecolor": "white",
            "ticks": ""
           },
           "baxis": {
            "gridcolor": "white",
            "linecolor": "white",
            "ticks": ""
           },
           "bgcolor": "#E5ECF6",
           "caxis": {
            "gridcolor": "white",
            "linecolor": "white",
            "ticks": ""
           }
          },
          "title": {
           "x": 0.05
          },
          "xaxis": {
           "automargin": true,
           "gridcolor": "white",
           "linecolor": "white",
           "ticks": "",
           "title": {
            "standoff": 15
           },
           "zerolinecolor": "white",
           "zerolinewidth": 2
          },
          "yaxis": {
           "automargin": true,
           "gridcolor": "white",
           "linecolor": "white",
           "ticks": "",
           "title": {
            "standoff": 15
           },
           "zerolinecolor": "white",
           "zerolinewidth": 2
          }
         }
        },
        "title": {
         "text": "Intermediate Values Plot"
        },
        "xaxis": {
         "autorange": true,
         "range": [
          -2.3050587634133883,
          41.305058763413385
         ],
         "title": {
          "text": "Step"
         },
         "type": "linear"
        },
        "yaxis": {
         "autorange": true,
         "range": [
          -0.007636410518757346,
          0.7439364021264233
         ],
         "title": {
          "text": "Intermediate Value"
         },
         "type": "linear"
        }
       }
      },
      "image/png": "[encoded data removed]",
      "text/html": [
       "<div>                            <div id=\"1f1ea201-37bc-452d-8b0a-f8844418af92\" class=\"plotly-graph-div\" style=\"height:525px; width:100%;\"></div>            <script type=\"text/javascript\">                require([\"plotly\"], function(Plotly) {                    window.PLOTLYENV=window.PLOTLYENV || {};                                    if (document.getElementById(\"1f1ea201-37bc-452d-8b0a-f8844418af92\")) {                    Plotly.newPlot(                        \"1f1ea201-37bc-452d-8b0a-f8844418af92\",                        [{\"marker\":{\"maxdisplayed\":10},\"mode\":\"lines+markers\",\"name\":\"Trial0\",\"x\":[0,1,2,3,4,5,6,7,8,9,10,11,12,13,14,15,16,17,18,19,20,21,22,23,24,25,26,27,28,29,30,31,32,33,34,35,36,37,38,39],\"y\":[0.1680999994277954,0.2703000009059906,0.34630000591278076,0.41110000014305115,0.4415999948978424,0.4739999771118164,0.49779999256134033,0.5191999673843384,0.5293999910354614,0.5356999635696411,0.5622000098228455,0.5539000034332275,0.5633999705314636,0.5699999928474426,0.5967999696731567,0.5906999707221985,0.6100000143051147,0.6146999597549438,0.6161999702453613,0.6234999895095825,0.6236000061035156,0.6266999840736389,0.6323999762535095,0.6329999566078186,0.6437000036239624,0.6432999968528748,0.6496999859809875,0.6466999650001526,0.6486999988555908,0.6503999829292297,0.6492999792098999,0.6541999578475952,0.6524999737739563,0.6532999873161316,0.6525999903678894,0.6525999903678894,0.6545000076293945,0.6543999910354614,0.6556999683380127,0.6554999947547913],\"type\":\"scatter\"},{\"marker\":{\"maxdisplayed\":10},\"mode\":\"lines+markers\",\"name\":\"Trial1\",\"x\":[0,1,2,3,4,5,6,7,8,9,10,11,12,13,14,15,16,17,18,19],\"y\":[0.10459999740123749,0.15330000221729279,0.1842999905347824,0.20739999413490295,0.23510000109672546,0.2822999954223633,0.28299999237060547,0.3203999996185303,0.33409997820854187,0.352400004863739,0.3845999836921692,0.39159998297691345,0.3969999849796295,0.4136999845504761,0.42499998211860657,0.4292999804019928,0.43050000071525574,0.4350000023841858,0.4368000030517578,0.4404999911785126],\"type\":\"scatter\"},{\"marker\":{\"maxdisplayed\":10},\"mode\":\"lines+markers\",\"name\":\"Trial2\",\"x\":[0,1,2,3,4,5,6,7,8,9,10,11,12,13,14,15,16,17,18,19,20,21,22,23,24,25,26,27,28,29],\"y\":[0.13669998943805695,0.16910000145435333,0.2847000062465668,0.33889999985694885,0.3946000039577484,0.45229998230934143,0.48399999737739563,0.5062999725341797,0.5212000012397766,0.5252999663352966,0.5396000146865845,0.5620999932289124,0.5728999972343445,0.5810999870300293,0.5654000043869019,0.592799961566925,0.6014999747276306,0.5968999862670898,0.6114999651908875,0.614300012588501,0.6216999888420105,0.6291999816894531,0.6337000131607056,0.6347000002861023,0.6330999732017517,0.6378999948501587,0.6394000053405762,0.6385999917984009,0.6398000121116638,0.6398999691009521],\"type\":\"scatter\"},{\"marker\":{\"maxdisplayed\":10},\"mode\":\"lines+markers\",\"name\":\"Trial3\",\"x\":[0,1,2,3,4,5,6,7,8,9],\"y\":[0.058799996972084045,0.08889999985694885,0.1193000003695488,0.13089999556541443,0.14059999585151672,0.15029999613761902,0.15449999272823334,0.15539999306201935,0.15959998965263367,0.15809999406337738],\"type\":\"scatter\"},{\"marker\":{\"maxdisplayed\":10},\"mode\":\"lines+markers\",\"name\":\"Trial4\",\"x\":[0,1,2,3,4,5,6,7,8,9,10,11,12,13,14,15,16,17,18,19,20,21,22,23,24,25,26,27,28,29,30,31,32,33,34,35,36,37,38,39],\"y\":[0.21130000054836273,0.26260000467300415,0.35189998149871826,0.39149999618530273,0.4268999993801117,0.5112999677658081,0.4838999807834625,0.4964999854564667,0.5550999641418457,0.558899998664856,0.5724999904632568,0.5823000073432922,0.5735999941825867,0.6000999808311462,0.6013999581336975,0.6026999950408936,0.6144999861717224,0.6139000058174133,0.625,0.6351999640464783,0.6372999548912048,0.6473000049591064,0.6326999664306641,0.6547999978065491,0.6541000008583069,0.6602999567985535,0.6672999858856201,0.670699954032898,0.6699000000953674,0.676099956035614,0.6793999671936035,0.6811999678611755,0.6851999759674072,0.6845999956130981,0.6836000084877014,0.6854999661445618,0.6901999711990356,0.6900999546051025,0.6886000037193298,0.6906999945640564],\"type\":\"scatter\"},{\"marker\":{\"maxdisplayed\":10},\"mode\":\"lines+markers\",\"name\":\"Trial5\",\"x\":[0,1],\"y\":[0.07999999821186066,0.11129999905824661],\"type\":\"scatter\"},{\"marker\":{\"maxdisplayed\":10},\"mode\":\"lines+markers\",\"name\":\"Trial6\",\"x\":[0,1,2,3,4,5,6,7,8,9,10,11,12,13,14,15,16,17,18,19],\"y\":[0.17559999227523804,0.2996000051498413,0.3734000027179718,0.4536999762058258,0.46369999647140503,0.42149999737739563,0.5152999758720398,0.5501999855041504,0.5680999755859375,0.5697999596595764,0.5870999693870544,0.6064000129699707,0.6234999895095825,0.6281999945640564,0.6434999704360962,0.6525999903678894,0.6563000082969666,0.6624000072479248,0.6631999611854553,0.6625999808311462],\"type\":\"scatter\"},{\"marker\":{\"maxdisplayed\":10},\"mode\":\"lines+markers\",\"name\":\"Trial7\",\"x\":[0,1,2,3,4,5,6,7,8,9,10,11,12,13,14,15,16,17,18,19],\"y\":[0.11509999632835388,0.17309999465942383,0.22619999945163727,0.26829999685287476,0.30480000376701355,0.34869998693466187,0.3653999865055084,0.3828999996185303,0.4088999927043915,0.4373999834060669,0.4510999917984009,0.4657000005245209,0.4797999858856201,0.4845999777317047,0.4948999881744385,0.49949997663497925,0.5047000050544739,0.5077999830245972,0.5087000131607056,0.5113999843597412],\"type\":\"scatter\"},{\"marker\":{\"maxdisplayed\":10},\"mode\":\"lines+markers\",\"name\":\"Trial8\",\"x\":[0,1],\"y\":[0.060999996960163116,0.09359999746084213],\"type\":\"scatter\"},{\"marker\":{\"maxdisplayed\":10},\"mode\":\"lines+markers\",\"name\":\"Trial9\",\"x\":[0,1],\"y\":[0.12119999527931213,0.21449999511241913],\"type\":\"scatter\"},{\"marker\":{\"maxdisplayed\":10},\"mode\":\"lines+markers\",\"name\":\"Trial10\",\"x\":[0,1,2,3,4,5,6,7,8,9,10,11,12,13,14,15,16,17,18,19,20,21,22,23,24,25,26,27,28,29],\"y\":[0.1241999939084053,0.2557999789714813,0.2883000075817108,0.35089999437332153,0.4341000020503998,0.44339999556541443,0.469899982213974,0.49959999322891235,0.5320999622344971,0.5590000152587891,0.5666999816894531,0.5630999803543091,0.5476999878883362,0.574999988079071,0.5981999635696411,0.6110999584197998,0.6110999584197998,0.6096999645233154,0.6225999593734741,0.6419000029563904,0.644599974155426,0.647599995136261,0.6523000001907349,0.6535999774932861,0.6554999947547913,0.6590999960899353,0.6613999605178833,0.6639999747276306,0.6620000004768372,0.6624000072479248],\"type\":\"scatter\"},{\"marker\":{\"maxdisplayed\":10},\"mode\":\"lines+markers\",\"name\":\"Trial11\",\"x\":[0,1,2,3],\"y\":[0.04559999704360962,0.07739999890327454,0.09589999914169312,0.10669999569654465],\"type\":\"scatter\"},{\"marker\":{\"maxdisplayed\":10},\"mode\":\"lines+markers\",\"name\":\"Trial12\",\"x\":[0,1,2,3,4,5,6,7,8,9],\"y\":[0.13609999418258667,0.21139998733997345,0.28859999775886536,0.35259997844696045,0.40209999680519104,0.42329999804496765,0.45559999346733093,0.491599977016449,0.5,0.5092999935150146],\"type\":\"scatter\"},{\"marker\":{\"maxdisplayed\":10},\"mode\":\"lines+markers\",\"name\":\"Trial13\",\"x\":[0,1,2,3,4,5,6,7,8,9],\"y\":[0.16979999840259552,0.2728999853134155,0.3333999812602997,0.36789998412132263,0.41339999437332153,0.4551999866962433,0.47699999809265137,0.48420000076293945,0.5184999704360962,0.5198000073432922],\"type\":\"scatter\"},{\"marker\":{\"maxdisplayed\":10},\"mode\":\"lines+markers\",\"name\":\"Trial14\",\"x\":[0,1],\"y\":[0.06430000066757202,0.1046999990940094],\"type\":\"scatter\"},{\"marker\":{\"maxdisplayed\":10},\"mode\":\"lines+markers\",\"name\":\"Trial15\",\"x\":[0,1,2,3],\"y\":[0.2087000012397766,0.3255999982357025,0.37469998002052307,0.41769999265670776],\"type\":\"scatter\"},{\"marker\":{\"maxdisplayed\":10},\"mode\":\"lines+markers\",\"name\":\"Trial16\",\"x\":[0,1,2,3],\"y\":[0.20309999585151672,0.2833999991416931,0.35819998383522034,0.41099998354911804],\"type\":\"scatter\"},{\"marker\":{\"maxdisplayed\":10},\"mode\":\"lines+markers\",\"name\":\"Trial17\",\"x\":[0,1,2,3,4,5,6,7,8,9,10,11,12,13,14,15,16,17,18,19,20,21,22,23,24,25,26,27,28,29,30,31,32,33,34,35,36,37,38,39],\"y\":[0.18539999425411224,0.2175000011920929,0.3522000014781952,0.40869998931884766,0.46779999136924744,0.4699999988079071,0.5127999782562256,0.5022000074386597,0.530299961566925,0.5403000116348267,0.5449999570846558,0.5870999693870544,0.5625,0.5845999717712402,0.608299970626831,0.6089000105857849,0.6157999634742737,0.6176999807357788,0.6269999742507935,0.6323999762535095,0.6412000060081482,0.642799973487854,0.6506999731063843,0.6557999849319458,0.6554999947547913,0.667199969291687,0.670699954032898,0.6735999584197998,0.6750999689102173,0.6815999746322632,0.6829000115394592,0.6822999715805054,0.6832000017166138,0.6866999864578247,0.6861000061035156,0.6863999962806702,0.6869999766349792,0.6884999871253967,0.6875999569892883,0.6872999668121338],\"type\":\"scatter\"},{\"marker\":{\"maxdisplayed\":10},\"mode\":\"lines+markers\",\"name\":\"Trial18\",\"x\":[0,1,2,3],\"y\":[0.15349999070167542,0.19429999589920044,0.2646999955177307,0.31939998269081116],\"type\":\"scatter\"},{\"marker\":{\"maxdisplayed\":10},\"mode\":\"lines+markers\",\"name\":\"Trial19\",\"x\":[0,1],\"y\":[0.10769999772310257,0.19249999523162842],\"type\":\"scatter\"}],                        {\"showlegend\":false,\"title\":{\"text\":\"Intermediate Values Plot\"},\"xaxis\":{\"title\":{\"text\":\"Step\"}},\"yaxis\":{\"title\":{\"text\":\"Intermediate Value\"}},\"template\":{\"data\":{\"bar\":[{\"error_x\":{\"color\":\"#2a3f5f\"},\"error_y\":{\"color\":\"#2a3f5f\"},\"marker\":{\"line\":{\"color\":\"#E5ECF6\",\"width\":0.5},\"pattern\":{\"fillmode\":\"overlay\",\"size\":10,\"solidity\":0.2}},\"type\":\"bar\"}],\"barpolar\":[{\"marker\":{\"line\":{\"color\":\"#E5ECF6\",\"width\":0.5},\"pattern\":{\"fillmode\":\"overlay\",\"size\":10,\"solidity\":0.2}},\"type\":\"barpolar\"}],\"carpet\":[{\"aaxis\":{\"endlinecolor\":\"#2a3f5f\",\"gridcolor\":\"white\",\"linecolor\":\"white\",\"minorgridcolor\":\"white\",\"startlinecolor\":\"#2a3f5f\"},\"baxis\":{\"endlinecolor\":\"#2a3f5f\",\"gridcolor\":\"white\",\"linecolor\":\"white\",\"minorgridcolor\":\"white\",\"startlinecolor\":\"#2a3f5f\"},\"type\":\"carpet\"}],\"choropleth\":[{\"colorbar\":{\"outlinewidth\":0,\"ticks\":\"\"},\"type\":\"choropleth\"}],\"contour\":[{\"colorbar\":{\"outlinewidth\":0,\"ticks\":\"\"},\"colorscale\":[[0.0,\"#0d0887\"],[0.1111111111111111,\"#46039f\"],[0.2222222222222222,\"#7201a8\"],[0.3333333333333333,\"#9c179e\"],[0.4444444444444444,\"#bd3786\"],[0.5555555555555556,\"#d8576b\"],[0.6666666666666666,\"#ed7953\"],[0.7777777777777778,\"#fb9f3a\"],[0.8888888888888888,\"#fdca26\"],[1.0,\"#f0f921\"]],\"type\":\"contour\"}],\"contourcarpet\":[{\"colorbar\":{\"outlinewidth\":0,\"ticks\":\"\"},\"type\":\"contourcarpet\"}],\"heatmap\":[{\"colorbar\":{\"outlinewidth\":0,\"ticks\":\"\"},\"colorscale\":[[0.0,\"#0d0887\"],[0.1111111111111111,\"#46039f\"],[0.2222222222222222,\"#7201a8\"],[0.3333333333333333,\"#9c179e\"],[0.4444444444444444,\"#bd3786\"],[0.5555555555555556,\"#d8576b\"],[0.6666666666666666,\"#ed7953\"],[0.7777777777777778,\"#fb9f3a\"],[0.8888888888888888,\"#fdca26\"],[1.0,\"#f0f921\"]],\"type\":\"heatmap\"}],\"heatmapgl\":[{\"colorbar\":{\"outlinewidth\":0,\"ticks\":\"\"},\"colorscale\":[[0.0,\"#0d0887\"],[0.1111111111111111,\"#46039f\"],[0.2222222222222222,\"#7201a8\"],[0.3333333333333333,\"#9c179e\"],[0.4444444444444444,\"#bd3786\"],[0.5555555555555556,\"#d8576b\"],[0.6666666666666666,\"#ed7953\"],[0.7777777777777778,\"#fb9f3a\"],[0.8888888888888888,\"#fdca26\"],[1.0,\"#f0f921\"]],\"type\":\"heatmapgl\"}],\"histogram\":[{\"marker\":{\"pattern\":{\"fillmode\":\"overlay\",\"size\":10,\"solidity\":0.2}},\"type\":\"histogram\"}],\"histogram2d\":[{\"colorbar\":{\"outlinewidth\":0,\"ticks\":\"\"},\"colorscale\":[[0.0,\"#0d0887\"],[0.1111111111111111,\"#46039f\"],[0.2222222222222222,\"#7201a8\"],[0.3333333333333333,\"#9c179e\"],[0.4444444444444444,\"#bd3786\"],[0.5555555555555556,\"#d8576b\"],[0.6666666666666666,\"#ed7953\"],[0.7777777777777778,\"#fb9f3a\"],[0.8888888888888888,\"#fdca26\"],[1.0,\"#f0f921\"]],\"type\":\"histogram2d\"}],\"histogram2dcontour\":[{\"colorbar\":{\"outlinewidth\":0,\"ticks\":\"\"},\"colorscale\":[[0.0,\"#0d0887\"],[0.1111111111111111,\"#46039f\"],[0.2222222222222222,\"#7201a8\"],[0.3333333333333333,\"#9c179e\"],[0.4444444444444444,\"#bd3786\"],[0.5555555555555556,\"#d8576b\"],[0.6666666666666666,\"#ed7953\"],[0.7777777777777778,\"#fb9f3a\"],[0.8888888888888888,\"#fdca26\"],[1.0,\"#f0f921\"]],\"type\":\"histogram2dcontour\"}],\"mesh3d\":[{\"colorbar\":{\"outlinewidth\":0,\"ticks\":\"\"},\"type\":\"mesh3d\"}],\"parcoords\":[{\"line\":{\"colorbar\":{\"outlinewidth\":0,\"ticks\":\"\"}},\"type\":\"parcoords\"}],\"pie\":[{\"automargin\":true,\"type\":\"pie\"}],\"scatter\":[{\"marker\":{\"colorbar\":{\"outlinewidth\":0,\"ticks\":\"\"}},\"type\":\"scatter\"}],\"scatter3d\":[{\"line\":{\"colorbar\":{\"outlinewidth\":0,\"ticks\":\"\"}},\"marker\":{\"colorbar\":{\"outlinewidth\":0,\"ticks\":\"\"}},\"type\":\"scatter3d\"}],\"scattercarpet\":[{\"marker\":{\"colorbar\":{\"outlinewidth\":0,\"ticks\":\"\"}},\"type\":\"scattercarpet\"}],\"scattergeo\":[{\"marker\":{\"colorbar\":{\"outlinewidth\":0,\"ticks\":\"\"}},\"type\":\"scattergeo\"}],\"scattergl\":[{\"marker\":{\"colorbar\":{\"outlinewidth\":0,\"ticks\":\"\"}},\"type\":\"scattergl\"}],\"scattermapbox\":[{\"marker\":{\"colorbar\":{\"outlinewidth\":0,\"ticks\":\"\"}},\"type\":\"scattermapbox\"}],\"scatterpolar\":[{\"marker\":{\"colorbar\":{\"outlinewidth\":0,\"ticks\":\"\"}},\"type\":\"scatterpolar\"}],\"scatterpolargl\":[{\"marker\":{\"colorbar\":{\"outlinewidth\":0,\"ticks\":\"\"}},\"type\":\"scatterpolargl\"}],\"scatterternary\":[{\"marker\":{\"colorbar\":{\"outlinewidth\":0,\"ticks\":\"\"}},\"type\":\"scatterternary\"}],\"surface\":[{\"colorbar\":{\"outlinewidth\":0,\"ticks\":\"\"},\"colorscale\":[[0.0,\"#0d0887\"],[0.1111111111111111,\"#46039f\"],[0.2222222222222222,\"#7201a8\"],[0.3333333333333333,\"#9c179e\"],[0.4444444444444444,\"#bd3786\"],[0.5555555555555556,\"#d8576b\"],[0.6666666666666666,\"#ed7953\"],[0.7777777777777778,\"#fb9f3a\"],[0.8888888888888888,\"#fdca26\"],[1.0,\"#f0f921\"]],\"type\":\"surface\"}],\"table\":[{\"cells\":{\"fill\":{\"color\":\"#EBF0F8\"},\"line\":{\"color\":\"white\"}},\"header\":{\"fill\":{\"color\":\"#C8D4E3\"},\"line\":{\"color\":\"white\"}},\"type\":\"table\"}]},\"layout\":{\"annotationdefaults\":{\"arrowcolor\":\"#2a3f5f\",\"arrowhead\":0,\"arrowwidth\":1},\"autotypenumbers\":\"strict\",\"coloraxis\":{\"colorbar\":{\"outlinewidth\":0,\"ticks\":\"\"}},\"colorscale\":{\"diverging\":[[0,\"#8e0152\"],[0.1,\"#c51b7d\"],[0.2,\"#de77ae\"],[0.3,\"#f1b6da\"],[0.4,\"#fde0ef\"],[0.5,\"#f7f7f7\"],[0.6,\"#e6f5d0\"],[0.7,\"#b8e186\"],[0.8,\"#7fbc41\"],[0.9,\"#4d9221\"],[1,\"#276419\"]],\"sequential\":[[0.0,\"#0d0887\"],[0.1111111111111111,\"#46039f\"],[0.2222222222222222,\"#7201a8\"],[0.3333333333333333,\"#9c179e\"],[0.4444444444444444,\"#bd3786\"],[0.5555555555555556,\"#d8576b\"],[0.6666666666666666,\"#ed7953\"],[0.7777777777777778,\"#fb9f3a\"],[0.8888888888888888,\"#fdca26\"],[1.0,\"#f0f921\"]],\"sequentialminus\":[[0.0,\"#0d0887\"],[0.1111111111111111,\"#46039f\"],[0.2222222222222222,\"#7201a8\"],[0.3333333333333333,\"#9c179e\"],[0.4444444444444444,\"#bd3786\"],[0.5555555555555556,\"#d8576b\"],[0.6666666666666666,\"#ed7953\"],[0.7777777777777778,\"#fb9f3a\"],[0.8888888888888888,\"#fdca26\"],[1.0,\"#f0f921\"]]},\"colorway\":[\"#636efa\",\"#EF553B\",\"#00cc96\",\"#ab63fa\",\"#FFA15A\",\"#19d3f3\",\"#FF6692\",\"#B6E880\",\"#FF97FF\",\"#FECB52\"],\"font\":{\"color\":\"#2a3f5f\"},\"geo\":{\"bgcolor\":\"white\",\"lakecolor\":\"white\",\"landcolor\":\"#E5ECF6\",\"showlakes\":true,\"showland\":true,\"subunitcolor\":\"white\"},\"hoverlabel\":{\"align\":\"left\"},\"hovermode\":\"closest\",\"mapbox\":{\"style\":\"light\"},\"paper_bgcolor\":\"white\",\"plot_bgcolor\":\"#E5ECF6\",\"polar\":{\"angularaxis\":{\"gridcolor\":\"white\",\"linecolor\":\"white\",\"ticks\":\"\"},\"bgcolor\":\"#E5ECF6\",\"radialaxis\":{\"gridcolor\":\"white\",\"linecolor\":\"white\",\"ticks\":\"\"}},\"scene\":{\"xaxis\":{\"backgroundcolor\":\"#E5ECF6\",\"gridcolor\":\"white\",\"gridwidth\":2,\"linecolor\":\"white\",\"showbackground\":true,\"ticks\":\"\",\"zerolinecolor\":\"white\"},\"yaxis\":{\"backgroundcolor\":\"#E5ECF6\",\"gridcolor\":\"white\",\"gridwidth\":2,\"linecolor\":\"white\",\"showbackground\":true,\"ticks\":\"\",\"zerolinecolor\":\"white\"},\"zaxis\":{\"backgroundcolor\":\"#E5ECF6\",\"gridcolor\":\"white\",\"gridwidth\":2,\"linecolor\":\"white\",\"showbackground\":true,\"ticks\":\"\",\"zerolinecolor\":\"white\"}},\"shapedefaults\":{\"line\":{\"color\":\"#2a3f5f\"}},\"ternary\":{\"aaxis\":{\"gridcolor\":\"white\",\"linecolor\":\"white\",\"ticks\":\"\"},\"baxis\":{\"gridcolor\":\"white\",\"linecolor\":\"white\",\"ticks\":\"\"},\"bgcolor\":\"#E5ECF6\",\"caxis\":{\"gridcolor\":\"white\",\"linecolor\":\"white\",\"ticks\":\"\"}},\"title\":{\"x\":0.05},\"xaxis\":{\"automargin\":true,\"gridcolor\":\"white\",\"linecolor\":\"white\",\"ticks\":\"\",\"title\":{\"standoff\":15},\"zerolinecolor\":\"white\",\"zerolinewidth\":2},\"yaxis\":{\"automargin\":true,\"gridcolor\":\"white\",\"linecolor\":\"white\",\"ticks\":\"\",\"title\":{\"standoff\":15},\"zerolinecolor\":\"white\",\"zerolinewidth\":2}}}},                        {\"responsive\": true}                    ).then(function(){\n",
       "                            \n",
       "var gd = document.getElementById('1f1ea201-37bc-452d-8b0a-f8844418af92');\n",
       "var x = new MutationObserver(function (mutations, observer) {{\n",
       "        var display = window.getComputedStyle(gd).display;\n",
       "        if (!display || display === 'none') {{\n",
       "            console.log([gd, 'removed!']);\n",
       "            Plotly.purge(gd);\n",
       "            observer.disconnect();\n",
       "        }}\n",
       "}});\n",
       "\n",
       "// Listen for the removal of the full notebook cells\n",
       "var notebookContainer = gd.closest('#notebook-container');\n",
       "if (notebookContainer) {{\n",
       "    x.observe(notebookContainer, {childList: true});\n",
       "}}\n",
       "\n",
       "// Listen for the clearing of the current output cell\n",
       "var outputEl = gd.closest('.output');\n",
       "if (outputEl) {{\n",
       "    x.observe(outputEl, {childList: true});\n",
       "}}\n",
       "\n",
       "                        })                };                });            </script>        </div>"
      ]
     },
     "metadata": {},
     "output_type": "display_data"
    }
   ],
   "source": [
    "opt_viz.plot_intermediate_values(study)"
   ]
  },
  {
   "cell_type": "code",
   "execution_count": 6,
   "id": "monetary-significance",
   "metadata": {},
   "outputs": [
    {
     "data": {
      "application/vnd.plotly.v1+json": {
       "config": {
        "plotlyServerURL": "https://plot.ly"
       },
       "data": [
        {
         "dimensions": [
          {
           "label": "Objective Value",
           "range": [
            0.15809999406337738,
            0.6906999945640564
           ],
           "values": [
            0.6554999947547913,
            0.4404999911785126,
            0.6398999691009521,
            0.15809999406337738,
            0.6906999945640564,
            0.6625999808311462,
            0.5113999843597412,
            0.6624000072479248,
            0.6872999668121338
           ]
          },
          {
           "label": "batch_size",
           "range": [
            200,
            1000
           ],
           "values": [
            400,
            450,
            600,
            500,
            200,
            300,
            1000,
            600,
            300
           ]
          },
          {
           "label": "lr",
           "range": [
            0.0016,
            0.0999
           ],
           "values": [
            0.03270000000000001,
            0.005200000000000001,
            0.039200000000000006,
            0.0016,
            0.078,
            0.0795,
            0.0187,
            0.0695,
            0.0999
           ]
          },
          {
           "label": "n_epochs",
           "range": [
            10,
            40
           ],
           "values": [
            40,
            20,
            30,
            10,
            40,
            20,
            20,
            30,
            40
           ]
          }
         ],
         "labelangle": 30,
         "labelside": "bottom",
         "line": {
          "color": [
           0.6554999947547913,
           0.4404999911785126,
           0.6398999691009521,
           0.15809999406337738,
           0.6906999945640564,
           0.6625999808311462,
           0.5113999843597412,
           0.6624000072479248,
           0.6872999668121338
          ],
          "colorbar": {
           "title": {
            "text": "Objective Value"
           }
          },
          "colorscale": [
           [
            0,
            "rgb(247,251,255)"
           ],
           [
            0.125,
            "rgb(222,235,247)"
           ],
           [
            0.25,
            "rgb(198,219,239)"
           ],
           [
            0.375,
            "rgb(158,202,225)"
           ],
           [
            0.5,
            "rgb(107,174,214)"
           ],
           [
            0.625,
            "rgb(66,146,198)"
           ],
           [
            0.75,
            "rgb(33,113,181)"
           ],
           [
            0.875,
            "rgb(8,81,156)"
           ],
           [
            1,
            "rgb(8,48,107)"
           ]
          ],
          "reversescale": false,
          "showscale": true
         },
         "type": "parcoords"
        }
       ],
       "layout": {
        "autosize": true,
        "template": {
         "data": {
          "bar": [
           {
            "error_x": {
             "color": "#2a3f5f"
            },
            "error_y": {
             "color": "#2a3f5f"
            },
            "marker": {
             "line": {
              "color": "#E5ECF6",
              "width": 0.5
             },
             "pattern": {
              "fillmode": "overlay",
              "size": 10,
              "solidity": 0.2
             }
            },
            "type": "bar"
           }
          ],
          "barpolar": [
           {
            "marker": {
             "line": {
              "color": "#E5ECF6",
              "width": 0.5
             },
             "pattern": {
              "fillmode": "overlay",
              "size": 10,
              "solidity": 0.2
             }
            },
            "type": "barpolar"
           }
          ],
          "carpet": [
           {
            "aaxis": {
             "endlinecolor": "#2a3f5f",
             "gridcolor": "white",
             "linecolor": "white",
             "minorgridcolor": "white",
             "startlinecolor": "#2a3f5f"
            },
            "baxis": {
             "endlinecolor": "#2a3f5f",
             "gridcolor": "white",
             "linecolor": "white",
             "minorgridcolor": "white",
             "startlinecolor": "#2a3f5f"
            },
            "type": "carpet"
           }
          ],
          "choropleth": [
           {
            "colorbar": {
             "outlinewidth": 0,
             "ticks": ""
            },
            "type": "choropleth"
           }
          ],
          "contour": [
           {
            "colorbar": {
             "outlinewidth": 0,
             "ticks": ""
            },
            "colorscale": [
             [
              0,
              "#0d0887"
             ],
             [
              0.1111111111111111,
              "#46039f"
             ],
             [
              0.2222222222222222,
              "#7201a8"
             ],
             [
              0.3333333333333333,
              "#9c179e"
             ],
             [
              0.4444444444444444,
              "#bd3786"
             ],
             [
              0.5555555555555556,
              "#d8576b"
             ],
             [
              0.6666666666666666,
              "#ed7953"
             ],
             [
              0.7777777777777778,
              "#fb9f3a"
             ],
             [
              0.8888888888888888,
              "#fdca26"
             ],
             [
              1,
              "#f0f921"
             ]
            ],
            "type": "contour"
           }
          ],
          "contourcarpet": [
           {
            "colorbar": {
             "outlinewidth": 0,
             "ticks": ""
            },
            "type": "contourcarpet"
           }
          ],
          "heatmap": [
           {
            "colorbar": {
             "outlinewidth": 0,
             "ticks": ""
            },
            "colorscale": [
             [
              0,
              "#0d0887"
             ],
             [
              0.1111111111111111,
              "#46039f"
             ],
             [
              0.2222222222222222,
              "#7201a8"
             ],
             [
              0.3333333333333333,
              "#9c179e"
             ],
             [
              0.4444444444444444,
              "#bd3786"
             ],
             [
              0.5555555555555556,
              "#d8576b"
             ],
             [
              0.6666666666666666,
              "#ed7953"
             ],
             [
              0.7777777777777778,
              "#fb9f3a"
             ],
             [
              0.8888888888888888,
              "#fdca26"
             ],
             [
              1,
              "#f0f921"
             ]
            ],
            "type": "heatmap"
           }
          ],
          "heatmapgl": [
           {
            "colorbar": {
             "outlinewidth": 0,
             "ticks": ""
            },
            "colorscale": [
             [
              0,
              "#0d0887"
             ],
             [
              0.1111111111111111,
              "#46039f"
             ],
             [
              0.2222222222222222,
              "#7201a8"
             ],
             [
              0.3333333333333333,
              "#9c179e"
             ],
             [
              0.4444444444444444,
              "#bd3786"
             ],
             [
              0.5555555555555556,
              "#d8576b"
             ],
             [
              0.6666666666666666,
              "#ed7953"
             ],
             [
              0.7777777777777778,
              "#fb9f3a"
             ],
             [
              0.8888888888888888,
              "#fdca26"
             ],
             [
              1,
              "#f0f921"
             ]
            ],
            "type": "heatmapgl"
           }
          ],
          "histogram": [
           {
            "marker": {
             "pattern": {
              "fillmode": "overlay",
              "size": 10,
              "solidity": 0.2
             }
            },
            "type": "histogram"
           }
          ],
          "histogram2d": [
           {
            "colorbar": {
             "outlinewidth": 0,
             "ticks": ""
            },
            "colorscale": [
             [
              0,
              "#0d0887"
             ],
             [
              0.1111111111111111,
              "#46039f"
             ],
             [
              0.2222222222222222,
              "#7201a8"
             ],
             [
              0.3333333333333333,
              "#9c179e"
             ],
             [
              0.4444444444444444,
              "#bd3786"
             ],
             [
              0.5555555555555556,
              "#d8576b"
             ],
             [
              0.6666666666666666,
              "#ed7953"
             ],
             [
              0.7777777777777778,
              "#fb9f3a"
             ],
             [
              0.8888888888888888,
              "#fdca26"
             ],
             [
              1,
              "#f0f921"
             ]
            ],
            "type": "histogram2d"
           }
          ],
          "histogram2dcontour": [
           {
            "colorbar": {
             "outlinewidth": 0,
             "ticks": ""
            },
            "colorscale": [
             [
              0,
              "#0d0887"
             ],
             [
              0.1111111111111111,
              "#46039f"
             ],
             [
              0.2222222222222222,
              "#7201a8"
             ],
             [
              0.3333333333333333,
              "#9c179e"
             ],
             [
              0.4444444444444444,
              "#bd3786"
             ],
             [
              0.5555555555555556,
              "#d8576b"
             ],
             [
              0.6666666666666666,
              "#ed7953"
             ],
             [
              0.7777777777777778,
              "#fb9f3a"
             ],
             [
              0.8888888888888888,
              "#fdca26"
             ],
             [
              1,
              "#f0f921"
             ]
            ],
            "type": "histogram2dcontour"
           }
          ],
          "mesh3d": [
           {
            "colorbar": {
             "outlinewidth": 0,
             "ticks": ""
            },
            "type": "mesh3d"
           }
          ],
          "parcoords": [
           {
            "line": {
             "colorbar": {
              "outlinewidth": 0,
              "ticks": ""
             }
            },
            "type": "parcoords"
           }
          ],
          "pie": [
           {
            "automargin": true,
            "type": "pie"
           }
          ],
          "scatter": [
           {
            "marker": {
             "colorbar": {
              "outlinewidth": 0,
              "ticks": ""
             }
            },
            "type": "scatter"
           }
          ],
          "scatter3d": [
           {
            "line": {
             "colorbar": {
              "outlinewidth": 0,
              "ticks": ""
             }
            },
            "marker": {
             "colorbar": {
              "outlinewidth": 0,
              "ticks": ""
             }
            },
            "type": "scatter3d"
           }
          ],
          "scattercarpet": [
           {
            "marker": {
             "colorbar": {
              "outlinewidth": 0,
              "ticks": ""
             }
            },
            "type": "scattercarpet"
           }
          ],
          "scattergeo": [
           {
            "marker": {
             "colorbar": {
              "outlinewidth": 0,
              "ticks": ""
             }
            },
            "type": "scattergeo"
           }
          ],
          "scattergl": [
           {
            "marker": {
             "colorbar": {
              "outlinewidth": 0,
              "ticks": ""
             }
            },
            "type": "scattergl"
           }
          ],
          "scattermapbox": [
           {
            "marker": {
             "colorbar": {
              "outlinewidth": 0,
              "ticks": ""
             }
            },
            "type": "scattermapbox"
           }
          ],
          "scatterpolar": [
           {
            "marker": {
             "colorbar": {
              "outlinewidth": 0,
              "ticks": ""
             }
            },
            "type": "scatterpolar"
           }
          ],
          "scatterpolargl": [
           {
            "marker": {
             "colorbar": {
              "outlinewidth": 0,
              "ticks": ""
             }
            },
            "type": "scatterpolargl"
           }
          ],
          "scatterternary": [
           {
            "marker": {
             "colorbar": {
              "outlinewidth": 0,
              "ticks": ""
             }
            },
            "type": "scatterternary"
           }
          ],
          "surface": [
           {
            "colorbar": {
             "outlinewidth": 0,
             "ticks": ""
            },
            "colorscale": [
             [
              0,
              "#0d0887"
             ],
             [
              0.1111111111111111,
              "#46039f"
             ],
             [
              0.2222222222222222,
              "#7201a8"
             ],
             [
              0.3333333333333333,
              "#9c179e"
             ],
             [
              0.4444444444444444,
              "#bd3786"
             ],
             [
              0.5555555555555556,
              "#d8576b"
             ],
             [
              0.6666666666666666,
              "#ed7953"
             ],
             [
              0.7777777777777778,
              "#fb9f3a"
             ],
             [
              0.8888888888888888,
              "#fdca26"
             ],
             [
              1,
              "#f0f921"
             ]
            ],
            "type": "surface"
           }
          ],
          "table": [
           {
            "cells": {
             "fill": {
              "color": "#EBF0F8"
             },
             "line": {
              "color": "white"
             }
            },
            "header": {
             "fill": {
              "color": "#C8D4E3"
             },
             "line": {
              "color": "white"
             }
            },
            "type": "table"
           }
          ]
         },
         "layout": {
          "annotationdefaults": {
           "arrowcolor": "#2a3f5f",
           "arrowhead": 0,
           "arrowwidth": 1
          },
          "autotypenumbers": "strict",
          "coloraxis": {
           "colorbar": {
            "outlinewidth": 0,
            "ticks": ""
           }
          },
          "colorscale": {
           "diverging": [
            [
             0,
             "#8e0152"
            ],
            [
             0.1,
             "#c51b7d"
            ],
            [
             0.2,
             "#de77ae"
            ],
            [
             0.3,
             "#f1b6da"
            ],
            [
             0.4,
             "#fde0ef"
            ],
            [
             0.5,
             "#f7f7f7"
            ],
            [
             0.6,
             "#e6f5d0"
            ],
            [
             0.7,
             "#b8e186"
            ],
            [
             0.8,
             "#7fbc41"
            ],
            [
             0.9,
             "#4d9221"
            ],
            [
             1,
             "#276419"
            ]
           ],
           "sequential": [
            [
             0,
             "#0d0887"
            ],
            [
             0.1111111111111111,
             "#46039f"
            ],
            [
             0.2222222222222222,
             "#7201a8"
            ],
            [
             0.3333333333333333,
             "#9c179e"
            ],
            [
             0.4444444444444444,
             "#bd3786"
            ],
            [
             0.5555555555555556,
             "#d8576b"
            ],
            [
             0.6666666666666666,
             "#ed7953"
            ],
            [
             0.7777777777777778,
             "#fb9f3a"
            ],
            [
             0.8888888888888888,
             "#fdca26"
            ],
            [
             1,
             "#f0f921"
            ]
           ],
           "sequentialminus": [
            [
             0,
             "#0d0887"
            ],
            [
             0.1111111111111111,
             "#46039f"
            ],
            [
             0.2222222222222222,
             "#7201a8"
            ],
            [
             0.3333333333333333,
             "#9c179e"
            ],
            [
             0.4444444444444444,
             "#bd3786"
            ],
            [
             0.5555555555555556,
             "#d8576b"
            ],
            [
             0.6666666666666666,
             "#ed7953"
            ],
            [
             0.7777777777777778,
             "#fb9f3a"
            ],
            [
             0.8888888888888888,
             "#fdca26"
            ],
            [
             1,
             "#f0f921"
            ]
           ]
          },
          "colorway": [
           "#636efa",
           "#EF553B",
           "#00cc96",
           "#ab63fa",
           "#FFA15A",
           "#19d3f3",
           "#FF6692",
           "#B6E880",
           "#FF97FF",
           "#FECB52"
          ],
          "font": {
           "color": "#2a3f5f"
          },
          "geo": {
           "bgcolor": "white",
           "lakecolor": "white",
           "landcolor": "#E5ECF6",
           "showlakes": true,
           "showland": true,
           "subunitcolor": "white"
          },
          "hoverlabel": {
           "align": "left"
          },
          "hovermode": "closest",
          "mapbox": {
           "style": "light"
          },
          "paper_bgcolor": "white",
          "plot_bgcolor": "#E5ECF6",
          "polar": {
           "angularaxis": {
            "gridcolor": "white",
            "linecolor": "white",
            "ticks": ""
           },
           "bgcolor": "#E5ECF6",
           "radialaxis": {
            "gridcolor": "white",
            "linecolor": "white",
            "ticks": ""
           }
          },
          "scene": {
           "xaxis": {
            "backgroundcolor": "#E5ECF6",
            "gridcolor": "white",
            "gridwidth": 2,
            "linecolor": "white",
            "showbackground": true,
            "ticks": "",
            "zerolinecolor": "white"
           },
           "yaxis": {
            "backgroundcolor": "#E5ECF6",
            "gridcolor": "white",
            "gridwidth": 2,
            "linecolor": "white",
            "showbackground": true,
            "ticks": "",
            "zerolinecolor": "white"
           },
           "zaxis": {
            "backgroundcolor": "#E5ECF6",
            "gridcolor": "white",
            "gridwidth": 2,
            "linecolor": "white",
            "showbackground": true,
            "ticks": "",
            "zerolinecolor": "white"
           }
          },
          "shapedefaults": {
           "line": {
            "color": "#2a3f5f"
           }
          },
          "ternary": {
           "aaxis": {
            "gridcolor": "white",
            "linecolor": "white",
            "ticks": ""
           },
           "baxis": {
            "gridcolor": "white",
            "linecolor": "white",
            "ticks": ""
           },
           "bgcolor": "#E5ECF6",
           "caxis": {
            "gridcolor": "white",
            "linecolor": "white",
            "ticks": ""
           }
          },
          "title": {
           "x": 0.05
          },
          "xaxis": {
           "automargin": true,
           "gridcolor": "white",
           "linecolor": "white",
           "ticks": "",
           "title": {
            "standoff": 15
           },
           "zerolinecolor": "white",
           "zerolinewidth": 2
          },
          "yaxis": {
           "automargin": true,
           "gridcolor": "white",
           "linecolor": "white",
           "ticks": "",
           "title": {
            "standoff": 15
           },
           "zerolinecolor": "white",
           "zerolinewidth": 2
          }
         }
        },
        "title": {
         "text": "Parallel Coordinate Plot"
        }
       }
      },
      "image/png": "[encoded data removed]",
      "text/html": [
       "<div>                            <div id=\"fefae248-a64f-4130-9108-998b3e918828\" class=\"plotly-graph-div\" style=\"height:525px; width:100%;\"></div>            <script type=\"text/javascript\">                require([\"plotly\"], function(Plotly) {                    window.PLOTLYENV=window.PLOTLYENV || {};                                    if (document.getElementById(\"fefae248-a64f-4130-9108-998b3e918828\")) {                    Plotly.newPlot(                        \"fefae248-a64f-4130-9108-998b3e918828\",                        [{\"dimensions\":[{\"label\":\"Objective Value\",\"range\":[0.15809999406337738,0.6906999945640564],\"values\":[0.6554999947547913,0.4404999911785126,0.6398999691009521,0.15809999406337738,0.6906999945640564,0.6625999808311462,0.5113999843597412,0.6624000072479248,0.6872999668121338]},{\"label\":\"batch_size\",\"range\":[200,1000],\"values\":[400,450,600,500,200,300,1000,600,300]},{\"label\":\"lr\",\"range\":[0.0016,0.0999],\"values\":[0.03270000000000001,0.005200000000000001,0.039200000000000006,0.0016,0.078,0.0795,0.0187,0.0695,0.0999]},{\"label\":\"n_epochs\",\"range\":[10,40],\"values\":[40,20,30,10,40,20,20,30,40]}],\"labelangle\":30,\"labelside\":\"bottom\",\"line\":{\"color\":[0.6554999947547913,0.4404999911785126,0.6398999691009521,0.15809999406337738,0.6906999945640564,0.6625999808311462,0.5113999843597412,0.6624000072479248,0.6872999668121338],\"colorbar\":{\"title\":{\"text\":\"Objective Value\"}},\"colorscale\":[[0.0,\"rgb(247,251,255)\"],[0.125,\"rgb(222,235,247)\"],[0.25,\"rgb(198,219,239)\"],[0.375,\"rgb(158,202,225)\"],[0.5,\"rgb(107,174,214)\"],[0.625,\"rgb(66,146,198)\"],[0.75,\"rgb(33,113,181)\"],[0.875,\"rgb(8,81,156)\"],[1.0,\"rgb(8,48,107)\"]],\"reversescale\":false,\"showscale\":true},\"type\":\"parcoords\"}],                        {\"title\":{\"text\":\"Parallel Coordinate Plot\"},\"template\":{\"data\":{\"bar\":[{\"error_x\":{\"color\":\"#2a3f5f\"},\"error_y\":{\"color\":\"#2a3f5f\"},\"marker\":{\"line\":{\"color\":\"#E5ECF6\",\"width\":0.5},\"pattern\":{\"fillmode\":\"overlay\",\"size\":10,\"solidity\":0.2}},\"type\":\"bar\"}],\"barpolar\":[{\"marker\":{\"line\":{\"color\":\"#E5ECF6\",\"width\":0.5},\"pattern\":{\"fillmode\":\"overlay\",\"size\":10,\"solidity\":0.2}},\"type\":\"barpolar\"}],\"carpet\":[{\"aaxis\":{\"endlinecolor\":\"#2a3f5f\",\"gridcolor\":\"white\",\"linecolor\":\"white\",\"minorgridcolor\":\"white\",\"startlinecolor\":\"#2a3f5f\"},\"baxis\":{\"endlinecolor\":\"#2a3f5f\",\"gridcolor\":\"white\",\"linecolor\":\"white\",\"minorgridcolor\":\"white\",\"startlinecolor\":\"#2a3f5f\"},\"type\":\"carpet\"}],\"choropleth\":[{\"colorbar\":{\"outlinewidth\":0,\"ticks\":\"\"},\"type\":\"choropleth\"}],\"contour\":[{\"colorbar\":{\"outlinewidth\":0,\"ticks\":\"\"},\"colorscale\":[[0.0,\"#0d0887\"],[0.1111111111111111,\"#46039f\"],[0.2222222222222222,\"#7201a8\"],[0.3333333333333333,\"#9c179e\"],[0.4444444444444444,\"#bd3786\"],[0.5555555555555556,\"#d8576b\"],[0.6666666666666666,\"#ed7953\"],[0.7777777777777778,\"#fb9f3a\"],[0.8888888888888888,\"#fdca26\"],[1.0,\"#f0f921\"]],\"type\":\"contour\"}],\"contourcarpet\":[{\"colorbar\":{\"outlinewidth\":0,\"ticks\":\"\"},\"type\":\"contourcarpet\"}],\"heatmap\":[{\"colorbar\":{\"outlinewidth\":0,\"ticks\":\"\"},\"colorscale\":[[0.0,\"#0d0887\"],[0.1111111111111111,\"#46039f\"],[0.2222222222222222,\"#7201a8\"],[0.3333333333333333,\"#9c179e\"],[0.4444444444444444,\"#bd3786\"],[0.5555555555555556,\"#d8576b\"],[0.6666666666666666,\"#ed7953\"],[0.7777777777777778,\"#fb9f3a\"],[0.8888888888888888,\"#fdca26\"],[1.0,\"#f0f921\"]],\"type\":\"heatmap\"}],\"heatmapgl\":[{\"colorbar\":{\"outlinewidth\":0,\"ticks\":\"\"},\"colorscale\":[[0.0,\"#0d0887\"],[0.1111111111111111,\"#46039f\"],[0.2222222222222222,\"#7201a8\"],[0.3333333333333333,\"#9c179e\"],[0.4444444444444444,\"#bd3786\"],[0.5555555555555556,\"#d8576b\"],[0.6666666666666666,\"#ed7953\"],[0.7777777777777778,\"#fb9f3a\"],[0.8888888888888888,\"#fdca26\"],[1.0,\"#f0f921\"]],\"type\":\"heatmapgl\"}],\"histogram\":[{\"marker\":{\"pattern\":{\"fillmode\":\"overlay\",\"size\":10,\"solidity\":0.2}},\"type\":\"histogram\"}],\"histogram2d\":[{\"colorbar\":{\"outlinewidth\":0,\"ticks\":\"\"},\"colorscale\":[[0.0,\"#0d0887\"],[0.1111111111111111,\"#46039f\"],[0.2222222222222222,\"#7201a8\"],[0.3333333333333333,\"#9c179e\"],[0.4444444444444444,\"#bd3786\"],[0.5555555555555556,\"#d8576b\"],[0.6666666666666666,\"#ed7953\"],[0.7777777777777778,\"#fb9f3a\"],[0.8888888888888888,\"#fdca26\"],[1.0,\"#f0f921\"]],\"type\":\"histogram2d\"}],\"histogram2dcontour\":[{\"colorbar\":{\"outlinewidth\":0,\"ticks\":\"\"},\"colorscale\":[[0.0,\"#0d0887\"],[0.1111111111111111,\"#46039f\"],[0.2222222222222222,\"#7201a8\"],[0.3333333333333333,\"#9c179e\"],[0.4444444444444444,\"#bd3786\"],[0.5555555555555556,\"#d8576b\"],[0.6666666666666666,\"#ed7953\"],[0.7777777777777778,\"#fb9f3a\"],[0.8888888888888888,\"#fdca26\"],[1.0,\"#f0f921\"]],\"type\":\"histogram2dcontour\"}],\"mesh3d\":[{\"colorbar\":{\"outlinewidth\":0,\"ticks\":\"\"},\"type\":\"mesh3d\"}],\"parcoords\":[{\"line\":{\"colorbar\":{\"outlinewidth\":0,\"ticks\":\"\"}},\"type\":\"parcoords\"}],\"pie\":[{\"automargin\":true,\"type\":\"pie\"}],\"scatter\":[{\"marker\":{\"colorbar\":{\"outlinewidth\":0,\"ticks\":\"\"}},\"type\":\"scatter\"}],\"scatter3d\":[{\"line\":{\"colorbar\":{\"outlinewidth\":0,\"ticks\":\"\"}},\"marker\":{\"colorbar\":{\"outlinewidth\":0,\"ticks\":\"\"}},\"type\":\"scatter3d\"}],\"scattercarpet\":[{\"marker\":{\"colorbar\":{\"outlinewidth\":0,\"ticks\":\"\"}},\"type\":\"scattercarpet\"}],\"scattergeo\":[{\"marker\":{\"colorbar\":{\"outlinewidth\":0,\"ticks\":\"\"}},\"type\":\"scattergeo\"}],\"scattergl\":[{\"marker\":{\"colorbar\":{\"outlinewidth\":0,\"ticks\":\"\"}},\"type\":\"scattergl\"}],\"scattermapbox\":[{\"marker\":{\"colorbar\":{\"outlinewidth\":0,\"ticks\":\"\"}},\"type\":\"scattermapbox\"}],\"scatterpolar\":[{\"marker\":{\"colorbar\":{\"outlinewidth\":0,\"ticks\":\"\"}},\"type\":\"scatterpolar\"}],\"scatterpolargl\":[{\"marker\":{\"colorbar\":{\"outlinewidth\":0,\"ticks\":\"\"}},\"type\":\"scatterpolargl\"}],\"scatterternary\":[{\"marker\":{\"colorbar\":{\"outlinewidth\":0,\"ticks\":\"\"}},\"type\":\"scatterternary\"}],\"surface\":[{\"colorbar\":{\"outlinewidth\":0,\"ticks\":\"\"},\"colorscale\":[[0.0,\"#0d0887\"],[0.1111111111111111,\"#46039f\"],[0.2222222222222222,\"#7201a8\"],[0.3333333333333333,\"#9c179e\"],[0.4444444444444444,\"#bd3786\"],[0.5555555555555556,\"#d8576b\"],[0.6666666666666666,\"#ed7953\"],[0.7777777777777778,\"#fb9f3a\"],[0.8888888888888888,\"#fdca26\"],[1.0,\"#f0f921\"]],\"type\":\"surface\"}],\"table\":[{\"cells\":{\"fill\":{\"color\":\"#EBF0F8\"},\"line\":{\"color\":\"white\"}},\"header\":{\"fill\":{\"color\":\"#C8D4E3\"},\"line\":{\"color\":\"white\"}},\"type\":\"table\"}]},\"layout\":{\"annotationdefaults\":{\"arrowcolor\":\"#2a3f5f\",\"arrowhead\":0,\"arrowwidth\":1},\"autotypenumbers\":\"strict\",\"coloraxis\":{\"colorbar\":{\"outlinewidth\":0,\"ticks\":\"\"}},\"colorscale\":{\"diverging\":[[0,\"#8e0152\"],[0.1,\"#c51b7d\"],[0.2,\"#de77ae\"],[0.3,\"#f1b6da\"],[0.4,\"#fde0ef\"],[0.5,\"#f7f7f7\"],[0.6,\"#e6f5d0\"],[0.7,\"#b8e186\"],[0.8,\"#7fbc41\"],[0.9,\"#4d9221\"],[1,\"#276419\"]],\"sequential\":[[0.0,\"#0d0887\"],[0.1111111111111111,\"#46039f\"],[0.2222222222222222,\"#7201a8\"],[0.3333333333333333,\"#9c179e\"],[0.4444444444444444,\"#bd3786\"],[0.5555555555555556,\"#d8576b\"],[0.6666666666666666,\"#ed7953\"],[0.7777777777777778,\"#fb9f3a\"],[0.8888888888888888,\"#fdca26\"],[1.0,\"#f0f921\"]],\"sequentialminus\":[[0.0,\"#0d0887\"],[0.1111111111111111,\"#46039f\"],[0.2222222222222222,\"#7201a8\"],[0.3333333333333333,\"#9c179e\"],[0.4444444444444444,\"#bd3786\"],[0.5555555555555556,\"#d8576b\"],[0.6666666666666666,\"#ed7953\"],[0.7777777777777778,\"#fb9f3a\"],[0.8888888888888888,\"#fdca26\"],[1.0,\"#f0f921\"]]},\"colorway\":[\"#636efa\",\"#EF553B\",\"#00cc96\",\"#ab63fa\",\"#FFA15A\",\"#19d3f3\",\"#FF6692\",\"#B6E880\",\"#FF97FF\",\"#FECB52\"],\"font\":{\"color\":\"#2a3f5f\"},\"geo\":{\"bgcolor\":\"white\",\"lakecolor\":\"white\",\"landcolor\":\"#E5ECF6\",\"showlakes\":true,\"showland\":true,\"subunitcolor\":\"white\"},\"hoverlabel\":{\"align\":\"left\"},\"hovermode\":\"closest\",\"mapbox\":{\"style\":\"light\"},\"paper_bgcolor\":\"white\",\"plot_bgcolor\":\"#E5ECF6\",\"polar\":{\"angularaxis\":{\"gridcolor\":\"white\",\"linecolor\":\"white\",\"ticks\":\"\"},\"bgcolor\":\"#E5ECF6\",\"radialaxis\":{\"gridcolor\":\"white\",\"linecolor\":\"white\",\"ticks\":\"\"}},\"scene\":{\"xaxis\":{\"backgroundcolor\":\"#E5ECF6\",\"gridcolor\":\"white\",\"gridwidth\":2,\"linecolor\":\"white\",\"showbackground\":true,\"ticks\":\"\",\"zerolinecolor\":\"white\"},\"yaxis\":{\"backgroundcolor\":\"#E5ECF6\",\"gridcolor\":\"white\",\"gridwidth\":2,\"linecolor\":\"white\",\"showbackground\":true,\"ticks\":\"\",\"zerolinecolor\":\"white\"},\"zaxis\":{\"backgroundcolor\":\"#E5ECF6\",\"gridcolor\":\"white\",\"gridwidth\":2,\"linecolor\":\"white\",\"showbackground\":true,\"ticks\":\"\",\"zerolinecolor\":\"white\"}},\"shapedefaults\":{\"line\":{\"color\":\"#2a3f5f\"}},\"ternary\":{\"aaxis\":{\"gridcolor\":\"white\",\"linecolor\":\"white\",\"ticks\":\"\"},\"baxis\":{\"gridcolor\":\"white\",\"linecolor\":\"white\",\"ticks\":\"\"},\"bgcolor\":\"#E5ECF6\",\"caxis\":{\"gridcolor\":\"white\",\"linecolor\":\"white\",\"ticks\":\"\"}},\"title\":{\"x\":0.05},\"xaxis\":{\"automargin\":true,\"gridcolor\":\"white\",\"linecolor\":\"white\",\"ticks\":\"\",\"title\":{\"standoff\":15},\"zerolinecolor\":\"white\",\"zerolinewidth\":2},\"yaxis\":{\"automargin\":true,\"gridcolor\":\"white\",\"linecolor\":\"white\",\"ticks\":\"\",\"title\":{\"standoff\":15},\"zerolinecolor\":\"white\",\"zerolinewidth\":2}}}},                        {\"responsive\": true}                    ).then(function(){\n",
       "                            \n",
       "var gd = document.getElementById('fefae248-a64f-4130-9108-998b3e918828');\n",
       "var x = new MutationObserver(function (mutations, observer) {{\n",
       "        var display = window.getComputedStyle(gd).display;\n",
       "        if (!display || display === 'none') {{\n",
       "            console.log([gd, 'removed!']);\n",
       "            Plotly.purge(gd);\n",
       "            observer.disconnect();\n",
       "        }}\n",
       "}});\n",
       "\n",
       "// Listen for the removal of the full notebook cells\n",
       "var notebookContainer = gd.closest('#notebook-container');\n",
       "if (notebookContainer) {{\n",
       "    x.observe(notebookContainer, {childList: true});\n",
       "}}\n",
       "\n",
       "// Listen for the clearing of the current output cell\n",
       "var outputEl = gd.closest('.output');\n",
       "if (outputEl) {{\n",
       "    x.observe(outputEl, {childList: true});\n",
       "}}\n",
       "\n",
       "                        })                };                });            </script>        </div>"
      ]
     },
     "metadata": {},
     "output_type": "display_data"
    }
   ],
   "source": [
    "opt_viz.plot_parallel_coordinate(study)"
   ]
  },
  {
   "cell_type": "markdown",
   "id": "right-parent",
   "metadata": {},
   "source": [
    "# 2. Single-node Multi-GPU \n",
    "- Run each trial on a separate GPU on the same machine.\n",
    "- Parallelise training such that every trial/GPU is a different process.\n",
    "- Optuna makes things easy since it stores results in a db, making it safe for processes to read/write.\n",
    "- Each process will be a worker with a dedicated GPU. It will parallel run the study and communicating to the db."
   ]
  },
  {
   "cell_type": "code",
   "execution_count": 57,
   "id": "infectious-algorithm",
   "metadata": {},
   "outputs": [],
   "source": [
    "def gpu_count() -> int:\n",
    "    \"\"\"Get the number of gpus\"\"\"\n",
    "    res = subprocess.check_output([\"nvidia-smi\", \"--list-gpus\"]).decode().split(\"\\n\")\n",
    "    res = len(res) - 1  # last \\n dont count\n",
    "    return res\n",
    "\n",
    "\n",
    "def run_parallel_study(study_name: str=None, n_trials: int=20, **kwargs):\n",
    "    study = optuna.create_study(\n",
    "        study_name=study_name, \n",
    "        storage=\"sqlite:///example.db\",\n",
    "        pruner=optuna.pruners.HyperbandPruner(), \n",
    "        direction=\"maximize\"\n",
    "    )\n",
    "    \n",
    "    n_gpus = gpu_count()\n",
    "    parallel = joblib.Parallel(n_jobs=n_gpus)\n",
    "    parallel([joblib.delayed(run_study)(study_name=study.study_name, n_trials=n_trials//n_gpus, device=f\"cuda:{i}\", **kwargs) for i in range(n_gpus)])\n",
    "    return study"
   ]
  },
  {
   "cell_type": "code",
   "execution_count": 58,
   "id": "crazy-medicare",
   "metadata": {},
   "outputs": [
    {
     "name": "stderr",
     "output_type": "stream",
     "text": [
      "\u001b[32m[I 2022-05-04 18:20:19,154]\u001b[0m A new study created in RDB with name: no-name-bf041c59-0959-4ec0-b41f-4fe81ec6572f\u001b[0m\n"
     ]
    }
   ],
   "source": [
    "study = run_parallel_study(n_trials=50, n_epochs=\"20:200:10\", batch_size=\"50:1000:50\", lr=\"1e-4:1e-1:1e-4\")"
   ]
  },
  {
   "cell_type": "code",
   "execution_count": 60,
   "id": "prospective-death",
   "metadata": {},
   "outputs": [
    {
     "data": {
      "application/vnd.plotly.v1+json": {
       "config": {
        "plotlyServerURL": "https://plot.ly"
       },
       "data": [
        {
         "marker": {
          "maxdisplayed": 10
         },
         "mode": "lines+markers",
         "name": "Trial0",
         "type": "scatter",
         "x": [
          0,
          1,
          2,
          3,
          4,
          5,
          6,
          7,
          8,
          9,
          10,
          11,
          12,
          13,
          14,
          15,
          16,
          17,
          18,
          19,
          20,
          21,
          22,
          23,
          24,
          25,
          26,
          27
         ],
         "y": [
          0.15479999780654907,
          0.22299998998641968,
          0.33489999175071716,
          0.36409997940063477,
          0.39479997754096985,
          0.44419997930526733,
          0.46609997749328613,
          0.4724999964237213,
          0.5033000111579895,
          0.5309999585151672,
          0.5299999713897705,
          0.5313999652862549,
          0.5455999970436096,
          0.5636999607086182,
          0.5853999853134155,
          0.578499972820282,
          0.5687999725341797,
          0.5837000012397766,
          0.5615000128746033,
          0.5813999772071838,
          0.5896999835968018,
          0.5965999960899353,
          0.5893999934196472,
          0.5949999690055847,
          0.6089999675750732,
          0.6008999943733215,
          0.6078999638557434,
          0.6022999882698059
         ]
        },
        {
         "marker": {
          "maxdisplayed": 10
         },
         "mode": "lines+markers",
         "name": "Trial1",
         "type": "scatter",
         "x": [
          0,
          1,
          2,
          3,
          4,
          5,
          6,
          7,
          8,
          9,
          10,
          11,
          12,
          13,
          14,
          15,
          16,
          17,
          18,
          19,
          20
         ],
         "y": [
          0.14899998903274536,
          0.3050000071525574,
          0.3880999982357025,
          0.40619999170303345,
          0.45809999108314514,
          0.5011999607086182,
          0.4992999732494354,
          0.5263000130653381,
          0.5338000059127808,
          0.5148999691009521,
          0.5676999688148499,
          0.5631999969482422,
          0.5722999572753906,
          0.5726000070571899,
          0.5861999988555908,
          0.573199987411499,
          0.5855000019073486,
          0.5988999605178833,
          0.6032999753952026,
          0.6060999631881714,
          0.6021999716758728
         ]
        },
        {
         "marker": {
          "maxdisplayed": 10
         },
         "mode": "lines+markers",
         "name": "Trial2",
         "type": "scatter",
         "x": [
          0,
          1,
          2,
          3,
          4,
          5,
          6,
          7,
          8,
          9,
          10,
          11
         ],
         "y": [
          0.19189999997615814,
          0.30859997868537903,
          0.3926999866962433,
          0.4018999934196472,
          0.4634999930858612,
          0.4893999993801117,
          0.5273000001907349,
          0.5241999626159668,
          0.5361999869346619,
          0.5414999723434448,
          0.5679999589920044,
          0.5857999920845032
         ]
        },
        {
         "marker": {
          "maxdisplayed": 10
         },
         "mode": "lines+markers",
         "name": "Trial3",
         "type": "scatter",
         "x": [
          0,
          1,
          2,
          3,
          4,
          5,
          6,
          7,
          8,
          9,
          10,
          11,
          12,
          13,
          14,
          15,
          16,
          17,
          18,
          19
         ],
         "y": [
          0.1257999986410141,
          0.21649999916553497,
          0.322299987077713,
          0.3734000027179718,
          0.3986999988555908,
          0.46059998869895935,
          0.47099998593330383,
          0.5048999786376953,
          0.5216000080108643,
          0.5421000123023987,
          0.5501999855041504,
          0.5655999779701233,
          0.5810999870300293,
          0.5889999866485596,
          0.600600004196167,
          0.6039999723434448,
          0.6097999811172485,
          0.6158999800682068,
          0.6175000071525574,
          0.6196999549865723
         ]
        },
        {
         "marker": {
          "maxdisplayed": 10
         },
         "mode": "lines+markers",
         "name": "Trial4",
         "type": "scatter",
         "x": [
          0,
          1,
          2,
          3,
          4,
          5,
          6,
          7,
          8,
          9,
          10,
          11,
          12,
          13,
          14,
          15,
          16,
          17,
          18,
          19,
          20,
          21,
          22,
          23,
          24,
          25,
          26,
          27,
          28,
          29,
          30,
          31,
          32,
          33,
          34,
          35,
          36,
          37,
          38,
          39,
          40,
          41,
          42,
          43,
          44,
          45,
          46,
          47,
          48,
          49,
          50,
          51,
          52,
          53,
          54,
          55,
          56,
          57,
          58,
          59,
          60,
          61,
          62,
          63,
          64,
          65,
          66,
          67,
          68,
          69,
          70,
          71,
          72,
          73,
          74,
          75,
          76,
          77,
          78,
          79,
          80,
          81,
          82,
          83,
          84,
          85,
          86,
          87,
          88,
          89,
          90,
          91,
          92,
          93,
          94,
          95,
          96,
          97,
          98,
          99,
          100,
          101,
          102,
          103,
          104,
          105,
          106,
          107,
          108,
          109,
          110,
          111,
          112,
          113,
          114,
          115,
          116,
          117,
          118,
          119,
          120,
          121,
          122,
          123,
          124,
          125,
          126,
          127,
          128,
          129
         ],
         "y": [
          0.13169999420642853,
          0.2434999942779541,
          0.33009999990463257,
          0.3788999915122986,
          0.429099977016449,
          0.43629997968673706,
          0.4569000005722046,
          0.503600001335144,
          0.5036999583244324,
          0.5364999771118164,
          0.5360000133514404,
          0.5216000080108643,
          0.5331000089645386,
          0.5763999819755554,
          0.5806999802589417,
          0.5751000046730042,
          0.5940999984741211,
          0.5666999816894531,
          0.5946999788284302,
          0.5841000080108643,
          0.5848999619483948,
          0.6072999835014343,
          0.6122999787330627,
          0.602400004863739,
          0.6031000018119812,
          0.6175000071525574,
          0.616599977016449,
          0.6097999811172485,
          0.60589998960495,
          0.6258999705314636,
          0.6286999583244324,
          0.6266999840736389,
          0.6229000091552734,
          0.6403999924659729,
          0.6279999613761902,
          0.6370999813079834,
          0.6353999972343445,
          0.6417999863624573,
          0.6378999948501587,
          0.6444999575614929,
          0.6438999772071838,
          0.6500999927520752,
          0.6534000039100647,
          0.647599995136261,
          0.6453999876976013,
          0.6541000008583069,
          0.6514999866485596,
          0.6647999882698059,
          0.6599999666213989,
          0.6657999753952026,
          0.6617000102996826,
          0.6661999821662903,
          0.6662999987602234,
          0.6712999939918518,
          0.6710999608039856,
          0.6717999577522278,
          0.6777999997138977,
          0.6754999756813049,
          0.6784999966621399,
          0.677299976348877,
          0.674299955368042,
          0.6811999678611755,
          0.6811999678611755,
          0.682699978351593,
          0.6805999875068665,
          0.6869999766349792,
          0.6872999668121338,
          0.684499979019165,
          0.6854000091552734,
          0.6859999895095825,
          0.6852999925613403,
          0.6886000037193298,
          0.6876999735832214,
          0.6879000067710876,
          0.6886000037193298,
          0.6875999569892883,
          0.6904999613761902,
          0.6901999711990356,
          0.6862999796867371,
          0.6875,
          0.687999963760376,
          0.6890000104904175,
          0.6906999945640564,
          0.6906999945640564,
          0.6898999810218811,
          0.6905999779701233,
          0.689300000667572,
          0.6924999952316284,
          0.6897000074386597,
          0.6913999915122986,
          0.6923999786376953,
          0.6934999823570251,
          0.6906999945640564,
          0.6899999976158142,
          0.6916999816894531,
          0.6934999823570251,
          0.6913999915122986,
          0.6915000081062317,
          0.6922000050544739,
          0.6919999718666077,
          0.6913999915122986,
          0.6926000118255615,
          0.6909999847412109,
          0.6922999620437622,
          0.691100001335144,
          0.6913999915122986,
          0.6915000081062317,
          0.6904999613761902,
          0.6902999877929688,
          0.6902999877929688,
          0.6923999786376953,
          0.6908999681472778,
          0.6909999847412109,
          0.6904999613761902,
          0.6920999884605408,
          0.6917999982833862,
          0.6908000111579895,
          0.6912999749183655,
          0.6912999749183655,
          0.69159996509552,
          0.6912999749183655,
          0.69159996509552,
          0.6918999552726746,
          0.6908999681472778,
          0.6905999779701233,
          0.6912999749183655,
          0.6920999884605408,
          0.6918999552726746,
          0.6917999982833862,
          0.6906999945640564
         ]
        },
        {
         "marker": {
          "maxdisplayed": 10
         },
         "mode": "lines+markers",
         "name": "Trial5",
         "type": "scatter",
         "x": [
          0,
          1,
          2,
          3,
          4,
          5,
          6,
          7,
          8,
          9,
          10,
          11,
          12,
          13,
          14,
          15,
          16,
          17,
          18,
          19,
          20,
          21,
          22,
          23,
          24,
          25,
          26,
          27,
          28,
          29,
          30,
          31,
          32,
          33,
          34,
          35,
          36,
          37,
          38,
          39,
          40,
          41,
          42,
          43,
          44,
          45,
          46,
          47,
          48,
          49,
          50,
          51,
          52,
          53,
          54,
          55,
          56,
          57,
          58,
          59,
          60,
          61,
          62,
          63,
          64,
          65,
          66,
          67,
          68,
          69,
          70,
          71,
          72,
          73,
          74,
          75,
          76,
          77,
          78,
          79,
          80,
          81,
          82,
          83,
          84,
          85,
          86,
          87,
          88,
          89,
          90,
          91,
          92,
          93,
          94,
          95,
          96,
          97,
          98,
          99
         ],
         "y": [
          0.07750000059604645,
          0.12229999899864197,
          0.1459999978542328,
          0.17329999804496765,
          0.19589999318122864,
          0.21859999001026154,
          0.23969998955726624,
          0.2522999942302704,
          0.2732999920845032,
          0.29409998655319214,
          0.30859997868537903,
          0.321399986743927,
          0.3254999816417694,
          0.31439998745918274,
          0.3392999768257141,
          0.3726999759674072,
          0.38760000467300415,
          0.39819997549057007,
          0.4009999930858612,
          0.4171999990940094,
          0.40469998121261597,
          0.42579999566078186,
          0.4339999854564667,
          0.44749999046325684,
          0.4493999779224396,
          0.45239999890327454,
          0.4684999883174896,
          0.46140000224113464,
          0.4724999964237213,
          0.4781999886035919,
          0.4821999967098236,
          0.495199978351593,
          0.49399998784065247,
          0.5009999871253967,
          0.5041999816894531,
          0.5069999694824219,
          0.5115000009536743,
          0.5101000070571899,
          0.517799973487854,
          0.5198000073432922,
          0.5231999754905701,
          0.5267999768257141,
          0.5254999995231628,
          0.5234000086784363,
          0.5324000120162964,
          0.5313000082969666,
          0.5309999585151672,
          0.5390999913215637,
          0.5462999939918518,
          0.5424999594688416,
          0.5346999764442444,
          0.5419999957084656,
          0.5401999950408936,
          0.5454999804496765,
          0.5471000075340271,
          0.5479999780654907,
          0.5503000020980835,
          0.5425999760627747,
          0.548799991607666,
          0.5514999628067017,
          0.5482000112533569,
          0.5496999621391296,
          0.5508999824523926,
          0.5526999831199646,
          0.5539000034332275,
          0.553600013256073,
          0.5532999634742737,
          0.5509999990463257,
          0.5539999604225159,
          0.5552999973297119,
          0.5546999573707581,
          0.5566999912261963,
          0.5551999807357788,
          0.5605999827384949,
          0.5584999918937683,
          0.5561999678611755,
          0.5554999709129333,
          0.557699978351593,
          0.5564000010490417,
          0.5597000122070312,
          0.5564000010490417,
          0.5597000122070312,
          0.5597999691963196,
          0.5622000098228455,
          0.5612999796867371,
          0.5609999895095825,
          0.5597000122070312,
          0.5601999759674072,
          0.5605999827384949,
          0.5604000091552734,
          0.560699999332428,
          0.560699999332428,
          0.5620999932289124,
          0.5615000128746033,
          0.5604999661445618,
          0.5620999932289124,
          0.5608999729156494,
          0.5607999563217163,
          0.5616999864578247,
          0.5593999624252319
         ]
        },
        {
         "marker": {
          "maxdisplayed": 10
         },
         "mode": "lines+markers",
         "name": "Trial6",
         "type": "scatter",
         "x": [
          0,
          1,
          2,
          3,
          4,
          5,
          6,
          7,
          8,
          9,
          10,
          11,
          12,
          13,
          14,
          15,
          16,
          17,
          18,
          19,
          20,
          21,
          22,
          23,
          24,
          25,
          26,
          27,
          28,
          29,
          30,
          31,
          32,
          33,
          34,
          35,
          36,
          37,
          38,
          39,
          40,
          41,
          42,
          43,
          44,
          45,
          46,
          47,
          48,
          49,
          50,
          51,
          52,
          53,
          54,
          55,
          56,
          57,
          58,
          59
         ],
         "y": [
          0.15940000116825104,
          0.30889999866485596,
          0.3351999819278717,
          0.3577999770641327,
          0.4667999744415283,
          0.44439998269081116,
          0.5164999961853027,
          0.5170999765396118,
          0.5109999775886536,
          0.5378000140190125,
          0.5426999926567078,
          0.5895000100135803,
          0.5857999920845032,
          0.5422999858856201,
          0.5977999567985535,
          0.6029999852180481,
          0.592199981212616,
          0.6105999946594238,
          0.6010000109672546,
          0.6152999997138977,
          0.6096999645233154,
          0.6189999580383301,
          0.6218000054359436,
          0.6365999579429626,
          0.6327999830245972,
          0.6358000040054321,
          0.6435999870300293,
          0.648099958896637,
          0.6482999920845032,
          0.6417999863624573,
          0.648099958896637,
          0.6559000015258789,
          0.6590999960899353,
          0.6577999591827393,
          0.6678999662399292,
          0.667199969291687,
          0.6656000018119812,
          0.6696000099182129,
          0.674299955368042,
          0.6735000014305115,
          0.6764000058174133,
          0.675599992275238,
          0.6758999824523926,
          0.6765999794006348,
          0.6751999855041504,
          0.6797999739646912,
          0.6789000034332275,
          0.6765999794006348,
          0.6798999905586243,
          0.6797999739646912,
          0.6802999973297119,
          0.6804999709129333,
          0.6787999868392944,
          0.6793999671936035,
          0.6789000034332275,
          0.6783999800682068,
          0.6793000102043152,
          0.6793999671936035,
          0.6796000003814697,
          0.6793000102043152
         ]
        },
        {
         "marker": {
          "maxdisplayed": 10
         },
         "mode": "lines+markers",
         "name": "Trial7",
         "type": "scatter",
         "x": [
          0,
          1,
          2,
          3,
          4,
          5,
          6,
          7,
          8,
          9,
          10,
          11,
          12,
          13,
          14,
          15,
          16,
          17,
          18,
          19,
          20,
          21,
          22,
          23,
          24,
          25,
          26,
          27,
          28,
          29,
          30,
          31,
          32,
          33,
          34,
          35,
          36,
          37,
          38,
          39,
          40,
          41,
          42,
          43,
          44,
          45,
          46,
          47,
          48,
          49,
          50,
          51,
          52,
          53,
          54,
          55,
          56,
          57,
          58,
          59,
          60,
          61,
          62,
          63,
          64,
          65,
          66,
          67,
          68,
          69,
          70,
          71,
          72,
          73,
          74,
          75,
          76,
          77,
          78,
          79,
          80,
          81,
          82,
          83,
          84,
          85,
          86,
          87,
          88,
          89,
          90,
          91,
          92,
          93,
          94,
          95,
          96,
          97,
          98,
          99,
          100,
          101,
          102,
          103,
          104,
          105,
          106,
          107,
          108,
          109,
          110,
          111,
          112,
          113,
          114,
          115,
          116,
          117,
          118,
          119
         ],
         "y": [
          0.19119998812675476,
          0.29350000619888306,
          0.3571999967098236,
          0.40049999952316284,
          0.47509998083114624,
          0.5012999773025513,
          0.4870999753475189,
          0.5437999963760376,
          0.5514000058174133,
          0.5442999601364136,
          0.5825999975204468,
          0.5807999968528748,
          0.5879999995231628,
          0.5963000059127808,
          0.6018999814987183,
          0.5857999920845032,
          0.5950999855995178,
          0.6177999973297119,
          0.6189000010490417,
          0.5942999720573425,
          0.6128000020980835,
          0.6101999878883362,
          0.6315999627113342,
          0.6121000051498413,
          0.6180999875068665,
          0.6258999705314636,
          0.6116999983787537,
          0.6259999871253967,
          0.6358000040054321,
          0.6355999708175659,
          0.6327999830245972,
          0.6401999592781067,
          0.6499999761581421,
          0.647599995136261,
          0.64410001039505,
          0.6462999582290649,
          0.6592000126838684,
          0.6477000117301941,
          0.6491999626159668,
          0.648099958896637,
          0.6561999917030334,
          0.65829998254776,
          0.6633999943733215,
          0.6589999794960022,
          0.6588000059127808,
          0.6644999980926514,
          0.6746999621391296,
          0.6686999797821045,
          0.6703000068664551,
          0.6786999702453613,
          0.6751999855041504,
          0.675000011920929,
          0.677899956703186,
          0.6786999702453613,
          0.6822999715805054,
          0.6869999766349792,
          0.6807000041007996,
          0.6829000115394592,
          0.6850999593734741,
          0.6843000054359436,
          0.6857999563217163,
          0.6843999624252319,
          0.6882999539375305,
          0.6886999607086182,
          0.693399965763092,
          0.6915000081062317,
          0.6924999952316284,
          0.6922000050544739,
          0.6920999884605408,
          0.6926000118255615,
          0.6962999701499939,
          0.6941999793052673,
          0.6947999596595764,
          0.6940000057220459,
          0.6951999664306641,
          0.6974999904632568,
          0.6952999830245972,
          0.6961999535560608,
          0.6967999935150146,
          0.6985999941825867,
          0.6947999596595764,
          0.6980999708175659,
          0.6972000002861023,
          0.6977999806404114,
          0.6983999609947205,
          0.6998999714851379,
          0.6976999640464783,
          0.6979999542236328,
          0.6973999738693237,
          0.6978999972343445,
          0.6990000009536743,
          0.6977999806404114,
          0.6991999745368958,
          0.6972000002861023,
          0.6966999769210815,
          0.6970999836921692,
          0.6987999677658081,
          0.6978999972343445,
          0.6983000040054321,
          0.6972999572753906,
          0.6972999572753906,
          0.6976000070571899,
          0.6983999609947205,
          0.6976000070571899,
          0.6980999708175659,
          0.6983999609947205,
          0.6965999603271484,
          0.6978999972343445,
          0.6979999542236328,
          0.6987999677658081,
          0.7001000046730042,
          0.6980999708175659,
          0.6980999708175659,
          0.698199987411499,
          0.6977999806404114,
          0.6969999670982361,
          0.6990000009536743,
          0.6997999548912048,
          0.6987999677658081,
          0.698199987411499
         ]
        },
        {
         "marker": {
          "maxdisplayed": 10
         },
         "mode": "lines+markers",
         "name": "Trial8",
         "type": "scatter",
         "x": [
          0,
          1,
          2,
          3
         ],
         "y": [
          0.20179998874664307,
          0.3008999824523926,
          0.3498999774456024,
          0.4212999939918518
         ]
        },
        {
         "marker": {
          "maxdisplayed": 10
         },
         "mode": "lines+markers",
         "name": "Trial9",
         "type": "scatter",
         "x": [
          0,
          1
         ],
         "y": [
          0.20029999315738678,
          0.28849998116493225
         ]
        },
        {
         "marker": {
          "maxdisplayed": 10
         },
         "mode": "lines+markers",
         "name": "Trial10",
         "type": "scatter",
         "x": [
          0,
          1
         ],
         "y": [
          0.12950000166893005,
          0.1947999894618988
         ]
        },
        {
         "marker": {
          "maxdisplayed": 10
         },
         "mode": "lines+markers",
         "name": "Trial11",
         "type": "scatter",
         "x": [
          0,
          1
         ],
         "y": [
          0.16899999976158142,
          0.2849999964237213
         ]
        },
        {
         "marker": {
          "maxdisplayed": 10
         },
         "mode": "lines+markers",
         "name": "Trial12",
         "type": "scatter",
         "x": [
          0,
          1,
          2,
          3,
          4,
          5,
          6,
          7,
          8,
          9
         ],
         "y": [
          0.09649999439716339,
          0.14669999480247498,
          0.24799999594688416,
          0.3337000012397766,
          0.3540000021457672,
          0.41279998421669006,
          0.41110000014305115,
          0.4488999843597412,
          0.4368000030517578,
          0.4512999951839447
         ]
        },
        {
         "marker": {
          "maxdisplayed": 10
         },
         "mode": "lines+markers",
         "name": "Trial13",
         "type": "scatter",
         "x": [
          0,
          1
         ],
         "y": [
          0.15799999237060547,
          0.2602999806404114
         ]
        },
        {
         "marker": {
          "maxdisplayed": 10
         },
         "mode": "lines+markers",
         "name": "Trial14",
         "type": "scatter",
         "x": [
          0,
          1,
          2,
          3
         ],
         "y": [
          0.10269999504089355,
          0.15049999952316284,
          0.18729999661445618,
          0.21239998936653137
         ]
        },
        {
         "marker": {
          "maxdisplayed": 10
         },
         "mode": "lines+markers",
         "name": "Trial15",
         "type": "scatter",
         "x": [
          0,
          1,
          2,
          3,
          4,
          5,
          6,
          7,
          8,
          9,
          10,
          11,
          12,
          13,
          14,
          15,
          16,
          17,
          18,
          19,
          20,
          21,
          22,
          23,
          24,
          25,
          26,
          27,
          28,
          29,
          30,
          31,
          32,
          33,
          34,
          35,
          36,
          37,
          38,
          39,
          40,
          41,
          42,
          43,
          44,
          45,
          46,
          47,
          48,
          49,
          50,
          51,
          52,
          53,
          54,
          55,
          56,
          57,
          58,
          59,
          60,
          61,
          62,
          63,
          64,
          65,
          66,
          67,
          68,
          69,
          70,
          71,
          72,
          73,
          74,
          75,
          76,
          77,
          78,
          79
         ],
         "y": [
          0.18969999253749847,
          0.2712000012397766,
          0.34779998660087585,
          0.39579999446868896,
          0.44929999113082886,
          0.487199991941452,
          0.5018999576568604,
          0.5252000093460083,
          0.5428999662399292,
          0.5304999947547913,
          0.5633999705314636,
          0.5755000114440918,
          0.5648999810218811,
          0.5819999575614929,
          0.5917999744415283,
          0.6031000018119812,
          0.5945999622344971,
          0.6075999736785889,
          0.593999981880188,
          0.6089000105857849,
          0.6132000088691711,
          0.6207000017166138,
          0.6043999791145325,
          0.609499990940094,
          0.6270999908447266,
          0.6225000023841858,
          0.6290000081062317,
          0.6244999766349792,
          0.6234999895095825,
          0.6309999823570251,
          0.6337000131607056,
          0.6401000022888184,
          0.6367999911308289,
          0.6398999691009521,
          0.6462999582290649,
          0.6505999565124512,
          0.651199996471405,
          0.6488999724388123,
          0.6545999646186829,
          0.651699960231781,
          0.6584999561309814,
          0.6572999954223633,
          0.6567999720573425,
          0.6626999974250793,
          0.6658999919891357,
          0.6626999974250793,
          0.6646999716758728,
          0.6678999662399292,
          0.6681999564170837,
          0.6690999865531921,
          0.6665999889373779,
          0.670199990272522,
          0.6656999588012695,
          0.6680999994277954,
          0.6696000099182129,
          0.6696000099182129,
          0.6700999736785889,
          0.6710999608039856,
          0.6728000044822693,
          0.6721000075340271,
          0.6741999983787537,
          0.6735999584197998,
          0.67249995470047,
          0.6722999811172485,
          0.6728000044822693,
          0.6717000007629395,
          0.6710999608039856,
          0.6703999638557434,
          0.6715999841690063,
          0.6726999878883362,
          0.6717999577522278,
          0.670699954032898,
          0.6710999608039856,
          0.6717000007629395,
          0.6718999743461609,
          0.6728999614715576,
          0.6728000044822693,
          0.6712999939918518,
          0.6704999804496765,
          0.671999990940094
         ]
        },
        {
         "marker": {
          "maxdisplayed": 10
         },
         "mode": "lines+markers",
         "name": "Trial16",
         "type": "scatter",
         "x": [
          0,
          1,
          2,
          3
         ],
         "y": [
          0.10049999505281448,
          0.14389999210834503,
          0.18369999527931213,
          0.21389999985694885
         ]
        },
        {
         "marker": {
          "maxdisplayed": 10
         },
         "mode": "lines+markers",
         "name": "Trial17",
         "type": "scatter",
         "x": [
          0,
          1
         ],
         "y": [
          0.13339999318122864,
          0.18219999969005585
         ]
        },
        {
         "marker": {
          "maxdisplayed": 10
         },
         "mode": "lines+markers",
         "name": "Trial18",
         "type": "scatter",
         "x": [
          0,
          1
         ],
         "y": [
          0.20739999413490295,
          0.29019999504089355
         ]
        },
        {
         "marker": {
          "maxdisplayed": 10
         },
         "mode": "lines+markers",
         "name": "Trial19",
         "type": "scatter",
         "x": [
          0,
          1
         ],
         "y": [
          0.1460999995470047,
          0.20709998905658722
         ]
        },
        {
         "marker": {
          "maxdisplayed": 10
         },
         "mode": "lines+markers",
         "name": "Trial20",
         "type": "scatter",
         "x": [
          0,
          1,
          2,
          3
         ],
         "y": [
          0.1428000032901764,
          0.20639999210834503,
          0.257999986410141,
          0.30480000376701355
         ]
        },
        {
         "marker": {
          "maxdisplayed": 10
         },
         "mode": "lines+markers",
         "name": "Trial21",
         "type": "scatter",
         "x": [
          0,
          1,
          2,
          3,
          4,
          5,
          6,
          7,
          8,
          9
         ],
         "y": [
          0.1508999913930893,
          0.2305999994277954,
          0.24689999222755432,
          0.3384000062942505,
          0.3452000021934509,
          0.3946000039577484,
          0.4306999742984772,
          0.42890000343322754,
          0.4926999807357788,
          0.4587000012397766
         ]
        },
        {
         "marker": {
          "maxdisplayed": 10
         },
         "mode": "lines+markers",
         "name": "Trial22",
         "type": "scatter",
         "x": [
          0,
          1
         ],
         "y": [
          0.14429999887943268,
          0.25609999895095825
         ]
        },
        {
         "marker": {
          "maxdisplayed": 10
         },
         "mode": "lines+markers",
         "name": "Trial23",
         "type": "scatter",
         "x": [
          0,
          1,
          2,
          3,
          4,
          5,
          6,
          7,
          8,
          9
         ],
         "y": [
          0.1388999968767166,
          0.2793999910354614,
          0.343999981880188,
          0.4193999767303467,
          0.4323999881744385,
          0.4786999821662903,
          0.5067999958992004,
          0.5410000085830688,
          0.5396000146865845,
          0.5291999578475952
         ]
        },
        {
         "marker": {
          "maxdisplayed": 10
         },
         "mode": "lines+markers",
         "name": "Trial24",
         "type": "scatter",
         "x": [
          0,
          1,
          2,
          3,
          4,
          5,
          6,
          7,
          8,
          9
         ],
         "y": [
          0.15389999747276306,
          0.19009999930858612,
          0.2947999835014343,
          0.3407000005245209,
          0.4120999872684479,
          0.46539998054504395,
          0.4925999939441681,
          0.47079998254776,
          0.5083000063896179,
          0.5115999579429626
         ]
        },
        {
         "marker": {
          "maxdisplayed": 10
         },
         "mode": "lines+markers",
         "name": "Trial25",
         "type": "scatter",
         "x": [
          0,
          1
         ],
         "y": [
          0.18779999017715454,
          0.274399995803833
         ]
        },
        {
         "marker": {
          "maxdisplayed": 10
         },
         "mode": "lines+markers",
         "name": "Trial26",
         "type": "scatter",
         "x": [
          0,
          1
         ],
         "y": [
          0.17949999868869781,
          0.23849999904632568
         ]
        },
        {
         "marker": {
          "maxdisplayed": 10
         },
         "mode": "lines+markers",
         "name": "Trial27",
         "type": "scatter",
         "x": [
          0,
          1,
          2,
          3
         ],
         "y": [
          0.16429999470710754,
          0.2443999946117401,
          0.29249998927116394,
          0.33959999680519104
         ]
        },
        {
         "marker": {
          "maxdisplayed": 10
         },
         "mode": "lines+markers",
         "name": "Trial28",
         "type": "scatter",
         "x": [
          0,
          1,
          2,
          3,
          4,
          5,
          6,
          7,
          8,
          9,
          10,
          11,
          12,
          13,
          14,
          15,
          16,
          17,
          18,
          19,
          20,
          21,
          22,
          23,
          24,
          25,
          26,
          27,
          28,
          29
         ],
         "y": [
          0.21310000121593475,
          0.3199999928474426,
          0.39100000262260437,
          0.431799978017807,
          0.4747999906539917,
          0.4925999939441681,
          0.5329999923706055,
          0.5252999663352966,
          0.5602999925613403,
          0.5800999999046326,
          0.5819999575614929,
          0.5856999754905701,
          0.6046000123023987,
          0.6092000007629395,
          0.6067999601364136,
          0.6252999901771545,
          0.6315999627113342,
          0.6419000029563904,
          0.636900007724762,
          0.6496999859809875,
          0.6506999731063843,
          0.6556000113487244,
          0.6627999544143677,
          0.6622999906539917,
          0.6663999557495117,
          0.6679999828338623,
          0.668999969959259,
          0.6714000105857849,
          0.6710000038146973,
          0.6693999767303467
         ]
        },
        {
         "marker": {
          "maxdisplayed": 10
         },
         "mode": "lines+markers",
         "name": "Trial29",
         "type": "scatter",
         "x": [
          0,
          1
         ],
         "y": [
          0.12600000202655792,
          0.1876000016927719
         ]
        },
        {
         "marker": {
          "maxdisplayed": 10
         },
         "mode": "lines+markers",
         "name": "Trial30",
         "type": "scatter",
         "x": [
          0,
          1
         ],
         "y": [
          0.10589999705553055,
          0.21249999105930328
         ]
        },
        {
         "marker": {
          "maxdisplayed": 10
         },
         "mode": "lines+markers",
         "name": "Trial31",
         "type": "scatter",
         "x": [
          0,
          1,
          2,
          3
         ],
         "y": [
          0.148499995470047,
          0.22499999403953552,
          0.29739999771118164,
          0.32259997725486755
         ]
        },
        {
         "marker": {
          "maxdisplayed": 10
         },
         "mode": "lines+markers",
         "name": "Trial32",
         "type": "scatter",
         "x": [
          0,
          1
         ],
         "y": [
          0.1356000006198883,
          0.24859999120235443
         ]
        },
        {
         "marker": {
          "maxdisplayed": 10
         },
         "mode": "lines+markers",
         "name": "Trial33",
         "type": "scatter",
         "x": [
          0,
          1,
          2,
          3,
          4,
          5,
          6,
          7,
          8,
          9
         ],
         "y": [
          0.11719999462366104,
          0.1890999972820282,
          0.2184000015258789,
          0.28380000591278076,
          0.3061999976634979,
          0.34119999408721924,
          0.3686999976634979,
          0.40049999952316284,
          0.4196999967098236,
          0.3852999806404114
         ]
        },
        {
         "marker": {
          "maxdisplayed": 10
         },
         "mode": "lines+markers",
         "name": "Trial34",
         "type": "scatter",
         "x": [
          0,
          1
         ],
         "y": [
          0.18150000274181366,
          0.32850000262260437
         ]
        },
        {
         "marker": {
          "maxdisplayed": 10
         },
         "mode": "lines+markers",
         "name": "Trial35",
         "type": "scatter",
         "x": [
          0,
          1,
          2,
          3,
          4,
          5,
          6,
          7,
          8,
          9
         ],
         "y": [
          0.23569999635219574,
          0.2920999825000763,
          0.374099999666214,
          0.4575999975204468,
          0.484499990940094,
          0.5227999687194824,
          0.5358999967575073,
          0.5643999576568604,
          0.586899995803833,
          0.601099967956543
         ]
        },
        {
         "marker": {
          "maxdisplayed": 10
         },
         "mode": "lines+markers",
         "name": "Trial36",
         "type": "scatter",
         "x": [
          0,
          1,
          2,
          3
         ],
         "y": [
          0.13939999043941498,
          0.2133999913930893,
          0.2944999933242798,
          0.38179999589920044
         ]
        },
        {
         "marker": {
          "maxdisplayed": 10
         },
         "mode": "lines+markers",
         "name": "Trial37",
         "type": "scatter",
         "x": [
          0,
          1,
          2,
          3
         ],
         "y": [
          0.15309999883174896,
          0.22509999573230743,
          0.2953000068664551,
          0.36739999055862427
         ]
        },
        {
         "marker": {
          "maxdisplayed": 10
         },
         "mode": "lines+markers",
         "name": "Trial38",
         "type": "scatter",
         "x": [
          0,
          1
         ],
         "y": [
          0.17469999194145203,
          0.30640000104904175
         ]
        },
        {
         "marker": {
          "maxdisplayed": 10
         },
         "mode": "lines+markers",
         "name": "Trial39",
         "type": "scatter",
         "x": [
          0,
          1
         ],
         "y": [
          0.17069999873638153,
          0.2199999988079071
         ]
        },
        {
         "marker": {
          "maxdisplayed": 10
         },
         "mode": "lines+markers",
         "name": "Trial40",
         "type": "scatter",
         "x": [
          0,
          1
         ],
         "y": [
          0.18779999017715454,
          0.2757999897003174
         ]
        },
        {
         "marker": {
          "maxdisplayed": 10
         },
         "mode": "lines+markers",
         "name": "Trial41",
         "type": "scatter",
         "x": [
          0,
          1,
          2,
          3,
          4,
          5,
          6,
          7,
          8,
          9,
          10,
          11,
          12,
          13,
          14,
          15,
          16,
          17,
          18,
          19,
          20,
          21,
          22,
          23,
          24,
          25,
          26,
          27,
          28,
          29,
          30,
          31,
          32,
          33,
          34,
          35,
          36,
          37,
          38,
          39
         ],
         "y": [
          0.11659999936819077,
          0.1264999955892563,
          0.3021000027656555,
          0.33550000190734863,
          0.36640000343322754,
          0.41169998049736023,
          0.37289997935295105,
          0.4505999982357025,
          0.5194999575614929,
          0.49309998750686646,
          0.523099958896637,
          0.5608999729156494,
          0.562999963760376,
          0.5595999956130981,
          0.5339999794960022,
          0.5794999599456787,
          0.5546999573707581,
          0.57669997215271,
          0.6071000099182129,
          0.6191999912261963,
          0.6168999671936035,
          0.6340999603271484,
          0.6254000067710876,
          0.6230999827384949,
          0.6441999673843384,
          0.6548999547958374,
          0.6563000082969666,
          0.6559999585151672,
          0.6613999605178833,
          0.659500002861023,
          0.6678999662399292,
          0.6651999950408936,
          0.6692000031471252,
          0.6678000092506409,
          0.6699000000953674,
          0.668999969959259,
          0.6692000031471252,
          0.6700999736785889,
          0.670699954032898,
          0.6696000099182129
         ]
        },
        {
         "marker": {
          "maxdisplayed": 10
         },
         "mode": "lines+markers",
         "name": "Trial42",
         "type": "scatter",
         "x": [
          0,
          1
         ],
         "y": [
          0.1615999937057495,
          0.26489999890327454
         ]
        },
        {
         "marker": {
          "maxdisplayed": 10
         },
         "mode": "lines+markers",
         "name": "Trial43",
         "type": "scatter",
         "x": [
          0,
          1,
          2,
          3,
          4,
          5,
          6,
          7,
          8,
          9,
          10,
          11,
          12,
          13,
          14,
          15,
          16,
          17,
          18,
          19,
          20,
          21,
          22,
          23,
          24,
          25,
          26,
          27,
          28,
          29,
          30,
          31,
          32,
          33,
          34,
          35,
          36,
          37,
          38,
          39,
          40,
          41,
          42,
          43,
          44,
          45,
          46,
          47,
          48,
          49,
          50,
          51,
          52,
          53,
          54,
          55,
          56,
          57,
          58,
          59,
          60,
          61,
          62,
          63,
          64,
          65,
          66,
          67,
          68,
          69,
          70,
          71,
          72,
          73,
          74,
          75,
          76,
          77,
          78,
          79,
          80,
          81
         ],
         "y": [
          0.22689999639987946,
          0.33149999380111694,
          0.3935999870300293,
          0.4309999942779541,
          0.4845999777317047,
          0.5203999876976013,
          0.5252999663352966,
          0.5519999861717224,
          0.5496999621391296,
          0.571399986743927,
          0.5906999707221985,
          0.6022999882698059,
          0.6133999824523926,
          0.6040999889373779,
          0.6064000129699707,
          0.6274999976158142,
          0.6151999831199646,
          0.6226999759674072,
          0.620199978351593,
          0.6304999589920044,
          0.613099992275238,
          0.6376000046730042,
          0.6431999802589417,
          0.6354999542236328,
          0.6413999795913696,
          0.6473000049591064,
          0.6455000042915344,
          0.6341999769210815,
          0.6441999673843384,
          0.6444000005722046,
          0.6485999822616577,
          0.6520999670028687,
          0.6466000080108643,
          0.6491999626159668,
          0.6488999724388123,
          0.6560999751091003,
          0.6572999954223633,
          0.6485999822616577,
          0.6568999886512756,
          0.659500002861023,
          0.6599000096321106,
          0.6606999635696411,
          0.6557999849319458,
          0.6596999764442444,
          0.6570999622344971,
          0.6624000072479248,
          0.6621999740600586,
          0.6627999544143677,
          0.6669999957084656,
          0.6625999808311462,
          0.6672999858856201,
          0.6678999662399292,
          0.6714000105857849,
          0.66839998960495,
          0.668999969959259,
          0.6687999963760376,
          0.6715999841690063,
          0.6714000105857849,
          0.6686999797821045,
          0.6739000082015991,
          0.6771999597549438,
          0.6743999719619751,
          0.6723999977111816,
          0.67249995470047,
          0.6750999689102173,
          0.6764000058174133,
          0.6741999983787537,
          0.6747999787330627,
          0.6780999898910522,
          0.6789999604225159,
          0.6787999868392944,
          0.6829999685287476,
          0.6850999593734741,
          0.6819999814033508,
          0.6796999573707581,
          0.6832000017166138,
          0.6886999607086182,
          0.686199963092804,
          0.6886999607086182,
          0.6900999546051025,
          0.6909999847412109,
          0.6919999718666077
         ]
        },
        {
         "marker": {
          "maxdisplayed": 10
         },
         "mode": "lines+markers",
         "name": "Trial44",
         "type": "scatter",
         "x": [
          0,
          1
         ],
         "y": [
          0.21599999070167542,
          0.28689998388290405
         ]
        },
        {
         "marker": {
          "maxdisplayed": 10
         },
         "mode": "lines+markers",
         "name": "Trial45",
         "type": "scatter",
         "x": [
          0,
          1,
          2,
          3
         ],
         "y": [
          0.1573999971151352,
          0.25200000405311584,
          0.3206000030040741,
          0.30730000138282776
         ]
        },
        {
         "marker": {
          "maxdisplayed": 10
         },
         "mode": "lines+markers",
         "name": "Trial46",
         "type": "scatter",
         "x": [
          0,
          1,
          2,
          3,
          4,
          5,
          6,
          7,
          8,
          9
         ],
         "y": [
          0.16210000216960907,
          0.23499999940395355,
          0.3179999887943268,
          0.38099998235702515,
          0.43129998445510864,
          0.45559999346733093,
          0.48919999599456787,
          0.47839999198913574,
          0.5256999731063843,
          0.4908999800682068
         ]
        },
        {
         "marker": {
          "maxdisplayed": 10
         },
         "mode": "lines+markers",
         "name": "Trial47",
         "type": "scatter",
         "x": [
          0,
          1
         ],
         "y": [
          0.03460000082850456,
          0.05079999938607216
         ]
        }
       ],
       "layout": {
        "autosize": true,
        "showlegend": false,
        "template": {
         "data": {
          "bar": [
           {
            "error_x": {
             "color": "#2a3f5f"
            },
            "error_y": {
             "color": "#2a3f5f"
            },
            "marker": {
             "line": {
              "color": "#E5ECF6",
              "width": 0.5
             },
             "pattern": {
              "fillmode": "overlay",
              "size": 10,
              "solidity": 0.2
             }
            },
            "type": "bar"
           }
          ],
          "barpolar": [
           {
            "marker": {
             "line": {
              "color": "#E5ECF6",
              "width": 0.5
             },
             "pattern": {
              "fillmode": "overlay",
              "size": 10,
              "solidity": 0.2
             }
            },
            "type": "barpolar"
           }
          ],
          "carpet": [
           {
            "aaxis": {
             "endlinecolor": "#2a3f5f",
             "gridcolor": "white",
             "linecolor": "white",
             "minorgridcolor": "white",
             "startlinecolor": "#2a3f5f"
            },
            "baxis": {
             "endlinecolor": "#2a3f5f",
             "gridcolor": "white",
             "linecolor": "white",
             "minorgridcolor": "white",
             "startlinecolor": "#2a3f5f"
            },
            "type": "carpet"
           }
          ],
          "choropleth": [
           {
            "colorbar": {
             "outlinewidth": 0,
             "ticks": ""
            },
            "type": "choropleth"
           }
          ],
          "contour": [
           {
            "colorbar": {
             "outlinewidth": 0,
             "ticks": ""
            },
            "colorscale": [
             [
              0,
              "#0d0887"
             ],
             [
              0.1111111111111111,
              "#46039f"
             ],
             [
              0.2222222222222222,
              "#7201a8"
             ],
             [
              0.3333333333333333,
              "#9c179e"
             ],
             [
              0.4444444444444444,
              "#bd3786"
             ],
             [
              0.5555555555555556,
              "#d8576b"
             ],
             [
              0.6666666666666666,
              "#ed7953"
             ],
             [
              0.7777777777777778,
              "#fb9f3a"
             ],
             [
              0.8888888888888888,
              "#fdca26"
             ],
             [
              1,
              "#f0f921"
             ]
            ],
            "type": "contour"
           }
          ],
          "contourcarpet": [
           {
            "colorbar": {
             "outlinewidth": 0,
             "ticks": ""
            },
            "type": "contourcarpet"
           }
          ],
          "heatmap": [
           {
            "colorbar": {
             "outlinewidth": 0,
             "ticks": ""
            },
            "colorscale": [
             [
              0,
              "#0d0887"
             ],
             [
              0.1111111111111111,
              "#46039f"
             ],
             [
              0.2222222222222222,
              "#7201a8"
             ],
             [
              0.3333333333333333,
              "#9c179e"
             ],
             [
              0.4444444444444444,
              "#bd3786"
             ],
             [
              0.5555555555555556,
              "#d8576b"
             ],
             [
              0.6666666666666666,
              "#ed7953"
             ],
             [
              0.7777777777777778,
              "#fb9f3a"
             ],
             [
              0.8888888888888888,
              "#fdca26"
             ],
             [
              1,
              "#f0f921"
             ]
            ],
            "type": "heatmap"
           }
          ],
          "heatmapgl": [
           {
            "colorbar": {
             "outlinewidth": 0,
             "ticks": ""
            },
            "colorscale": [
             [
              0,
              "#0d0887"
             ],
             [
              0.1111111111111111,
              "#46039f"
             ],
             [
              0.2222222222222222,
              "#7201a8"
             ],
             [
              0.3333333333333333,
              "#9c179e"
             ],
             [
              0.4444444444444444,
              "#bd3786"
             ],
             [
              0.5555555555555556,
              "#d8576b"
             ],
             [
              0.6666666666666666,
              "#ed7953"
             ],
             [
              0.7777777777777778,
              "#fb9f3a"
             ],
             [
              0.8888888888888888,
              "#fdca26"
             ],
             [
              1,
              "#f0f921"
             ]
            ],
            "type": "heatmapgl"
           }
          ],
          "histogram": [
           {
            "marker": {
             "pattern": {
              "fillmode": "overlay",
              "size": 10,
              "solidity": 0.2
             }
            },
            "type": "histogram"
           }
          ],
          "histogram2d": [
           {
            "colorbar": {
             "outlinewidth": 0,
             "ticks": ""
            },
            "colorscale": [
             [
              0,
              "#0d0887"
             ],
             [
              0.1111111111111111,
              "#46039f"
             ],
             [
              0.2222222222222222,
              "#7201a8"
             ],
             [
              0.3333333333333333,
              "#9c179e"
             ],
             [
              0.4444444444444444,
              "#bd3786"
             ],
             [
              0.5555555555555556,
              "#d8576b"
             ],
             [
              0.6666666666666666,
              "#ed7953"
             ],
             [
              0.7777777777777778,
              "#fb9f3a"
             ],
             [
              0.8888888888888888,
              "#fdca26"
             ],
             [
              1,
              "#f0f921"
             ]
            ],
            "type": "histogram2d"
           }
          ],
          "histogram2dcontour": [
           {
            "colorbar": {
             "outlinewidth": 0,
             "ticks": ""
            },
            "colorscale": [
             [
              0,
              "#0d0887"
             ],
             [
              0.1111111111111111,
              "#46039f"
             ],
             [
              0.2222222222222222,
              "#7201a8"
             ],
             [
              0.3333333333333333,
              "#9c179e"
             ],
             [
              0.4444444444444444,
              "#bd3786"
             ],
             [
              0.5555555555555556,
              "#d8576b"
             ],
             [
              0.6666666666666666,
              "#ed7953"
             ],
             [
              0.7777777777777778,
              "#fb9f3a"
             ],
             [
              0.8888888888888888,
              "#fdca26"
             ],
             [
              1,
              "#f0f921"
             ]
            ],
            "type": "histogram2dcontour"
           }
          ],
          "mesh3d": [
           {
            "colorbar": {
             "outlinewidth": 0,
             "ticks": ""
            },
            "type": "mesh3d"
           }
          ],
          "parcoords": [
           {
            "line": {
             "colorbar": {
              "outlinewidth": 0,
              "ticks": ""
             }
            },
            "type": "parcoords"
           }
          ],
          "pie": [
           {
            "automargin": true,
            "type": "pie"
           }
          ],
          "scatter": [
           {
            "marker": {
             "colorbar": {
              "outlinewidth": 0,
              "ticks": ""
             }
            },
            "type": "scatter"
           }
          ],
          "scatter3d": [
           {
            "line": {
             "colorbar": {
              "outlinewidth": 0,
              "ticks": ""
             }
            },
            "marker": {
             "colorbar": {
              "outlinewidth": 0,
              "ticks": ""
             }
            },
            "type": "scatter3d"
           }
          ],
          "scattercarpet": [
           {
            "marker": {
             "colorbar": {
              "outlinewidth": 0,
              "ticks": ""
             }
            },
            "type": "scattercarpet"
           }
          ],
          "scattergeo": [
           {
            "marker": {
             "colorbar": {
              "outlinewidth": 0,
              "ticks": ""
             }
            },
            "type": "scattergeo"
           }
          ],
          "scattergl": [
           {
            "marker": {
             "colorbar": {
              "outlinewidth": 0,
              "ticks": ""
             }
            },
            "type": "scattergl"
           }
          ],
          "scattermapbox": [
           {
            "marker": {
             "colorbar": {
              "outlinewidth": 0,
              "ticks": ""
             }
            },
            "type": "scattermapbox"
           }
          ],
          "scatterpolar": [
           {
            "marker": {
             "colorbar": {
              "outlinewidth": 0,
              "ticks": ""
             }
            },
            "type": "scatterpolar"
           }
          ],
          "scatterpolargl": [
           {
            "marker": {
             "colorbar": {
              "outlinewidth": 0,
              "ticks": ""
             }
            },
            "type": "scatterpolargl"
           }
          ],
          "scatterternary": [
           {
            "marker": {
             "colorbar": {
              "outlinewidth": 0,
              "ticks": ""
             }
            },
            "type": "scatterternary"
           }
          ],
          "surface": [
           {
            "colorbar": {
             "outlinewidth": 0,
             "ticks": ""
            },
            "colorscale": [
             [
              0,
              "#0d0887"
             ],
             [
              0.1111111111111111,
              "#46039f"
             ],
             [
              0.2222222222222222,
              "#7201a8"
             ],
             [
              0.3333333333333333,
              "#9c179e"
             ],
             [
              0.4444444444444444,
              "#bd3786"
             ],
             [
              0.5555555555555556,
              "#d8576b"
             ],
             [
              0.6666666666666666,
              "#ed7953"
             ],
             [
              0.7777777777777778,
              "#fb9f3a"
             ],
             [
              0.8888888888888888,
              "#fdca26"
             ],
             [
              1,
              "#f0f921"
             ]
            ],
            "type": "surface"
           }
          ],
          "table": [
           {
            "cells": {
             "fill": {
              "color": "#EBF0F8"
             },
             "line": {
              "color": "white"
             }
            },
            "header": {
             "fill": {
              "color": "#C8D4E3"
             },
             "line": {
              "color": "white"
             }
            },
            "type": "table"
           }
          ]
         },
         "layout": {
          "annotationdefaults": {
           "arrowcolor": "#2a3f5f",
           "arrowhead": 0,
           "arrowwidth": 1
          },
          "autotypenumbers": "strict",
          "coloraxis": {
           "colorbar": {
            "outlinewidth": 0,
            "ticks": ""
           }
          },
          "colorscale": {
           "diverging": [
            [
             0,
             "#8e0152"
            ],
            [
             0.1,
             "#c51b7d"
            ],
            [
             0.2,
             "#de77ae"
            ],
            [
             0.3,
             "#f1b6da"
            ],
            [
             0.4,
             "#fde0ef"
            ],
            [
             0.5,
             "#f7f7f7"
            ],
            [
             0.6,
             "#e6f5d0"
            ],
            [
             0.7,
             "#b8e186"
            ],
            [
             0.8,
             "#7fbc41"
            ],
            [
             0.9,
             "#4d9221"
            ],
            [
             1,
             "#276419"
            ]
           ],
           "sequential": [
            [
             0,
             "#0d0887"
            ],
            [
             0.1111111111111111,
             "#46039f"
            ],
            [
             0.2222222222222222,
             "#7201a8"
            ],
            [
             0.3333333333333333,
             "#9c179e"
            ],
            [
             0.4444444444444444,
             "#bd3786"
            ],
            [
             0.5555555555555556,
             "#d8576b"
            ],
            [
             0.6666666666666666,
             "#ed7953"
            ],
            [
             0.7777777777777778,
             "#fb9f3a"
            ],
            [
             0.8888888888888888,
             "#fdca26"
            ],
            [
             1,
             "#f0f921"
            ]
           ],
           "sequentialminus": [
            [
             0,
             "#0d0887"
            ],
            [
             0.1111111111111111,
             "#46039f"
            ],
            [
             0.2222222222222222,
             "#7201a8"
            ],
            [
             0.3333333333333333,
             "#9c179e"
            ],
            [
             0.4444444444444444,
             "#bd3786"
            ],
            [
             0.5555555555555556,
             "#d8576b"
            ],
            [
             0.6666666666666666,
             "#ed7953"
            ],
            [
             0.7777777777777778,
             "#fb9f3a"
            ],
            [
             0.8888888888888888,
             "#fdca26"
            ],
            [
             1,
             "#f0f921"
            ]
           ]
          },
          "colorway": [
           "#636efa",
           "#EF553B",
           "#00cc96",
           "#ab63fa",
           "#FFA15A",
           "#19d3f3",
           "#FF6692",
           "#B6E880",
           "#FF97FF",
           "#FECB52"
          ],
          "font": {
           "color": "#2a3f5f"
          },
          "geo": {
           "bgcolor": "white",
           "lakecolor": "white",
           "landcolor": "#E5ECF6",
           "showlakes": true,
           "showland": true,
           "subunitcolor": "white"
          },
          "hoverlabel": {
           "align": "left"
          },
          "hovermode": "closest",
          "mapbox": {
           "style": "light"
          },
          "paper_bgcolor": "white",
          "plot_bgcolor": "#E5ECF6",
          "polar": {
           "angularaxis": {
            "gridcolor": "white",
            "linecolor": "white",
            "ticks": ""
           },
           "bgcolor": "#E5ECF6",
           "radialaxis": {
            "gridcolor": "white",
            "linecolor": "white",
            "ticks": ""
           }
          },
          "scene": {
           "xaxis": {
            "backgroundcolor": "#E5ECF6",
            "gridcolor": "white",
            "gridwidth": 2,
            "linecolor": "white",
            "showbackground": true,
            "ticks": "",
            "zerolinecolor": "white"
           },
           "yaxis": {
            "backgroundcolor": "#E5ECF6",
            "gridcolor": "white",
            "gridwidth": 2,
            "linecolor": "white",
            "showbackground": true,
            "ticks": "",
            "zerolinecolor": "white"
           },
           "zaxis": {
            "backgroundcolor": "#E5ECF6",
            "gridcolor": "white",
            "gridwidth": 2,
            "linecolor": "white",
            "showbackground": true,
            "ticks": "",
            "zerolinecolor": "white"
           }
          },
          "shapedefaults": {
           "line": {
            "color": "#2a3f5f"
           }
          },
          "ternary": {
           "aaxis": {
            "gridcolor": "white",
            "linecolor": "white",
            "ticks": ""
           },
           "baxis": {
            "gridcolor": "white",
            "linecolor": "white",
            "ticks": ""
           },
           "bgcolor": "#E5ECF6",
           "caxis": {
            "gridcolor": "white",
            "linecolor": "white",
            "ticks": ""
           }
          },
          "title": {
           "x": 0.05
          },
          "xaxis": {
           "automargin": true,
           "gridcolor": "white",
           "linecolor": "white",
           "ticks": "",
           "title": {
            "standoff": 15
           },
           "zerolinecolor": "white",
           "zerolinewidth": 2
          },
          "yaxis": {
           "automargin": true,
           "gridcolor": "white",
           "linecolor": "white",
           "ticks": "",
           "title": {
            "standoff": 15
           },
           "zerolinecolor": "white",
           "zerolinewidth": 2
          }
         }
        },
        "title": {
         "text": "Intermediate Values Plot"
        },
        "xaxis": {
         "autorange": true,
         "range": [
          -7.6244251405212085,
          136.6244251405212
         ],
         "title": {
          "text": "Step"
         },
         "type": "linear"
        },
        "yaxis": {
         "autorange": true,
         "range": [
          -0.020319902401381325,
          0.7550199079028901
         ],
         "title": {
          "text": "Intermediate Value"
         },
         "type": "linear"
        }
       }
      },
      "image/png": "[encoded data removed]",
      "text/html": [
       "<div>                            <div id=\"354b507c-212a-42f8-898d-528d86ecabe5\" class=\"plotly-graph-div\" style=\"height:525px; width:100%;\"></div>            <script type=\"text/javascript\">                require([\"plotly\"], function(Plotly) {                    window.PLOTLYENV=window.PLOTLYENV || {};                                    if (document.getElementById(\"354b507c-212a-42f8-898d-528d86ecabe5\")) {                    Plotly.newPlot(                        \"354b507c-212a-42f8-898d-528d86ecabe5\",                        [{\"marker\":{\"maxdisplayed\":10},\"mode\":\"lines+markers\",\"name\":\"Trial0\",\"x\":[0,1,2,3,4,5,6,7,8,9,10,11,12,13,14,15,16,17,18,19,20,21,22,23,24,25,26,27],\"y\":[0.15479999780654907,0.22299998998641968,0.33489999175071716,0.36409997940063477,0.39479997754096985,0.44419997930526733,0.46609997749328613,0.4724999964237213,0.5033000111579895,0.5309999585151672,0.5299999713897705,0.5313999652862549,0.5455999970436096,0.5636999607086182,0.5853999853134155,0.578499972820282,0.5687999725341797,0.5837000012397766,0.5615000128746033,0.5813999772071838,0.5896999835968018,0.5965999960899353,0.5893999934196472,0.5949999690055847,0.6089999675750732,0.6008999943733215,0.6078999638557434,0.6022999882698059],\"type\":\"scatter\"},{\"marker\":{\"maxdisplayed\":10},\"mode\":\"lines+markers\",\"name\":\"Trial1\",\"x\":[0,1,2,3,4,5,6,7,8,9,10,11,12,13,14,15,16,17,18,19,20],\"y\":[0.14899998903274536,0.3050000071525574,0.3880999982357025,0.40619999170303345,0.45809999108314514,0.5011999607086182,0.4992999732494354,0.5263000130653381,0.5338000059127808,0.5148999691009521,0.5676999688148499,0.5631999969482422,0.5722999572753906,0.5726000070571899,0.5861999988555908,0.573199987411499,0.5855000019073486,0.5988999605178833,0.6032999753952026,0.6060999631881714,0.6021999716758728],\"type\":\"scatter\"},{\"marker\":{\"maxdisplayed\":10},\"mode\":\"lines+markers\",\"name\":\"Trial2\",\"x\":[0,1,2,3,4,5,6,7,8,9,10,11],\"y\":[0.19189999997615814,0.30859997868537903,0.3926999866962433,0.4018999934196472,0.4634999930858612,0.4893999993801117,0.5273000001907349,0.5241999626159668,0.5361999869346619,0.5414999723434448,0.5679999589920044,0.5857999920845032],\"type\":\"scatter\"},{\"marker\":{\"maxdisplayed\":10},\"mode\":\"lines+markers\",\"name\":\"Trial3\",\"x\":[0,1,2,3,4,5,6,7,8,9,10,11,12,13,14,15,16,17,18,19],\"y\":[0.1257999986410141,0.21649999916553497,0.322299987077713,0.3734000027179718,0.3986999988555908,0.46059998869895935,0.47099998593330383,0.5048999786376953,0.5216000080108643,0.5421000123023987,0.5501999855041504,0.5655999779701233,0.5810999870300293,0.5889999866485596,0.600600004196167,0.6039999723434448,0.6097999811172485,0.6158999800682068,0.6175000071525574,0.6196999549865723],\"type\":\"scatter\"},{\"marker\":{\"maxdisplayed\":10},\"mode\":\"lines+markers\",\"name\":\"Trial4\",\"x\":[0,1,2,3,4,5,6,7,8,9,10,11,12,13,14,15,16,17,18,19,20,21,22,23,24,25,26,27,28,29,30,31,32,33,34,35,36,37,38,39,40,41,42,43,44,45,46,47,48,49,50,51,52,53,54,55,56,57,58,59,60,61,62,63,64,65,66,67,68,69,70,71,72,73,74,75,76,77,78,79,80,81,82,83,84,85,86,87,88,89,90,91,92,93,94,95,96,97,98,99,100,101,102,103,104,105,106,107,108,109,110,111,112,113,114,115,116,117,118,119,120,121,122,123,124,125,126,127,128,129],\"y\":[0.13169999420642853,0.2434999942779541,0.33009999990463257,0.3788999915122986,0.429099977016449,0.43629997968673706,0.4569000005722046,0.503600001335144,0.5036999583244324,0.5364999771118164,0.5360000133514404,0.5216000080108643,0.5331000089645386,0.5763999819755554,0.5806999802589417,0.5751000046730042,0.5940999984741211,0.5666999816894531,0.5946999788284302,0.5841000080108643,0.5848999619483948,0.6072999835014343,0.6122999787330627,0.602400004863739,0.6031000018119812,0.6175000071525574,0.616599977016449,0.6097999811172485,0.60589998960495,0.6258999705314636,0.6286999583244324,0.6266999840736389,0.6229000091552734,0.6403999924659729,0.6279999613761902,0.6370999813079834,0.6353999972343445,0.6417999863624573,0.6378999948501587,0.6444999575614929,0.6438999772071838,0.6500999927520752,0.6534000039100647,0.647599995136261,0.6453999876976013,0.6541000008583069,0.6514999866485596,0.6647999882698059,0.6599999666213989,0.6657999753952026,0.6617000102996826,0.6661999821662903,0.6662999987602234,0.6712999939918518,0.6710999608039856,0.6717999577522278,0.6777999997138977,0.6754999756813049,0.6784999966621399,0.677299976348877,0.674299955368042,0.6811999678611755,0.6811999678611755,0.682699978351593,0.6805999875068665,0.6869999766349792,0.6872999668121338,0.684499979019165,0.6854000091552734,0.6859999895095825,0.6852999925613403,0.6886000037193298,0.6876999735832214,0.6879000067710876,0.6886000037193298,0.6875999569892883,0.6904999613761902,0.6901999711990356,0.6862999796867371,0.6875,0.687999963760376,0.6890000104904175,0.6906999945640564,0.6906999945640564,0.6898999810218811,0.6905999779701233,0.689300000667572,0.6924999952316284,0.6897000074386597,0.6913999915122986,0.6923999786376953,0.6934999823570251,0.6906999945640564,0.6899999976158142,0.6916999816894531,0.6934999823570251,0.6913999915122986,0.6915000081062317,0.6922000050544739,0.6919999718666077,0.6913999915122986,0.6926000118255615,0.6909999847412109,0.6922999620437622,0.691100001335144,0.6913999915122986,0.6915000081062317,0.6904999613761902,0.6902999877929688,0.6902999877929688,0.6923999786376953,0.6908999681472778,0.6909999847412109,0.6904999613761902,0.6920999884605408,0.6917999982833862,0.6908000111579895,0.6912999749183655,0.6912999749183655,0.69159996509552,0.6912999749183655,0.69159996509552,0.6918999552726746,0.6908999681472778,0.6905999779701233,0.6912999749183655,0.6920999884605408,0.6918999552726746,0.6917999982833862,0.6906999945640564],\"type\":\"scatter\"},{\"marker\":{\"maxdisplayed\":10},\"mode\":\"lines+markers\",\"name\":\"Trial5\",\"x\":[0,1,2,3,4,5,6,7,8,9,10,11,12,13,14,15,16,17,18,19,20,21,22,23,24,25,26,27,28,29,30,31,32,33,34,35,36,37,38,39,40,41,42,43,44,45,46,47,48,49,50,51,52,53,54,55,56,57,58,59,60,61,62,63,64,65,66,67,68,69,70,71,72,73,74,75,76,77,78,79,80,81,82,83,84,85,86,87,88,89,90,91,92,93,94,95,96,97,98,99],\"y\":[0.07750000059604645,0.12229999899864197,0.1459999978542328,0.17329999804496765,0.19589999318122864,0.21859999001026154,0.23969998955726624,0.2522999942302704,0.2732999920845032,0.29409998655319214,0.30859997868537903,0.321399986743927,0.3254999816417694,0.31439998745918274,0.3392999768257141,0.3726999759674072,0.38760000467300415,0.39819997549057007,0.4009999930858612,0.4171999990940094,0.40469998121261597,0.42579999566078186,0.4339999854564667,0.44749999046325684,0.4493999779224396,0.45239999890327454,0.4684999883174896,0.46140000224113464,0.4724999964237213,0.4781999886035919,0.4821999967098236,0.495199978351593,0.49399998784065247,0.5009999871253967,0.5041999816894531,0.5069999694824219,0.5115000009536743,0.5101000070571899,0.517799973487854,0.5198000073432922,0.5231999754905701,0.5267999768257141,0.5254999995231628,0.5234000086784363,0.5324000120162964,0.5313000082969666,0.5309999585151672,0.5390999913215637,0.5462999939918518,0.5424999594688416,0.5346999764442444,0.5419999957084656,0.5401999950408936,0.5454999804496765,0.5471000075340271,0.5479999780654907,0.5503000020980835,0.5425999760627747,0.548799991607666,0.5514999628067017,0.5482000112533569,0.5496999621391296,0.5508999824523926,0.5526999831199646,0.5539000034332275,0.553600013256073,0.5532999634742737,0.5509999990463257,0.5539999604225159,0.5552999973297119,0.5546999573707581,0.5566999912261963,0.5551999807357788,0.5605999827384949,0.5584999918937683,0.5561999678611755,0.5554999709129333,0.557699978351593,0.5564000010490417,0.5597000122070312,0.5564000010490417,0.5597000122070312,0.5597999691963196,0.5622000098228455,0.5612999796867371,0.5609999895095825,0.5597000122070312,0.5601999759674072,0.5605999827384949,0.5604000091552734,0.560699999332428,0.560699999332428,0.5620999932289124,0.5615000128746033,0.5604999661445618,0.5620999932289124,0.5608999729156494,0.5607999563217163,0.5616999864578247,0.5593999624252319],\"type\":\"scatter\"},{\"marker\":{\"maxdisplayed\":10},\"mode\":\"lines+markers\",\"name\":\"Trial6\",\"x\":[0,1,2,3,4,5,6,7,8,9,10,11,12,13,14,15,16,17,18,19,20,21,22,23,24,25,26,27,28,29,30,31,32,33,34,35,36,37,38,39,40,41,42,43,44,45,46,47,48,49,50,51,52,53,54,55,56,57,58,59],\"y\":[0.15940000116825104,0.30889999866485596,0.3351999819278717,0.3577999770641327,0.4667999744415283,0.44439998269081116,0.5164999961853027,0.5170999765396118,0.5109999775886536,0.5378000140190125,0.5426999926567078,0.5895000100135803,0.5857999920845032,0.5422999858856201,0.5977999567985535,0.6029999852180481,0.592199981212616,0.6105999946594238,0.6010000109672546,0.6152999997138977,0.6096999645233154,0.6189999580383301,0.6218000054359436,0.6365999579429626,0.6327999830245972,0.6358000040054321,0.6435999870300293,0.648099958896637,0.6482999920845032,0.6417999863624573,0.648099958896637,0.6559000015258789,0.6590999960899353,0.6577999591827393,0.6678999662399292,0.667199969291687,0.6656000018119812,0.6696000099182129,0.674299955368042,0.6735000014305115,0.6764000058174133,0.675599992275238,0.6758999824523926,0.6765999794006348,0.6751999855041504,0.6797999739646912,0.6789000034332275,0.6765999794006348,0.6798999905586243,0.6797999739646912,0.6802999973297119,0.6804999709129333,0.6787999868392944,0.6793999671936035,0.6789000034332275,0.6783999800682068,0.6793000102043152,0.6793999671936035,0.6796000003814697,0.6793000102043152],\"type\":\"scatter\"},{\"marker\":{\"maxdisplayed\":10},\"mode\":\"lines+markers\",\"name\":\"Trial7\",\"x\":[0,1,2,3,4,5,6,7,8,9,10,11,12,13,14,15,16,17,18,19,20,21,22,23,24,25,26,27,28,29,30,31,32,33,34,35,36,37,38,39,40,41,42,43,44,45,46,47,48,49,50,51,52,53,54,55,56,57,58,59,60,61,62,63,64,65,66,67,68,69,70,71,72,73,74,75,76,77,78,79,80,81,82,83,84,85,86,87,88,89,90,91,92,93,94,95,96,97,98,99,100,101,102,103,104,105,106,107,108,109,110,111,112,113,114,115,116,117,118,119],\"y\":[0.19119998812675476,0.29350000619888306,0.3571999967098236,0.40049999952316284,0.47509998083114624,0.5012999773025513,0.4870999753475189,0.5437999963760376,0.5514000058174133,0.5442999601364136,0.5825999975204468,0.5807999968528748,0.5879999995231628,0.5963000059127808,0.6018999814987183,0.5857999920845032,0.5950999855995178,0.6177999973297119,0.6189000010490417,0.5942999720573425,0.6128000020980835,0.6101999878883362,0.6315999627113342,0.6121000051498413,0.6180999875068665,0.6258999705314636,0.6116999983787537,0.6259999871253967,0.6358000040054321,0.6355999708175659,0.6327999830245972,0.6401999592781067,0.6499999761581421,0.647599995136261,0.64410001039505,0.6462999582290649,0.6592000126838684,0.6477000117301941,0.6491999626159668,0.648099958896637,0.6561999917030334,0.65829998254776,0.6633999943733215,0.6589999794960022,0.6588000059127808,0.6644999980926514,0.6746999621391296,0.6686999797821045,0.6703000068664551,0.6786999702453613,0.6751999855041504,0.675000011920929,0.677899956703186,0.6786999702453613,0.6822999715805054,0.6869999766349792,0.6807000041007996,0.6829000115394592,0.6850999593734741,0.6843000054359436,0.6857999563217163,0.6843999624252319,0.6882999539375305,0.6886999607086182,0.693399965763092,0.6915000081062317,0.6924999952316284,0.6922000050544739,0.6920999884605408,0.6926000118255615,0.6962999701499939,0.6941999793052673,0.6947999596595764,0.6940000057220459,0.6951999664306641,0.6974999904632568,0.6952999830245972,0.6961999535560608,0.6967999935150146,0.6985999941825867,0.6947999596595764,0.6980999708175659,0.6972000002861023,0.6977999806404114,0.6983999609947205,0.6998999714851379,0.6976999640464783,0.6979999542236328,0.6973999738693237,0.6978999972343445,0.6990000009536743,0.6977999806404114,0.6991999745368958,0.6972000002861023,0.6966999769210815,0.6970999836921692,0.6987999677658081,0.6978999972343445,0.6983000040054321,0.6972999572753906,0.6972999572753906,0.6976000070571899,0.6983999609947205,0.6976000070571899,0.6980999708175659,0.6983999609947205,0.6965999603271484,0.6978999972343445,0.6979999542236328,0.6987999677658081,0.7001000046730042,0.6980999708175659,0.6980999708175659,0.698199987411499,0.6977999806404114,0.6969999670982361,0.6990000009536743,0.6997999548912048,0.6987999677658081,0.698199987411499],\"type\":\"scatter\"},{\"marker\":{\"maxdisplayed\":10},\"mode\":\"lines+markers\",\"name\":\"Trial8\",\"x\":[0,1,2,3],\"y\":[0.20179998874664307,0.3008999824523926,0.3498999774456024,0.4212999939918518],\"type\":\"scatter\"},{\"marker\":{\"maxdisplayed\":10},\"mode\":\"lines+markers\",\"name\":\"Trial9\",\"x\":[0,1],\"y\":[0.20029999315738678,0.28849998116493225],\"type\":\"scatter\"},{\"marker\":{\"maxdisplayed\":10},\"mode\":\"lines+markers\",\"name\":\"Trial10\",\"x\":[0,1],\"y\":[0.12950000166893005,0.1947999894618988],\"type\":\"scatter\"},{\"marker\":{\"maxdisplayed\":10},\"mode\":\"lines+markers\",\"name\":\"Trial11\",\"x\":[0,1],\"y\":[0.16899999976158142,0.2849999964237213],\"type\":\"scatter\"},{\"marker\":{\"maxdisplayed\":10},\"mode\":\"lines+markers\",\"name\":\"Trial12\",\"x\":[0,1,2,3,4,5,6,7,8,9],\"y\":[0.09649999439716339,0.14669999480247498,0.24799999594688416,0.3337000012397766,0.3540000021457672,0.41279998421669006,0.41110000014305115,0.4488999843597412,0.4368000030517578,0.4512999951839447],\"type\":\"scatter\"},{\"marker\":{\"maxdisplayed\":10},\"mode\":\"lines+markers\",\"name\":\"Trial13\",\"x\":[0,1],\"y\":[0.15799999237060547,0.2602999806404114],\"type\":\"scatter\"},{\"marker\":{\"maxdisplayed\":10},\"mode\":\"lines+markers\",\"name\":\"Trial14\",\"x\":[0,1,2,3],\"y\":[0.10269999504089355,0.15049999952316284,0.18729999661445618,0.21239998936653137],\"type\":\"scatter\"},{\"marker\":{\"maxdisplayed\":10},\"mode\":\"lines+markers\",\"name\":\"Trial15\",\"x\":[0,1,2,3,4,5,6,7,8,9,10,11,12,13,14,15,16,17,18,19,20,21,22,23,24,25,26,27,28,29,30,31,32,33,34,35,36,37,38,39,40,41,42,43,44,45,46,47,48,49,50,51,52,53,54,55,56,57,58,59,60,61,62,63,64,65,66,67,68,69,70,71,72,73,74,75,76,77,78,79],\"y\":[0.18969999253749847,0.2712000012397766,0.34779998660087585,0.39579999446868896,0.44929999113082886,0.487199991941452,0.5018999576568604,0.5252000093460083,0.5428999662399292,0.5304999947547913,0.5633999705314636,0.5755000114440918,0.5648999810218811,0.5819999575614929,0.5917999744415283,0.6031000018119812,0.5945999622344971,0.6075999736785889,0.593999981880188,0.6089000105857849,0.6132000088691711,0.6207000017166138,0.6043999791145325,0.609499990940094,0.6270999908447266,0.6225000023841858,0.6290000081062317,0.6244999766349792,0.6234999895095825,0.6309999823570251,0.6337000131607056,0.6401000022888184,0.6367999911308289,0.6398999691009521,0.6462999582290649,0.6505999565124512,0.651199996471405,0.6488999724388123,0.6545999646186829,0.651699960231781,0.6584999561309814,0.6572999954223633,0.6567999720573425,0.6626999974250793,0.6658999919891357,0.6626999974250793,0.6646999716758728,0.6678999662399292,0.6681999564170837,0.6690999865531921,0.6665999889373779,0.670199990272522,0.6656999588012695,0.6680999994277954,0.6696000099182129,0.6696000099182129,0.6700999736785889,0.6710999608039856,0.6728000044822693,0.6721000075340271,0.6741999983787537,0.6735999584197998,0.67249995470047,0.6722999811172485,0.6728000044822693,0.6717000007629395,0.6710999608039856,0.6703999638557434,0.6715999841690063,0.6726999878883362,0.6717999577522278,0.670699954032898,0.6710999608039856,0.6717000007629395,0.6718999743461609,0.6728999614715576,0.6728000044822693,0.6712999939918518,0.6704999804496765,0.671999990940094],\"type\":\"scatter\"},{\"marker\":{\"maxdisplayed\":10},\"mode\":\"lines+markers\",\"name\":\"Trial16\",\"x\":[0,1,2,3],\"y\":[0.10049999505281448,0.14389999210834503,0.18369999527931213,0.21389999985694885],\"type\":\"scatter\"},{\"marker\":{\"maxdisplayed\":10},\"mode\":\"lines+markers\",\"name\":\"Trial17\",\"x\":[0,1],\"y\":[0.13339999318122864,0.18219999969005585],\"type\":\"scatter\"},{\"marker\":{\"maxdisplayed\":10},\"mode\":\"lines+markers\",\"name\":\"Trial18\",\"x\":[0,1],\"y\":[0.20739999413490295,0.29019999504089355],\"type\":\"scatter\"},{\"marker\":{\"maxdisplayed\":10},\"mode\":\"lines+markers\",\"name\":\"Trial19\",\"x\":[0,1],\"y\":[0.1460999995470047,0.20709998905658722],\"type\":\"scatter\"},{\"marker\":{\"maxdisplayed\":10},\"mode\":\"lines+markers\",\"name\":\"Trial20\",\"x\":[0,1,2,3],\"y\":[0.1428000032901764,0.20639999210834503,0.257999986410141,0.30480000376701355],\"type\":\"scatter\"},{\"marker\":{\"maxdisplayed\":10},\"mode\":\"lines+markers\",\"name\":\"Trial21\",\"x\":[0,1,2,3,4,5,6,7,8,9],\"y\":[0.1508999913930893,0.2305999994277954,0.24689999222755432,0.3384000062942505,0.3452000021934509,0.3946000039577484,0.4306999742984772,0.42890000343322754,0.4926999807357788,0.4587000012397766],\"type\":\"scatter\"},{\"marker\":{\"maxdisplayed\":10},\"mode\":\"lines+markers\",\"name\":\"Trial22\",\"x\":[0,1],\"y\":[0.14429999887943268,0.25609999895095825],\"type\":\"scatter\"},{\"marker\":{\"maxdisplayed\":10},\"mode\":\"lines+markers\",\"name\":\"Trial23\",\"x\":[0,1,2,3,4,5,6,7,8,9],\"y\":[0.1388999968767166,0.2793999910354614,0.343999981880188,0.4193999767303467,0.4323999881744385,0.4786999821662903,0.5067999958992004,0.5410000085830688,0.5396000146865845,0.5291999578475952],\"type\":\"scatter\"},{\"marker\":{\"maxdisplayed\":10},\"mode\":\"lines+markers\",\"name\":\"Trial24\",\"x\":[0,1,2,3,4,5,6,7,8,9],\"y\":[0.15389999747276306,0.19009999930858612,0.2947999835014343,0.3407000005245209,0.4120999872684479,0.46539998054504395,0.4925999939441681,0.47079998254776,0.5083000063896179,0.5115999579429626],\"type\":\"scatter\"},{\"marker\":{\"maxdisplayed\":10},\"mode\":\"lines+markers\",\"name\":\"Trial25\",\"x\":[0,1],\"y\":[0.18779999017715454,0.274399995803833],\"type\":\"scatter\"},{\"marker\":{\"maxdisplayed\":10},\"mode\":\"lines+markers\",\"name\":\"Trial26\",\"x\":[0,1],\"y\":[0.17949999868869781,0.23849999904632568],\"type\":\"scatter\"},{\"marker\":{\"maxdisplayed\":10},\"mode\":\"lines+markers\",\"name\":\"Trial27\",\"x\":[0,1,2,3],\"y\":[0.16429999470710754,0.2443999946117401,0.29249998927116394,0.33959999680519104],\"type\":\"scatter\"},{\"marker\":{\"maxdisplayed\":10},\"mode\":\"lines+markers\",\"name\":\"Trial28\",\"x\":[0,1,2,3,4,5,6,7,8,9,10,11,12,13,14,15,16,17,18,19,20,21,22,23,24,25,26,27,28,29],\"y\":[0.21310000121593475,0.3199999928474426,0.39100000262260437,0.431799978017807,0.4747999906539917,0.4925999939441681,0.5329999923706055,0.5252999663352966,0.5602999925613403,0.5800999999046326,0.5819999575614929,0.5856999754905701,0.6046000123023987,0.6092000007629395,0.6067999601364136,0.6252999901771545,0.6315999627113342,0.6419000029563904,0.636900007724762,0.6496999859809875,0.6506999731063843,0.6556000113487244,0.6627999544143677,0.6622999906539917,0.6663999557495117,0.6679999828338623,0.668999969959259,0.6714000105857849,0.6710000038146973,0.6693999767303467],\"type\":\"scatter\"},{\"marker\":{\"maxdisplayed\":10},\"mode\":\"lines+markers\",\"name\":\"Trial29\",\"x\":[0,1],\"y\":[0.12600000202655792,0.1876000016927719],\"type\":\"scatter\"},{\"marker\":{\"maxdisplayed\":10},\"mode\":\"lines+markers\",\"name\":\"Trial30\",\"x\":[0,1],\"y\":[0.10589999705553055,0.21249999105930328],\"type\":\"scatter\"},{\"marker\":{\"maxdisplayed\":10},\"mode\":\"lines+markers\",\"name\":\"Trial31\",\"x\":[0,1,2,3],\"y\":[0.148499995470047,0.22499999403953552,0.29739999771118164,0.32259997725486755],\"type\":\"scatter\"},{\"marker\":{\"maxdisplayed\":10},\"mode\":\"lines+markers\",\"name\":\"Trial32\",\"x\":[0,1],\"y\":[0.1356000006198883,0.24859999120235443],\"type\":\"scatter\"},{\"marker\":{\"maxdisplayed\":10},\"mode\":\"lines+markers\",\"name\":\"Trial33\",\"x\":[0,1,2,3,4,5,6,7,8,9],\"y\":[0.11719999462366104,0.1890999972820282,0.2184000015258789,0.28380000591278076,0.3061999976634979,0.34119999408721924,0.3686999976634979,0.40049999952316284,0.4196999967098236,0.3852999806404114],\"type\":\"scatter\"},{\"marker\":{\"maxdisplayed\":10},\"mode\":\"lines+markers\",\"name\":\"Trial34\",\"x\":[0,1],\"y\":[0.18150000274181366,0.32850000262260437],\"type\":\"scatter\"},{\"marker\":{\"maxdisplayed\":10},\"mode\":\"lines+markers\",\"name\":\"Trial35\",\"x\":[0,1,2,3,4,5,6,7,8,9],\"y\":[0.23569999635219574,0.2920999825000763,0.374099999666214,0.4575999975204468,0.484499990940094,0.5227999687194824,0.5358999967575073,0.5643999576568604,0.586899995803833,0.601099967956543],\"type\":\"scatter\"},{\"marker\":{\"maxdisplayed\":10},\"mode\":\"lines+markers\",\"name\":\"Trial36\",\"x\":[0,1,2,3],\"y\":[0.13939999043941498,0.2133999913930893,0.2944999933242798,0.38179999589920044],\"type\":\"scatter\"},{\"marker\":{\"maxdisplayed\":10},\"mode\":\"lines+markers\",\"name\":\"Trial37\",\"x\":[0,1,2,3],\"y\":[0.15309999883174896,0.22509999573230743,0.2953000068664551,0.36739999055862427],\"type\":\"scatter\"},{\"marker\":{\"maxdisplayed\":10},\"mode\":\"lines+markers\",\"name\":\"Trial38\",\"x\":[0,1],\"y\":[0.17469999194145203,0.30640000104904175],\"type\":\"scatter\"},{\"marker\":{\"maxdisplayed\":10},\"mode\":\"lines+markers\",\"name\":\"Trial39\",\"x\":[0,1],\"y\":[0.17069999873638153,0.2199999988079071],\"type\":\"scatter\"},{\"marker\":{\"maxdisplayed\":10},\"mode\":\"lines+markers\",\"name\":\"Trial40\",\"x\":[0,1],\"y\":[0.18779999017715454,0.2757999897003174],\"type\":\"scatter\"},{\"marker\":{\"maxdisplayed\":10},\"mode\":\"lines+markers\",\"name\":\"Trial41\",\"x\":[0,1,2,3,4,5,6,7,8,9,10,11,12,13,14,15,16,17,18,19,20,21,22,23,24,25,26,27,28,29,30,31,32,33,34,35,36,37,38,39],\"y\":[0.11659999936819077,0.1264999955892563,0.3021000027656555,0.33550000190734863,0.36640000343322754,0.41169998049736023,0.37289997935295105,0.4505999982357025,0.5194999575614929,0.49309998750686646,0.523099958896637,0.5608999729156494,0.562999963760376,0.5595999956130981,0.5339999794960022,0.5794999599456787,0.5546999573707581,0.57669997215271,0.6071000099182129,0.6191999912261963,0.6168999671936035,0.6340999603271484,0.6254000067710876,0.6230999827384949,0.6441999673843384,0.6548999547958374,0.6563000082969666,0.6559999585151672,0.6613999605178833,0.659500002861023,0.6678999662399292,0.6651999950408936,0.6692000031471252,0.6678000092506409,0.6699000000953674,0.668999969959259,0.6692000031471252,0.6700999736785889,0.670699954032898,0.6696000099182129],\"type\":\"scatter\"},{\"marker\":{\"maxdisplayed\":10},\"mode\":\"lines+markers\",\"name\":\"Trial42\",\"x\":[0,1],\"y\":[0.1615999937057495,0.26489999890327454],\"type\":\"scatter\"},{\"marker\":{\"maxdisplayed\":10},\"mode\":\"lines+markers\",\"name\":\"Trial43\",\"x\":[0,1,2,3,4,5,6,7,8,9,10,11,12,13,14,15,16,17,18,19,20,21,22,23,24,25,26,27,28,29,30,31,32,33,34,35,36,37,38,39,40,41,42,43,44,45,46,47,48,49,50,51,52,53,54,55,56,57,58,59,60,61,62,63,64,65,66,67,68,69,70,71,72,73,74,75,76,77,78,79,80,81],\"y\":[0.22689999639987946,0.33149999380111694,0.3935999870300293,0.4309999942779541,0.4845999777317047,0.5203999876976013,0.5252999663352966,0.5519999861717224,0.5496999621391296,0.571399986743927,0.5906999707221985,0.6022999882698059,0.6133999824523926,0.6040999889373779,0.6064000129699707,0.6274999976158142,0.6151999831199646,0.6226999759674072,0.620199978351593,0.6304999589920044,0.613099992275238,0.6376000046730042,0.6431999802589417,0.6354999542236328,0.6413999795913696,0.6473000049591064,0.6455000042915344,0.6341999769210815,0.6441999673843384,0.6444000005722046,0.6485999822616577,0.6520999670028687,0.6466000080108643,0.6491999626159668,0.6488999724388123,0.6560999751091003,0.6572999954223633,0.6485999822616577,0.6568999886512756,0.659500002861023,0.6599000096321106,0.6606999635696411,0.6557999849319458,0.6596999764442444,0.6570999622344971,0.6624000072479248,0.6621999740600586,0.6627999544143677,0.6669999957084656,0.6625999808311462,0.6672999858856201,0.6678999662399292,0.6714000105857849,0.66839998960495,0.668999969959259,0.6687999963760376,0.6715999841690063,0.6714000105857849,0.6686999797821045,0.6739000082015991,0.6771999597549438,0.6743999719619751,0.6723999977111816,0.67249995470047,0.6750999689102173,0.6764000058174133,0.6741999983787537,0.6747999787330627,0.6780999898910522,0.6789999604225159,0.6787999868392944,0.6829999685287476,0.6850999593734741,0.6819999814033508,0.6796999573707581,0.6832000017166138,0.6886999607086182,0.686199963092804,0.6886999607086182,0.6900999546051025,0.6909999847412109,0.6919999718666077],\"type\":\"scatter\"},{\"marker\":{\"maxdisplayed\":10},\"mode\":\"lines+markers\",\"name\":\"Trial44\",\"x\":[0,1],\"y\":[0.21599999070167542,0.28689998388290405],\"type\":\"scatter\"},{\"marker\":{\"maxdisplayed\":10},\"mode\":\"lines+markers\",\"name\":\"Trial45\",\"x\":[0,1,2,3],\"y\":[0.1573999971151352,0.25200000405311584,0.3206000030040741,0.30730000138282776],\"type\":\"scatter\"},{\"marker\":{\"maxdisplayed\":10},\"mode\":\"lines+markers\",\"name\":\"Trial46\",\"x\":[0,1,2,3,4,5,6,7,8,9],\"y\":[0.16210000216960907,0.23499999940395355,0.3179999887943268,0.38099998235702515,0.43129998445510864,0.45559999346733093,0.48919999599456787,0.47839999198913574,0.5256999731063843,0.4908999800682068],\"type\":\"scatter\"},{\"marker\":{\"maxdisplayed\":10},\"mode\":\"lines+markers\",\"name\":\"Trial47\",\"x\":[0,1],\"y\":[0.03460000082850456,0.05079999938607216],\"type\":\"scatter\"}],                        {\"showlegend\":false,\"title\":{\"text\":\"Intermediate Values Plot\"},\"xaxis\":{\"title\":{\"text\":\"Step\"}},\"yaxis\":{\"title\":{\"text\":\"Intermediate Value\"}},\"template\":{\"data\":{\"bar\":[{\"error_x\":{\"color\":\"#2a3f5f\"},\"error_y\":{\"color\":\"#2a3f5f\"},\"marker\":{\"line\":{\"color\":\"#E5ECF6\",\"width\":0.5},\"pattern\":{\"fillmode\":\"overlay\",\"size\":10,\"solidity\":0.2}},\"type\":\"bar\"}],\"barpolar\":[{\"marker\":{\"line\":{\"color\":\"#E5ECF6\",\"width\":0.5},\"pattern\":{\"fillmode\":\"overlay\",\"size\":10,\"solidity\":0.2}},\"type\":\"barpolar\"}],\"carpet\":[{\"aaxis\":{\"endlinecolor\":\"#2a3f5f\",\"gridcolor\":\"white\",\"linecolor\":\"white\",\"minorgridcolor\":\"white\",\"startlinecolor\":\"#2a3f5f\"},\"baxis\":{\"endlinecolor\":\"#2a3f5f\",\"gridcolor\":\"white\",\"linecolor\":\"white\",\"minorgridcolor\":\"white\",\"startlinecolor\":\"#2a3f5f\"},\"type\":\"carpet\"}],\"choropleth\":[{\"colorbar\":{\"outlinewidth\":0,\"ticks\":\"\"},\"type\":\"choropleth\"}],\"contour\":[{\"colorbar\":{\"outlinewidth\":0,\"ticks\":\"\"},\"colorscale\":[[0.0,\"#0d0887\"],[0.1111111111111111,\"#46039f\"],[0.2222222222222222,\"#7201a8\"],[0.3333333333333333,\"#9c179e\"],[0.4444444444444444,\"#bd3786\"],[0.5555555555555556,\"#d8576b\"],[0.6666666666666666,\"#ed7953\"],[0.7777777777777778,\"#fb9f3a\"],[0.8888888888888888,\"#fdca26\"],[1.0,\"#f0f921\"]],\"type\":\"contour\"}],\"contourcarpet\":[{\"colorbar\":{\"outlinewidth\":0,\"ticks\":\"\"},\"type\":\"contourcarpet\"}],\"heatmap\":[{\"colorbar\":{\"outlinewidth\":0,\"ticks\":\"\"},\"colorscale\":[[0.0,\"#0d0887\"],[0.1111111111111111,\"#46039f\"],[0.2222222222222222,\"#7201a8\"],[0.3333333333333333,\"#9c179e\"],[0.4444444444444444,\"#bd3786\"],[0.5555555555555556,\"#d8576b\"],[0.6666666666666666,\"#ed7953\"],[0.7777777777777778,\"#fb9f3a\"],[0.8888888888888888,\"#fdca26\"],[1.0,\"#f0f921\"]],\"type\":\"heatmap\"}],\"heatmapgl\":[{\"colorbar\":{\"outlinewidth\":0,\"ticks\":\"\"},\"colorscale\":[[0.0,\"#0d0887\"],[0.1111111111111111,\"#46039f\"],[0.2222222222222222,\"#7201a8\"],[0.3333333333333333,\"#9c179e\"],[0.4444444444444444,\"#bd3786\"],[0.5555555555555556,\"#d8576b\"],[0.6666666666666666,\"#ed7953\"],[0.7777777777777778,\"#fb9f3a\"],[0.8888888888888888,\"#fdca26\"],[1.0,\"#f0f921\"]],\"type\":\"heatmapgl\"}],\"histogram\":[{\"marker\":{\"pattern\":{\"fillmode\":\"overlay\",\"size\":10,\"solidity\":0.2}},\"type\":\"histogram\"}],\"histogram2d\":[{\"colorbar\":{\"outlinewidth\":0,\"ticks\":\"\"},\"colorscale\":[[0.0,\"#0d0887\"],[0.1111111111111111,\"#46039f\"],[0.2222222222222222,\"#7201a8\"],[0.3333333333333333,\"#9c179e\"],[0.4444444444444444,\"#bd3786\"],[0.5555555555555556,\"#d8576b\"],[0.6666666666666666,\"#ed7953\"],[0.7777777777777778,\"#fb9f3a\"],[0.8888888888888888,\"#fdca26\"],[1.0,\"#f0f921\"]],\"type\":\"histogram2d\"}],\"histogram2dcontour\":[{\"colorbar\":{\"outlinewidth\":0,\"ticks\":\"\"},\"colorscale\":[[0.0,\"#0d0887\"],[0.1111111111111111,\"#46039f\"],[0.2222222222222222,\"#7201a8\"],[0.3333333333333333,\"#9c179e\"],[0.4444444444444444,\"#bd3786\"],[0.5555555555555556,\"#d8576b\"],[0.6666666666666666,\"#ed7953\"],[0.7777777777777778,\"#fb9f3a\"],[0.8888888888888888,\"#fdca26\"],[1.0,\"#f0f921\"]],\"type\":\"histogram2dcontour\"}],\"mesh3d\":[{\"colorbar\":{\"outlinewidth\":0,\"ticks\":\"\"},\"type\":\"mesh3d\"}],\"parcoords\":[{\"line\":{\"colorbar\":{\"outlinewidth\":0,\"ticks\":\"\"}},\"type\":\"parcoords\"}],\"pie\":[{\"automargin\":true,\"type\":\"pie\"}],\"scatter\":[{\"marker\":{\"colorbar\":{\"outlinewidth\":0,\"ticks\":\"\"}},\"type\":\"scatter\"}],\"scatter3d\":[{\"line\":{\"colorbar\":{\"outlinewidth\":0,\"ticks\":\"\"}},\"marker\":{\"colorbar\":{\"outlinewidth\":0,\"ticks\":\"\"}},\"type\":\"scatter3d\"}],\"scattercarpet\":[{\"marker\":{\"colorbar\":{\"outlinewidth\":0,\"ticks\":\"\"}},\"type\":\"scattercarpet\"}],\"scattergeo\":[{\"marker\":{\"colorbar\":{\"outlinewidth\":0,\"ticks\":\"\"}},\"type\":\"scattergeo\"}],\"scattergl\":[{\"marker\":{\"colorbar\":{\"outlinewidth\":0,\"ticks\":\"\"}},\"type\":\"scattergl\"}],\"scattermapbox\":[{\"marker\":{\"colorbar\":{\"outlinewidth\":0,\"ticks\":\"\"}},\"type\":\"scattermapbox\"}],\"scatterpolar\":[{\"marker\":{\"colorbar\":{\"outlinewidth\":0,\"ticks\":\"\"}},\"type\":\"scatterpolar\"}],\"scatterpolargl\":[{\"marker\":{\"colorbar\":{\"outlinewidth\":0,\"ticks\":\"\"}},\"type\":\"scatterpolargl\"}],\"scatterternary\":[{\"marker\":{\"colorbar\":{\"outlinewidth\":0,\"ticks\":\"\"}},\"type\":\"scatterternary\"}],\"surface\":[{\"colorbar\":{\"outlinewidth\":0,\"ticks\":\"\"},\"colorscale\":[[0.0,\"#0d0887\"],[0.1111111111111111,\"#46039f\"],[0.2222222222222222,\"#7201a8\"],[0.3333333333333333,\"#9c179e\"],[0.4444444444444444,\"#bd3786\"],[0.5555555555555556,\"#d8576b\"],[0.6666666666666666,\"#ed7953\"],[0.7777777777777778,\"#fb9f3a\"],[0.8888888888888888,\"#fdca26\"],[1.0,\"#f0f921\"]],\"type\":\"surface\"}],\"table\":[{\"cells\":{\"fill\":{\"color\":\"#EBF0F8\"},\"line\":{\"color\":\"white\"}},\"header\":{\"fill\":{\"color\":\"#C8D4E3\"},\"line\":{\"color\":\"white\"}},\"type\":\"table\"}]},\"layout\":{\"annotationdefaults\":{\"arrowcolor\":\"#2a3f5f\",\"arrowhead\":0,\"arrowwidth\":1},\"autotypenumbers\":\"strict\",\"coloraxis\":{\"colorbar\":{\"outlinewidth\":0,\"ticks\":\"\"}},\"colorscale\":{\"diverging\":[[0,\"#8e0152\"],[0.1,\"#c51b7d\"],[0.2,\"#de77ae\"],[0.3,\"#f1b6da\"],[0.4,\"#fde0ef\"],[0.5,\"#f7f7f7\"],[0.6,\"#e6f5d0\"],[0.7,\"#b8e186\"],[0.8,\"#7fbc41\"],[0.9,\"#4d9221\"],[1,\"#276419\"]],\"sequential\":[[0.0,\"#0d0887\"],[0.1111111111111111,\"#46039f\"],[0.2222222222222222,\"#7201a8\"],[0.3333333333333333,\"#9c179e\"],[0.4444444444444444,\"#bd3786\"],[0.5555555555555556,\"#d8576b\"],[0.6666666666666666,\"#ed7953\"],[0.7777777777777778,\"#fb9f3a\"],[0.8888888888888888,\"#fdca26\"],[1.0,\"#f0f921\"]],\"sequentialminus\":[[0.0,\"#0d0887\"],[0.1111111111111111,\"#46039f\"],[0.2222222222222222,\"#7201a8\"],[0.3333333333333333,\"#9c179e\"],[0.4444444444444444,\"#bd3786\"],[0.5555555555555556,\"#d8576b\"],[0.6666666666666666,\"#ed7953\"],[0.7777777777777778,\"#fb9f3a\"],[0.8888888888888888,\"#fdca26\"],[1.0,\"#f0f921\"]]},\"colorway\":[\"#636efa\",\"#EF553B\",\"#00cc96\",\"#ab63fa\",\"#FFA15A\",\"#19d3f3\",\"#FF6692\",\"#B6E880\",\"#FF97FF\",\"#FECB52\"],\"font\":{\"color\":\"#2a3f5f\"},\"geo\":{\"bgcolor\":\"white\",\"lakecolor\":\"white\",\"landcolor\":\"#E5ECF6\",\"showlakes\":true,\"showland\":true,\"subunitcolor\":\"white\"},\"hoverlabel\":{\"align\":\"left\"},\"hovermode\":\"closest\",\"mapbox\":{\"style\":\"light\"},\"paper_bgcolor\":\"white\",\"plot_bgcolor\":\"#E5ECF6\",\"polar\":{\"angularaxis\":{\"gridcolor\":\"white\",\"linecolor\":\"white\",\"ticks\":\"\"},\"bgcolor\":\"#E5ECF6\",\"radialaxis\":{\"gridcolor\":\"white\",\"linecolor\":\"white\",\"ticks\":\"\"}},\"scene\":{\"xaxis\":{\"backgroundcolor\":\"#E5ECF6\",\"gridcolor\":\"white\",\"gridwidth\":2,\"linecolor\":\"white\",\"showbackground\":true,\"ticks\":\"\",\"zerolinecolor\":\"white\"},\"yaxis\":{\"backgroundcolor\":\"#E5ECF6\",\"gridcolor\":\"white\",\"gridwidth\":2,\"linecolor\":\"white\",\"showbackground\":true,\"ticks\":\"\",\"zerolinecolor\":\"white\"},\"zaxis\":{\"backgroundcolor\":\"#E5ECF6\",\"gridcolor\":\"white\",\"gridwidth\":2,\"linecolor\":\"white\",\"showbackground\":true,\"ticks\":\"\",\"zerolinecolor\":\"white\"}},\"shapedefaults\":{\"line\":{\"color\":\"#2a3f5f\"}},\"ternary\":{\"aaxis\":{\"gridcolor\":\"white\",\"linecolor\":\"white\",\"ticks\":\"\"},\"baxis\":{\"gridcolor\":\"white\",\"linecolor\":\"white\",\"ticks\":\"\"},\"bgcolor\":\"#E5ECF6\",\"caxis\":{\"gridcolor\":\"white\",\"linecolor\":\"white\",\"ticks\":\"\"}},\"title\":{\"x\":0.05},\"xaxis\":{\"automargin\":true,\"gridcolor\":\"white\",\"linecolor\":\"white\",\"ticks\":\"\",\"title\":{\"standoff\":15},\"zerolinecolor\":\"white\",\"zerolinewidth\":2},\"yaxis\":{\"automargin\":true,\"gridcolor\":\"white\",\"linecolor\":\"white\",\"ticks\":\"\",\"title\":{\"standoff\":15},\"zerolinecolor\":\"white\",\"zerolinewidth\":2}}}},                        {\"responsive\": true}                    ).then(function(){\n",
       "                            \n",
       "var gd = document.getElementById('354b507c-212a-42f8-898d-528d86ecabe5');\n",
       "var x = new MutationObserver(function (mutations, observer) {{\n",
       "        var display = window.getComputedStyle(gd).display;\n",
       "        if (!display || display === 'none') {{\n",
       "            console.log([gd, 'removed!']);\n",
       "            Plotly.purge(gd);\n",
       "            observer.disconnect();\n",
       "        }}\n",
       "}});\n",
       "\n",
       "// Listen for the removal of the full notebook cells\n",
       "var notebookContainer = gd.closest('#notebook-container');\n",
       "if (notebookContainer) {{\n",
       "    x.observe(notebookContainer, {childList: true});\n",
       "}}\n",
       "\n",
       "// Listen for the clearing of the current output cell\n",
       "var outputEl = gd.closest('.output');\n",
       "if (outputEl) {{\n",
       "    x.observe(outputEl, {childList: true});\n",
       "}}\n",
       "\n",
       "                        })                };                });            </script>        </div>"
      ]
     },
     "metadata": {},
     "output_type": "display_data"
    }
   ],
   "source": [
    "opt_viz.plot_intermediate_values(study)"
   ]
  },
  {
   "cell_type": "code",
   "execution_count": 61,
   "id": "frank-timeline",
   "metadata": {},
   "outputs": [
    {
     "data": {
      "application/vnd.plotly.v1+json": {
       "config": {
        "plotlyServerURL": "https://plot.ly"
       },
       "data": [
        {
         "dimensions": [
          {
           "label": "Objective Value",
           "range": [
            0.5593999624252319,
            0.698199987411499
           ],
           "values": [
            0.6196999549865723,
            0.6906999945640564,
            0.5593999624252319,
            0.6793000102043152,
            0.698199987411499,
            0.671999990940094,
            0.6693999767303467,
            0.6696000099182129
           ]
          },
          {
           "label": "batch_size",
           "range": [
            200,
            850
           ],
           "values": [
            850,
            700,
            700,
            550,
            250,
            200,
            200,
            450
           ]
          },
          {
           "label": "lr",
           "range": [
            0.004200000000000001,
            0.09040000000000001
           ],
           "values": [
            0.055400000000000005,
            0.09040000000000001,
            0.004200000000000001,
            0.07400000000000001,
            0.044800000000000006,
            0.0144,
            0.0296,
            0.064
           ]
          },
          {
           "label": "n_epochs",
           "range": [
            20,
            130
           ],
           "values": [
            20,
            130,
            100,
            60,
            120,
            80,
            30,
            40
           ]
          }
         ],
         "labelangle": 30,
         "labelside": "bottom",
         "line": {
          "color": [
           0.6196999549865723,
           0.6906999945640564,
           0.5593999624252319,
           0.6793000102043152,
           0.698199987411499,
           0.671999990940094,
           0.6693999767303467,
           0.6696000099182129
          ],
          "colorbar": {
           "title": {
            "text": "Objective Value"
           }
          },
          "colorscale": [
           [
            0,
            "rgb(247,251,255)"
           ],
           [
            0.125,
            "rgb(222,235,247)"
           ],
           [
            0.25,
            "rgb(198,219,239)"
           ],
           [
            0.375,
            "rgb(158,202,225)"
           ],
           [
            0.5,
            "rgb(107,174,214)"
           ],
           [
            0.625,
            "rgb(66,146,198)"
           ],
           [
            0.75,
            "rgb(33,113,181)"
           ],
           [
            0.875,
            "rgb(8,81,156)"
           ],
           [
            1,
            "rgb(8,48,107)"
           ]
          ],
          "reversescale": false,
          "showscale": true
         },
         "type": "parcoords"
        }
       ],
       "layout": {
        "autosize": true,
        "template": {
         "data": {
          "bar": [
           {
            "error_x": {
             "color": "#2a3f5f"
            },
            "error_y": {
             "color": "#2a3f5f"
            },
            "marker": {
             "line": {
              "color": "#E5ECF6",
              "width": 0.5
             },
             "pattern": {
              "fillmode": "overlay",
              "size": 10,
              "solidity": 0.2
             }
            },
            "type": "bar"
           }
          ],
          "barpolar": [
           {
            "marker": {
             "line": {
              "color": "#E5ECF6",
              "width": 0.5
             },
             "pattern": {
              "fillmode": "overlay",
              "size": 10,
              "solidity": 0.2
             }
            },
            "type": "barpolar"
           }
          ],
          "carpet": [
           {
            "aaxis": {
             "endlinecolor": "#2a3f5f",
             "gridcolor": "white",
             "linecolor": "white",
             "minorgridcolor": "white",
             "startlinecolor": "#2a3f5f"
            },
            "baxis": {
             "endlinecolor": "#2a3f5f",
             "gridcolor": "white",
             "linecolor": "white",
             "minorgridcolor": "white",
             "startlinecolor": "#2a3f5f"
            },
            "type": "carpet"
           }
          ],
          "choropleth": [
           {
            "colorbar": {
             "outlinewidth": 0,
             "ticks": ""
            },
            "type": "choropleth"
           }
          ],
          "contour": [
           {
            "colorbar": {
             "outlinewidth": 0,
             "ticks": ""
            },
            "colorscale": [
             [
              0,
              "#0d0887"
             ],
             [
              0.1111111111111111,
              "#46039f"
             ],
             [
              0.2222222222222222,
              "#7201a8"
             ],
             [
              0.3333333333333333,
              "#9c179e"
             ],
             [
              0.4444444444444444,
              "#bd3786"
             ],
             [
              0.5555555555555556,
              "#d8576b"
             ],
             [
              0.6666666666666666,
              "#ed7953"
             ],
             [
              0.7777777777777778,
              "#fb9f3a"
             ],
             [
              0.8888888888888888,
              "#fdca26"
             ],
             [
              1,
              "#f0f921"
             ]
            ],
            "type": "contour"
           }
          ],
          "contourcarpet": [
           {
            "colorbar": {
             "outlinewidth": 0,
             "ticks": ""
            },
            "type": "contourcarpet"
           }
          ],
          "heatmap": [
           {
            "colorbar": {
             "outlinewidth": 0,
             "ticks": ""
            },
            "colorscale": [
             [
              0,
              "#0d0887"
             ],
             [
              0.1111111111111111,
              "#46039f"
             ],
             [
              0.2222222222222222,
              "#7201a8"
             ],
             [
              0.3333333333333333,
              "#9c179e"
             ],
             [
              0.4444444444444444,
              "#bd3786"
             ],
             [
              0.5555555555555556,
              "#d8576b"
             ],
             [
              0.6666666666666666,
              "#ed7953"
             ],
             [
              0.7777777777777778,
              "#fb9f3a"
             ],
             [
              0.8888888888888888,
              "#fdca26"
             ],
             [
              1,
              "#f0f921"
             ]
            ],
            "type": "heatmap"
           }
          ],
          "heatmapgl": [
           {
            "colorbar": {
             "outlinewidth": 0,
             "ticks": ""
            },
            "colorscale": [
             [
              0,
              "#0d0887"
             ],
             [
              0.1111111111111111,
              "#46039f"
             ],
             [
              0.2222222222222222,
              "#7201a8"
             ],
             [
              0.3333333333333333,
              "#9c179e"
             ],
             [
              0.4444444444444444,
              "#bd3786"
             ],
             [
              0.5555555555555556,
              "#d8576b"
             ],
             [
              0.6666666666666666,
              "#ed7953"
             ],
             [
              0.7777777777777778,
              "#fb9f3a"
             ],
             [
              0.8888888888888888,
              "#fdca26"
             ],
             [
              1,
              "#f0f921"
             ]
            ],
            "type": "heatmapgl"
           }
          ],
          "histogram": [
           {
            "marker": {
             "pattern": {
              "fillmode": "overlay",
              "size": 10,
              "solidity": 0.2
             }
            },
            "type": "histogram"
           }
          ],
          "histogram2d": [
           {
            "colorbar": {
             "outlinewidth": 0,
             "ticks": ""
            },
            "colorscale": [
             [
              0,
              "#0d0887"
             ],
             [
              0.1111111111111111,
              "#46039f"
             ],
             [
              0.2222222222222222,
              "#7201a8"
             ],
             [
              0.3333333333333333,
              "#9c179e"
             ],
             [
              0.4444444444444444,
              "#bd3786"
             ],
             [
              0.5555555555555556,
              "#d8576b"
             ],
             [
              0.6666666666666666,
              "#ed7953"
             ],
             [
              0.7777777777777778,
              "#fb9f3a"
             ],
             [
              0.8888888888888888,
              "#fdca26"
             ],
             [
              1,
              "#f0f921"
             ]
            ],
            "type": "histogram2d"
           }
          ],
          "histogram2dcontour": [
           {
            "colorbar": {
             "outlinewidth": 0,
             "ticks": ""
            },
            "colorscale": [
             [
              0,
              "#0d0887"
             ],
             [
              0.1111111111111111,
              "#46039f"
             ],
             [
              0.2222222222222222,
              "#7201a8"
             ],
             [
              0.3333333333333333,
              "#9c179e"
             ],
             [
              0.4444444444444444,
              "#bd3786"
             ],
             [
              0.5555555555555556,
              "#d8576b"
             ],
             [
              0.6666666666666666,
              "#ed7953"
             ],
             [
              0.7777777777777778,
              "#fb9f3a"
             ],
             [
              0.8888888888888888,
              "#fdca26"
             ],
             [
              1,
              "#f0f921"
             ]
            ],
            "type": "histogram2dcontour"
           }
          ],
          "mesh3d": [
           {
            "colorbar": {
             "outlinewidth": 0,
             "ticks": ""
            },
            "type": "mesh3d"
           }
          ],
          "parcoords": [
           {
            "line": {
             "colorbar": {
              "outlinewidth": 0,
              "ticks": ""
             }
            },
            "type": "parcoords"
           }
          ],
          "pie": [
           {
            "automargin": true,
            "type": "pie"
           }
          ],
          "scatter": [
           {
            "marker": {
             "colorbar": {
              "outlinewidth": 0,
              "ticks": ""
             }
            },
            "type": "scatter"
           }
          ],
          "scatter3d": [
           {
            "line": {
             "colorbar": {
              "outlinewidth": 0,
              "ticks": ""
             }
            },
            "marker": {
             "colorbar": {
              "outlinewidth": 0,
              "ticks": ""
             }
            },
            "type": "scatter3d"
           }
          ],
          "scattercarpet": [
           {
            "marker": {
             "colorbar": {
              "outlinewidth": 0,
              "ticks": ""
             }
            },
            "type": "scattercarpet"
           }
          ],
          "scattergeo": [
           {
            "marker": {
             "colorbar": {
              "outlinewidth": 0,
              "ticks": ""
             }
            },
            "type": "scattergeo"
           }
          ],
          "scattergl": [
           {
            "marker": {
             "colorbar": {
              "outlinewidth": 0,
              "ticks": ""
             }
            },
            "type": "scattergl"
           }
          ],
          "scattermapbox": [
           {
            "marker": {
             "colorbar": {
              "outlinewidth": 0,
              "ticks": ""
             }
            },
            "type": "scattermapbox"
           }
          ],
          "scatterpolar": [
           {
            "marker": {
             "colorbar": {
              "outlinewidth": 0,
              "ticks": ""
             }
            },
            "type": "scatterpolar"
           }
          ],
          "scatterpolargl": [
           {
            "marker": {
             "colorbar": {
              "outlinewidth": 0,
              "ticks": ""
             }
            },
            "type": "scatterpolargl"
           }
          ],
          "scatterternary": [
           {
            "marker": {
             "colorbar": {
              "outlinewidth": 0,
              "ticks": ""
             }
            },
            "type": "scatterternary"
           }
          ],
          "surface": [
           {
            "colorbar": {
             "outlinewidth": 0,
             "ticks": ""
            },
            "colorscale": [
             [
              0,
              "#0d0887"
             ],
             [
              0.1111111111111111,
              "#46039f"
             ],
             [
              0.2222222222222222,
              "#7201a8"
             ],
             [
              0.3333333333333333,
              "#9c179e"
             ],
             [
              0.4444444444444444,
              "#bd3786"
             ],
             [
              0.5555555555555556,
              "#d8576b"
             ],
             [
              0.6666666666666666,
              "#ed7953"
             ],
             [
              0.7777777777777778,
              "#fb9f3a"
             ],
             [
              0.8888888888888888,
              "#fdca26"
             ],
             [
              1,
              "#f0f921"
             ]
            ],
            "type": "surface"
           }
          ],
          "table": [
           {
            "cells": {
             "fill": {
              "color": "#EBF0F8"
             },
             "line": {
              "color": "white"
             }
            },
            "header": {
             "fill": {
              "color": "#C8D4E3"
             },
             "line": {
              "color": "white"
             }
            },
            "type": "table"
           }
          ]
         },
         "layout": {
          "annotationdefaults": {
           "arrowcolor": "#2a3f5f",
           "arrowhead": 0,
           "arrowwidth": 1
          },
          "autotypenumbers": "strict",
          "coloraxis": {
           "colorbar": {
            "outlinewidth": 0,
            "ticks": ""
           }
          },
          "colorscale": {
           "diverging": [
            [
             0,
             "#8e0152"
            ],
            [
             0.1,
             "#c51b7d"
            ],
            [
             0.2,
             "#de77ae"
            ],
            [
             0.3,
             "#f1b6da"
            ],
            [
             0.4,
             "#fde0ef"
            ],
            [
             0.5,
             "#f7f7f7"
            ],
            [
             0.6,
             "#e6f5d0"
            ],
            [
             0.7,
             "#b8e186"
            ],
            [
             0.8,
             "#7fbc41"
            ],
            [
             0.9,
             "#4d9221"
            ],
            [
             1,
             "#276419"
            ]
           ],
           "sequential": [
            [
             0,
             "#0d0887"
            ],
            [
             0.1111111111111111,
             "#46039f"
            ],
            [
             0.2222222222222222,
             "#7201a8"
            ],
            [
             0.3333333333333333,
             "#9c179e"
            ],
            [
             0.4444444444444444,
             "#bd3786"
            ],
            [
             0.5555555555555556,
             "#d8576b"
            ],
            [
             0.6666666666666666,
             "#ed7953"
            ],
            [
             0.7777777777777778,
             "#fb9f3a"
            ],
            [
             0.8888888888888888,
             "#fdca26"
            ],
            [
             1,
             "#f0f921"
            ]
           ],
           "sequentialminus": [
            [
             0,
             "#0d0887"
            ],
            [
             0.1111111111111111,
             "#46039f"
            ],
            [
             0.2222222222222222,
             "#7201a8"
            ],
            [
             0.3333333333333333,
             "#9c179e"
            ],
            [
             0.4444444444444444,
             "#bd3786"
            ],
            [
             0.5555555555555556,
             "#d8576b"
            ],
            [
             0.6666666666666666,
             "#ed7953"
            ],
            [
             0.7777777777777778,
             "#fb9f3a"
            ],
            [
             0.8888888888888888,
             "#fdca26"
            ],
            [
             1,
             "#f0f921"
            ]
           ]
          },
          "colorway": [
           "#636efa",
           "#EF553B",
           "#00cc96",
           "#ab63fa",
           "#FFA15A",
           "#19d3f3",
           "#FF6692",
           "#B6E880",
           "#FF97FF",
           "#FECB52"
          ],
          "font": {
           "color": "#2a3f5f"
          },
          "geo": {
           "bgcolor": "white",
           "lakecolor": "white",
           "landcolor": "#E5ECF6",
           "showlakes": true,
           "showland": true,
           "subunitcolor": "white"
          },
          "hoverlabel": {
           "align": "left"
          },
          "hovermode": "closest",
          "mapbox": {
           "style": "light"
          },
          "paper_bgcolor": "white",
          "plot_bgcolor": "#E5ECF6",
          "polar": {
           "angularaxis": {
            "gridcolor": "white",
            "linecolor": "white",
            "ticks": ""
           },
           "bgcolor": "#E5ECF6",
           "radialaxis": {
            "gridcolor": "white",
            "linecolor": "white",
            "ticks": ""
           }
          },
          "scene": {
           "xaxis": {
            "backgroundcolor": "#E5ECF6",
            "gridcolor": "white",
            "gridwidth": 2,
            "linecolor": "white",
            "showbackground": true,
            "ticks": "",
            "zerolinecolor": "white"
           },
           "yaxis": {
            "backgroundcolor": "#E5ECF6",
            "gridcolor": "white",
            "gridwidth": 2,
            "linecolor": "white",
            "showbackground": true,
            "ticks": "",
            "zerolinecolor": "white"
           },
           "zaxis": {
            "backgroundcolor": "#E5ECF6",
            "gridcolor": "white",
            "gridwidth": 2,
            "linecolor": "white",
            "showbackground": true,
            "ticks": "",
            "zerolinecolor": "white"
           }
          },
          "shapedefaults": {
           "line": {
            "color": "#2a3f5f"
           }
          },
          "ternary": {
           "aaxis": {
            "gridcolor": "white",
            "linecolor": "white",
            "ticks": ""
           },
           "baxis": {
            "gridcolor": "white",
            "linecolor": "white",
            "ticks": ""
           },
           "bgcolor": "#E5ECF6",
           "caxis": {
            "gridcolor": "white",
            "linecolor": "white",
            "ticks": ""
           }
          },
          "title": {
           "x": 0.05
          },
          "xaxis": {
           "automargin": true,
           "gridcolor": "white",
           "linecolor": "white",
           "ticks": "",
           "title": {
            "standoff": 15
           },
           "zerolinecolor": "white",
           "zerolinewidth": 2
          },
          "yaxis": {
           "automargin": true,
           "gridcolor": "white",
           "linecolor": "white",
           "ticks": "",
           "title": {
            "standoff": 15
           },
           "zerolinecolor": "white",
           "zerolinewidth": 2
          }
         }
        },
        "title": {
         "text": "Parallel Coordinate Plot"
        }
       }
      },
      "image/png": "[encoded data removed]",
      "text/html": [
       "<div>                            <div id=\"a20d190a-787e-443f-9ac9-94116103cfeb\" class=\"plotly-graph-div\" style=\"height:525px; width:100%;\"></div>            <script type=\"text/javascript\">                require([\"plotly\"], function(Plotly) {                    window.PLOTLYENV=window.PLOTLYENV || {};                                    if (document.getElementById(\"a20d190a-787e-443f-9ac9-94116103cfeb\")) {                    Plotly.newPlot(                        \"a20d190a-787e-443f-9ac9-94116103cfeb\",                        [{\"dimensions\":[{\"label\":\"Objective Value\",\"range\":[0.5593999624252319,0.698199987411499],\"values\":[0.6196999549865723,0.6906999945640564,0.5593999624252319,0.6793000102043152,0.698199987411499,0.671999990940094,0.6693999767303467,0.6696000099182129]},{\"label\":\"batch_size\",\"range\":[200,850],\"values\":[850,700,700,550,250,200,200,450]},{\"label\":\"lr\",\"range\":[0.004200000000000001,0.09040000000000001],\"values\":[0.055400000000000005,0.09040000000000001,0.004200000000000001,0.07400000000000001,0.044800000000000006,0.0144,0.0296,0.064]},{\"label\":\"n_epochs\",\"range\":[20,130],\"values\":[20,130,100,60,120,80,30,40]}],\"labelangle\":30,\"labelside\":\"bottom\",\"line\":{\"color\":[0.6196999549865723,0.6906999945640564,0.5593999624252319,0.6793000102043152,0.698199987411499,0.671999990940094,0.6693999767303467,0.6696000099182129],\"colorbar\":{\"title\":{\"text\":\"Objective Value\"}},\"colorscale\":[[0.0,\"rgb(247,251,255)\"],[0.125,\"rgb(222,235,247)\"],[0.25,\"rgb(198,219,239)\"],[0.375,\"rgb(158,202,225)\"],[0.5,\"rgb(107,174,214)\"],[0.625,\"rgb(66,146,198)\"],[0.75,\"rgb(33,113,181)\"],[0.875,\"rgb(8,81,156)\"],[1.0,\"rgb(8,48,107)\"]],\"reversescale\":false,\"showscale\":true},\"type\":\"parcoords\"}],                        {\"title\":{\"text\":\"Parallel Coordinate Plot\"},\"template\":{\"data\":{\"bar\":[{\"error_x\":{\"color\":\"#2a3f5f\"},\"error_y\":{\"color\":\"#2a3f5f\"},\"marker\":{\"line\":{\"color\":\"#E5ECF6\",\"width\":0.5},\"pattern\":{\"fillmode\":\"overlay\",\"size\":10,\"solidity\":0.2}},\"type\":\"bar\"}],\"barpolar\":[{\"marker\":{\"line\":{\"color\":\"#E5ECF6\",\"width\":0.5},\"pattern\":{\"fillmode\":\"overlay\",\"size\":10,\"solidity\":0.2}},\"type\":\"barpolar\"}],\"carpet\":[{\"aaxis\":{\"endlinecolor\":\"#2a3f5f\",\"gridcolor\":\"white\",\"linecolor\":\"white\",\"minorgridcolor\":\"white\",\"startlinecolor\":\"#2a3f5f\"},\"baxis\":{\"endlinecolor\":\"#2a3f5f\",\"gridcolor\":\"white\",\"linecolor\":\"white\",\"minorgridcolor\":\"white\",\"startlinecolor\":\"#2a3f5f\"},\"type\":\"carpet\"}],\"choropleth\":[{\"colorbar\":{\"outlinewidth\":0,\"ticks\":\"\"},\"type\":\"choropleth\"}],\"contour\":[{\"colorbar\":{\"outlinewidth\":0,\"ticks\":\"\"},\"colorscale\":[[0.0,\"#0d0887\"],[0.1111111111111111,\"#46039f\"],[0.2222222222222222,\"#7201a8\"],[0.3333333333333333,\"#9c179e\"],[0.4444444444444444,\"#bd3786\"],[0.5555555555555556,\"#d8576b\"],[0.6666666666666666,\"#ed7953\"],[0.7777777777777778,\"#fb9f3a\"],[0.8888888888888888,\"#fdca26\"],[1.0,\"#f0f921\"]],\"type\":\"contour\"}],\"contourcarpet\":[{\"colorbar\":{\"outlinewidth\":0,\"ticks\":\"\"},\"type\":\"contourcarpet\"}],\"heatmap\":[{\"colorbar\":{\"outlinewidth\":0,\"ticks\":\"\"},\"colorscale\":[[0.0,\"#0d0887\"],[0.1111111111111111,\"#46039f\"],[0.2222222222222222,\"#7201a8\"],[0.3333333333333333,\"#9c179e\"],[0.4444444444444444,\"#bd3786\"],[0.5555555555555556,\"#d8576b\"],[0.6666666666666666,\"#ed7953\"],[0.7777777777777778,\"#fb9f3a\"],[0.8888888888888888,\"#fdca26\"],[1.0,\"#f0f921\"]],\"type\":\"heatmap\"}],\"heatmapgl\":[{\"colorbar\":{\"outlinewidth\":0,\"ticks\":\"\"},\"colorscale\":[[0.0,\"#0d0887\"],[0.1111111111111111,\"#46039f\"],[0.2222222222222222,\"#7201a8\"],[0.3333333333333333,\"#9c179e\"],[0.4444444444444444,\"#bd3786\"],[0.5555555555555556,\"#d8576b\"],[0.6666666666666666,\"#ed7953\"],[0.7777777777777778,\"#fb9f3a\"],[0.8888888888888888,\"#fdca26\"],[1.0,\"#f0f921\"]],\"type\":\"heatmapgl\"}],\"histogram\":[{\"marker\":{\"pattern\":{\"fillmode\":\"overlay\",\"size\":10,\"solidity\":0.2}},\"type\":\"histogram\"}],\"histogram2d\":[{\"colorbar\":{\"outlinewidth\":0,\"ticks\":\"\"},\"colorscale\":[[0.0,\"#0d0887\"],[0.1111111111111111,\"#46039f\"],[0.2222222222222222,\"#7201a8\"],[0.3333333333333333,\"#9c179e\"],[0.4444444444444444,\"#bd3786\"],[0.5555555555555556,\"#d8576b\"],[0.6666666666666666,\"#ed7953\"],[0.7777777777777778,\"#fb9f3a\"],[0.8888888888888888,\"#fdca26\"],[1.0,\"#f0f921\"]],\"type\":\"histogram2d\"}],\"histogram2dcontour\":[{\"colorbar\":{\"outlinewidth\":0,\"ticks\":\"\"},\"colorscale\":[[0.0,\"#0d0887\"],[0.1111111111111111,\"#46039f\"],[0.2222222222222222,\"#7201a8\"],[0.3333333333333333,\"#9c179e\"],[0.4444444444444444,\"#bd3786\"],[0.5555555555555556,\"#d8576b\"],[0.6666666666666666,\"#ed7953\"],[0.7777777777777778,\"#fb9f3a\"],[0.8888888888888888,\"#fdca26\"],[1.0,\"#f0f921\"]],\"type\":\"histogram2dcontour\"}],\"mesh3d\":[{\"colorbar\":{\"outlinewidth\":0,\"ticks\":\"\"},\"type\":\"mesh3d\"}],\"parcoords\":[{\"line\":{\"colorbar\":{\"outlinewidth\":0,\"ticks\":\"\"}},\"type\":\"parcoords\"}],\"pie\":[{\"automargin\":true,\"type\":\"pie\"}],\"scatter\":[{\"marker\":{\"colorbar\":{\"outlinewidth\":0,\"ticks\":\"\"}},\"type\":\"scatter\"}],\"scatter3d\":[{\"line\":{\"colorbar\":{\"outlinewidth\":0,\"ticks\":\"\"}},\"marker\":{\"colorbar\":{\"outlinewidth\":0,\"ticks\":\"\"}},\"type\":\"scatter3d\"}],\"scattercarpet\":[{\"marker\":{\"colorbar\":{\"outlinewidth\":0,\"ticks\":\"\"}},\"type\":\"scattercarpet\"}],\"scattergeo\":[{\"marker\":{\"colorbar\":{\"outlinewidth\":0,\"ticks\":\"\"}},\"type\":\"scattergeo\"}],\"scattergl\":[{\"marker\":{\"colorbar\":{\"outlinewidth\":0,\"ticks\":\"\"}},\"type\":\"scattergl\"}],\"scattermapbox\":[{\"marker\":{\"colorbar\":{\"outlinewidth\":0,\"ticks\":\"\"}},\"type\":\"scattermapbox\"}],\"scatterpolar\":[{\"marker\":{\"colorbar\":{\"outlinewidth\":0,\"ticks\":\"\"}},\"type\":\"scatterpolar\"}],\"scatterpolargl\":[{\"marker\":{\"colorbar\":{\"outlinewidth\":0,\"ticks\":\"\"}},\"type\":\"scatterpolargl\"}],\"scatterternary\":[{\"marker\":{\"colorbar\":{\"outlinewidth\":0,\"ticks\":\"\"}},\"type\":\"scatterternary\"}],\"surface\":[{\"colorbar\":{\"outlinewidth\":0,\"ticks\":\"\"},\"colorscale\":[[0.0,\"#0d0887\"],[0.1111111111111111,\"#46039f\"],[0.2222222222222222,\"#7201a8\"],[0.3333333333333333,\"#9c179e\"],[0.4444444444444444,\"#bd3786\"],[0.5555555555555556,\"#d8576b\"],[0.6666666666666666,\"#ed7953\"],[0.7777777777777778,\"#fb9f3a\"],[0.8888888888888888,\"#fdca26\"],[1.0,\"#f0f921\"]],\"type\":\"surface\"}],\"table\":[{\"cells\":{\"fill\":{\"color\":\"#EBF0F8\"},\"line\":{\"color\":\"white\"}},\"header\":{\"fill\":{\"color\":\"#C8D4E3\"},\"line\":{\"color\":\"white\"}},\"type\":\"table\"}]},\"layout\":{\"annotationdefaults\":{\"arrowcolor\":\"#2a3f5f\",\"arrowhead\":0,\"arrowwidth\":1},\"autotypenumbers\":\"strict\",\"coloraxis\":{\"colorbar\":{\"outlinewidth\":0,\"ticks\":\"\"}},\"colorscale\":{\"diverging\":[[0,\"#8e0152\"],[0.1,\"#c51b7d\"],[0.2,\"#de77ae\"],[0.3,\"#f1b6da\"],[0.4,\"#fde0ef\"],[0.5,\"#f7f7f7\"],[0.6,\"#e6f5d0\"],[0.7,\"#b8e186\"],[0.8,\"#7fbc41\"],[0.9,\"#4d9221\"],[1,\"#276419\"]],\"sequential\":[[0.0,\"#0d0887\"],[0.1111111111111111,\"#46039f\"],[0.2222222222222222,\"#7201a8\"],[0.3333333333333333,\"#9c179e\"],[0.4444444444444444,\"#bd3786\"],[0.5555555555555556,\"#d8576b\"],[0.6666666666666666,\"#ed7953\"],[0.7777777777777778,\"#fb9f3a\"],[0.8888888888888888,\"#fdca26\"],[1.0,\"#f0f921\"]],\"sequentialminus\":[[0.0,\"#0d0887\"],[0.1111111111111111,\"#46039f\"],[0.2222222222222222,\"#7201a8\"],[0.3333333333333333,\"#9c179e\"],[0.4444444444444444,\"#bd3786\"],[0.5555555555555556,\"#d8576b\"],[0.6666666666666666,\"#ed7953\"],[0.7777777777777778,\"#fb9f3a\"],[0.8888888888888888,\"#fdca26\"],[1.0,\"#f0f921\"]]},\"colorway\":[\"#636efa\",\"#EF553B\",\"#00cc96\",\"#ab63fa\",\"#FFA15A\",\"#19d3f3\",\"#FF6692\",\"#B6E880\",\"#FF97FF\",\"#FECB52\"],\"font\":{\"color\":\"#2a3f5f\"},\"geo\":{\"bgcolor\":\"white\",\"lakecolor\":\"white\",\"landcolor\":\"#E5ECF6\",\"showlakes\":true,\"showland\":true,\"subunitcolor\":\"white\"},\"hoverlabel\":{\"align\":\"left\"},\"hovermode\":\"closest\",\"mapbox\":{\"style\":\"light\"},\"paper_bgcolor\":\"white\",\"plot_bgcolor\":\"#E5ECF6\",\"polar\":{\"angularaxis\":{\"gridcolor\":\"white\",\"linecolor\":\"white\",\"ticks\":\"\"},\"bgcolor\":\"#E5ECF6\",\"radialaxis\":{\"gridcolor\":\"white\",\"linecolor\":\"white\",\"ticks\":\"\"}},\"scene\":{\"xaxis\":{\"backgroundcolor\":\"#E5ECF6\",\"gridcolor\":\"white\",\"gridwidth\":2,\"linecolor\":\"white\",\"showbackground\":true,\"ticks\":\"\",\"zerolinecolor\":\"white\"},\"yaxis\":{\"backgroundcolor\":\"#E5ECF6\",\"gridcolor\":\"white\",\"gridwidth\":2,\"linecolor\":\"white\",\"showbackground\":true,\"ticks\":\"\",\"zerolinecolor\":\"white\"},\"zaxis\":{\"backgroundcolor\":\"#E5ECF6\",\"gridcolor\":\"white\",\"gridwidth\":2,\"linecolor\":\"white\",\"showbackground\":true,\"ticks\":\"\",\"zerolinecolor\":\"white\"}},\"shapedefaults\":{\"line\":{\"color\":\"#2a3f5f\"}},\"ternary\":{\"aaxis\":{\"gridcolor\":\"white\",\"linecolor\":\"white\",\"ticks\":\"\"},\"baxis\":{\"gridcolor\":\"white\",\"linecolor\":\"white\",\"ticks\":\"\"},\"bgcolor\":\"#E5ECF6\",\"caxis\":{\"gridcolor\":\"white\",\"linecolor\":\"white\",\"ticks\":\"\"}},\"title\":{\"x\":0.05},\"xaxis\":{\"automargin\":true,\"gridcolor\":\"white\",\"linecolor\":\"white\",\"ticks\":\"\",\"title\":{\"standoff\":15},\"zerolinecolor\":\"white\",\"zerolinewidth\":2},\"yaxis\":{\"automargin\":true,\"gridcolor\":\"white\",\"linecolor\":\"white\",\"ticks\":\"\",\"title\":{\"standoff\":15},\"zerolinecolor\":\"white\",\"zerolinewidth\":2}}}},                        {\"responsive\": true}                    ).then(function(){\n",
       "                            \n",
       "var gd = document.getElementById('a20d190a-787e-443f-9ac9-94116103cfeb');\n",
       "var x = new MutationObserver(function (mutations, observer) {{\n",
       "        var display = window.getComputedStyle(gd).display;\n",
       "        if (!display || display === 'none') {{\n",
       "            console.log([gd, 'removed!']);\n",
       "            Plotly.purge(gd);\n",
       "            observer.disconnect();\n",
       "        }}\n",
       "}});\n",
       "\n",
       "// Listen for the removal of the full notebook cells\n",
       "var notebookContainer = gd.closest('#notebook-container');\n",
       "if (notebookContainer) {{\n",
       "    x.observe(notebookContainer, {childList: true});\n",
       "}}\n",
       "\n",
       "// Listen for the clearing of the current output cell\n",
       "var outputEl = gd.closest('.output');\n",
       "if (outputEl) {{\n",
       "    x.observe(outputEl, {childList: true});\n",
       "}}\n",
       "\n",
       "                        })                };                });            </script>        </div>"
      ]
     },
     "metadata": {},
     "output_type": "display_data"
    }
   ],
   "source": [
    "opt_viz.plot_parallel_coordinate(study)"
   ]
  }
 ],
 "metadata": {
  "kernelspec": {
   "display_name": "Python [conda env:dev]",
   "language": "python",
   "name": "conda-env-dev-py"
  },
  "language_info": {
   "codemirror_mode": {
    "name": "ipython",
    "version": 3
   },
   "file_extension": ".py",
   "mimetype": "text/x-python",
   "name": "python",
   "nbconvert_exporter": "python",
   "pygments_lexer": "ipython3",
   "version": "3.8.8"
  }
 },
 "nbformat": 4,
 "nbformat_minor": 5
}
