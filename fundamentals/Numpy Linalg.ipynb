{
 "cells": [
  {
   "cell_type": "markdown",
   "id": "461ab155-b253-42ee-a032-0e725553098c",
   "metadata": {},
   "source": [
    "# Some Linalg Exercises in Numpy\n",
    "- Matrix Multiplication\n",
    "- Eigendecomposition and Reconstruction\n",
    "- PCA\n",
    "- Euclidean Distance\n",
    "- Linear Regression"
   ]
  },
  {
   "cell_type": "code",
   "execution_count": 1,
   "id": "5e2b06a4-4e73-423c-a8f1-b77256077292",
   "metadata": {},
   "outputs": [],
   "source": [
    "import numpy as np"
   ]
  },
  {
   "cell_type": "markdown",
   "id": "fec41c18-f976-4930-a267-e1cf5e97c866",
   "metadata": {},
   "source": [
    "# Matrix Multiplication\n",
    "- Implement Matrix multiplication"
   ]
  },
  {
   "cell_type": "code",
   "execution_count": 5,
   "id": "2aa31e2b-c455-4a74-9521-6700ec05e671",
   "metadata": {},
   "outputs": [],
   "source": [
    "A = np.random.randint(low=0, high=9, size=(3, 4))\n",
    "B = np.random.randint(low=0, high=9, size=(4, 3))"
   ]
  },
  {
   "cell_type": "code",
   "execution_count": 10,
   "id": "ea1fe281-a668-4e52-8629-8f81691619ed",
   "metadata": {},
   "outputs": [],
   "source": [
    "def mydot(A, B):\n",
    "    res = np.zeros(shape=(A.shape[0], B.shape[1]))\n",
    "    for i, row in enumerate(A):\n",
    "        for j, col in enumerate(B.T):\n",
    "            res[i, j] = (row * col).sum()\n",
    "    return res"
   ]
  },
  {
   "cell_type": "code",
   "execution_count": 15,
   "id": "2a65d300-9fc2-4684-ab41-dad68ca930c1",
   "metadata": {},
   "outputs": [
    {
     "data": {
      "text/plain": [
       "np.True_"
      ]
     },
     "execution_count": 15,
     "metadata": {},
     "output_type": "execute_result"
    }
   ],
   "source": [
    "(mydot(A, B) == np.dot(A, B)).all()"
   ]
  },
  {
   "cell_type": "markdown",
   "id": "6f77c369-0760-4dbb-bef3-574a1a1132ca",
   "metadata": {},
   "source": [
    "# Eigendecomposition and Reconstruction\n",
    "- Use np eig to decompose a matrix and then reconstruct it using only top eigenvectors\n",
    "- $ A = PDP^{-1}$\n",
    "- D is $\\lambda I$, where $\\lambda$ are the eigenvalues from the decomposition\n",
    "- P is $[v1, v2, .., vn]$ are the eigenvectors of decomposition\n",
    "- Note: if A is symmetric, then eigenvectors are orthonormal -> $P^{T}*P=I$ -> $P^T=P^{-1}$"
   ]
  },
  {
   "cell_type": "code",
   "execution_count": 66,
   "id": "c5caf96c-0619-4f8c-a3a6-35752ab384d8",
   "metadata": {},
   "outputs": [
    {
     "name": "stdout",
     "output_type": "stream",
     "text": [
      "[[119.44  -5.58   3.93   8.   -16.73]\n",
      " [ -5.58 127.95   1.3  -24.75 -14.75]\n",
      " [  3.93   1.3   97.54   3.75   0.22]\n",
      " [  8.   -24.75   3.75  87.77   9.36]\n",
      " [-16.73 -14.75   0.22   9.36 115.66]]\n"
     ]
    }
   ],
   "source": [
    "A = np.random.randn(100, 5)\n",
    "A = np.dot(A.T, A) # need a symmetric matrix to get real and orthogonal eigens\n",
    "\n",
    "with np.printoptions(precision=2, suppress=True):\n",
    "    print(A)"
   ]
  },
  {
   "cell_type": "code",
   "execution_count": 90,
   "id": "682782ef-4062-4fd9-b641-8d5ceadcffb5",
   "metadata": {},
   "outputs": [
    {
     "name": "stdout",
     "output_type": "stream",
     "text": [
      "5 eigenvalues\n",
      "5 eigenvectors of size (5,)\n"
     ]
    }
   ],
   "source": [
    "eigenval, eigenvec = np.linalg.eig(A) \n",
    "eigenvec = eigenvec.T # np returns column vectors\n",
    "print(len(eigenval), \"eigenvalues\")\n",
    "print(len(eigenvec), \"eigenvectors of size\", eigenvec[0].shape)"
   ]
  },
  {
   "cell_type": "code",
   "execution_count": 91,
   "id": "c8bc56a8-a351-40e6-a794-c0c795d6bc69",
   "metadata": {},
   "outputs": [
    {
     "name": "stdout",
     "output_type": "stream",
     "text": [
      "[ 74.36577106  92.45760986  99.39868986 133.30642349 148.8324261 ]\n"
     ]
    }
   ],
   "source": [
    "print(eigenval) # increasing"
   ]
  },
  {
   "cell_type": "code",
   "execution_count": 92,
   "id": "9b3c42af-d712-4dc3-9758-c24ea8940823",
   "metadata": {},
   "outputs": [
    {
     "name": "stdout",
     "output_type": "stream",
     "text": [
      "Reconstruction using all eigenvectors\n",
      "[[119.44  -5.58   3.93   8.   -16.73]\n",
      " [ -5.58 127.95   1.3  -24.75 -14.75]\n",
      " [  3.93   1.3   97.54   3.75   0.22]\n",
      " [  8.   -24.75   3.75  87.77   9.36]\n",
      " [-16.73 -14.75   0.22   9.36 115.66]]\n"
     ]
    }
   ],
   "source": [
    "with np.printoptions(precision=2, suppress=True):\n",
    "    print(\"Reconstruction using all eigenvectors\")\n",
    "    print(eigenvec.T @ np.diag(eigenval) @ eigenvec)"
   ]
  },
  {
   "cell_type": "code",
   "execution_count": 106,
   "id": "27083a71-d4a4-45c8-96cd-4308a21ea048",
   "metadata": {},
   "outputs": [
    {
     "name": "stdout",
     "output_type": "stream",
     "text": [
      "Reconstruction fro errors for smaller number of eigenvectors\n",
      "[2.9396722207651104e-13, 74.36577106426088, 92.45760985859076, 99.39868985716811, 133.3064234946695]\n"
     ]
    }
   ],
   "source": [
    "errors = []\n",
    "for k in range(5):\n",
    "    A_rec = eigenvec[k:].T @ np.diag(eigenval[k:]) @ eigenvec[k:]\n",
    "    errors.append(float(np.linalg.norm(A - A_rec, ord=2)))\n",
    "print(\"Reconstruction fro errors for smaller number of eigenvectors\")\n",
    "print(errors)"
   ]
  },
  {
   "cell_type": "markdown",
   "id": "41aca537-0c19-48c0-b21e-c78f1fd787da",
   "metadata": {
    "tags": []
   },
   "source": [
    "# PCA\n",
    "- Eigendecomposition on Covariance Matrix (don't forget 1/(n-1) )\n",
    "- sklearn PCA centeres data, need to do that to get same results\n",
    "- np.eig doens't guarantee an order for the eigenvalues -> need to sort\n",
    "- np.eig eigenvectors might have mixed signs -> need to flip some"
   ]
  },
  {
   "cell_type": "code",
   "execution_count": 236,
   "id": "3197aaf8-54d8-41e9-a7d1-7d6844eabb6d",
   "metadata": {},
   "outputs": [],
   "source": [
    "A = np.random.randn(100, 5) \n",
    "A = A - A.mean(axis=0) # centering, sklearn PCA does this under the hood on both fit and transform"
   ]
  },
  {
   "cell_type": "code",
   "execution_count": 237,
   "id": "09edf1e1-1a96-4e53-9a74-9669082358da",
   "metadata": {},
   "outputs": [
    {
     "name": "stdout",
     "output_type": "stream",
     "text": [
      "My Eigenvals [1.2340182  1.12879864 0.91975243 0.78251363 0.69433294]\n"
     ]
    }
   ],
   "source": [
    "S = np.dot(A.T, A) / (len(A) - 1)\n",
    "eigenval, eigenvec = np.linalg.eig(S)\n",
    "\n",
    "idx = eigenval.argsort()[::-1] # ensure decreasing \n",
    "eigenval = eigenval[idx]\n",
    "eigenvec = eigenvec.T[idx]\n",
    "\n",
    "print(\"My Eigenvals\", eigenval)"
   ]
  },
  {
   "cell_type": "code",
   "execution_count": 247,
   "id": "0d4ab22c-efba-4ef5-88ce-e4bff38f3f25",
   "metadata": {},
   "outputs": [
    {
     "name": "stdout",
     "output_type": "stream",
     "text": [
      "SKlearn PCA Eigenvals [1.2340182  1.12879864 0.91975243 0.78251363 0.69433294]\n"
     ]
    }
   ],
   "source": [
    "from sklearn.decomposition import PCA\n",
    "pca = PCA(n_components=5).fit(A)\n",
    "print(\"SKlearn PCA Eigenvals\", pca.explained_variance_)"
   ]
  },
  {
   "cell_type": "code",
   "execution_count": 239,
   "id": "6498d55d-b373-4e74-99be-400442483ae7",
   "metadata": {},
   "outputs": [],
   "source": [
    "# change sign of eigenvecs to match sklearn\n",
    "\n",
    "sk_signs = np.sign(pca.components_[:,0])\n",
    "my_signs = np.sign(eigenvec[:,0])\n",
    "flip = ~(sk_signs == my_signs)\n",
    "\n",
    "eigenvec[flip, :] *= -1"
   ]
  },
  {
   "cell_type": "code",
   "execution_count": 324,
   "id": "cdc4b98c-064b-4d27-8218-ef23738fd0bf",
   "metadata": {},
   "outputs": [
    {
     "name": "stdout",
     "output_type": "stream",
     "text": [
      "My PCA same as sklearn: True\n"
     ]
    }
   ],
   "source": [
    "my_transform = A @ eigenvec.T\n",
    "sk_transform = pca.transform(A)\n",
    "\n",
    "print(\"My PCA same as sklearn:\", np.isclose(my_transform, sk_transform).all())"
   ]
  },
  {
   "cell_type": "markdown",
   "id": "258cc169-21f3-4121-869d-d098fbee3d4f",
   "metadata": {},
   "source": [
    "# Euclidean Distance\n",
    "- Compute the euclidean distance between all data pairs $x_i$, $x_j$ with columns k\n",
    "- $L_2(x_i, x_j) = \\sqrt{} \\sum (x_i^k - x_j^k)^2 = \\sqrt{}{\\sum{(x_i^k)^2 + (x_j^k)^2 - 2 x_i^k x_j^k}} = \\sqrt{}{\\sum{(x_i^k)^2} + \\sum{(x_j^k)^2} - 2 \\sum{x_i^k x_j^k}}$\n",
    "- As it happens $\\sum{x_i^k x_j^k}$ is the dot product between X and itself along the wide dimesion\n",
    "- We just need to broadcast and reshape $\\sum x^2$ -> At each cell (i,j) we want and $\\sum x_i^2$ and $\\sum x_j^2$ -> seen as a matrix, we want to duplicate $\\sum x_i^2$ for each column j. Similar with the other direction, we can just transpose"
   ]
  },
  {
   "cell_type": "code",
   "execution_count": 305,
   "id": "3d9d133f-e2b1-4b07-8953-3ddd91015570",
   "metadata": {},
   "outputs": [],
   "source": [
    "X = np.random.randn(100, 5)"
   ]
  },
  {
   "cell_type": "code",
   "execution_count": 323,
   "id": "3ed03101-bb58-43f2-bbd0-14e301383ad9",
   "metadata": {},
   "outputs": [
    {
     "data": {
      "text/plain": [
       "(100, 1)"
      ]
     },
     "execution_count": 323,
     "metadata": {},
     "output_type": "execute_result"
    }
   ],
   "source": [
    "X2 = (X**2).sum(axis=1)[:, np.newaxis]\n",
    "X2.shape"
   ]
  },
  {
   "cell_type": "code",
   "execution_count": 307,
   "id": "a76293f0-4843-4252-b266-864cad452ea2",
   "metadata": {},
   "outputs": [
    {
     "data": {
      "text/plain": [
       "(100, 100)"
      ]
     },
     "execution_count": 307,
     "metadata": {},
     "output_type": "execute_result"
    }
   ],
   "source": [
    "X2 = X2.repeat(len(X), axis=1)\n",
    "X2.shape"
   ]
  },
  {
   "cell_type": "code",
   "execution_count": 313,
   "id": "d1e2e9c0-3357-4e7a-91f6-c16d4f50a035",
   "metadata": {},
   "outputs": [
    {
     "name": "stderr",
     "output_type": "stream",
     "text": [
      "/tmp/ipykernel_5931/1183810035.py:1: RuntimeWarning: invalid value encountered in sqrt\n",
      "  my_l2 = np.sqrt(X2 + X2.T - 2*X@X.T)\n"
     ]
    }
   ],
   "source": [
    "my_l2 = np.sqrt(X2 + X2.T - 2*X@X.T)\n",
    "my_l2 = np.nan_to_num(my_l2) # some nan on diagonal"
   ]
  },
  {
   "cell_type": "code",
   "execution_count": 322,
   "id": "90cab5aa-8ef5-4a6f-a31f-ee0e834709ad",
   "metadata": {},
   "outputs": [
    {
     "name": "stdout",
     "output_type": "stream",
     "text": [
      "My l2 the same as sklearn: True\n"
     ]
    }
   ],
   "source": [
    "from sklearn.metrics import pairwise_distances\n",
    "print(\"My l2 the same as sklearn:\", np.isclose(my_l2, pairwise_distances(X, metric=\"euclidean\"), atol=1e-7).all()) # some precision issues"
   ]
  },
  {
   "cell_type": "markdown",
   "id": "87cc5d03-25e9-4dc0-ad5d-97b3c3207895",
   "metadata": {},
   "source": [
    "# Linear Regression\n",
    "$ \\beta = (X^T X)^{-1} X^T y $"
   ]
  },
  {
   "cell_type": "code",
   "execution_count": 3,
   "id": "ec4e4796-ce07-438a-b98c-21817d2e8ae2",
   "metadata": {},
   "outputs": [],
   "source": [
    "import matplotlib.pyplot as plt"
   ]
  },
  {
   "cell_type": "code",
   "execution_count": 27,
   "id": "6804ca32-20f5-44fc-98ca-46124f36028a",
   "metadata": {},
   "outputs": [],
   "source": [
    "n = 100\n",
    "X = np.random.randn(n)\n",
    "y = X + np.random.randn(n)"
   ]
  },
  {
   "cell_type": "code",
   "execution_count": 28,
   "id": "bc21d8bc-2b6c-46e1-b11d-5a8e9aab7a88",
   "metadata": {},
   "outputs": [
    {
     "name": "stdout",
     "output_type": "stream",
     "text": [
      "Linreg slope: 0.9997354191607568, intercept: 0.0065117682764637835\n"
     ]
    }
   ],
   "source": [
    "X = np.stack([X, np.ones(n)], axis=1) # add bias\n",
    "b = np.linalg.inv(X.T @ X) @ X.T @ y\n",
    "print(f\"Linreg slope: {b[0]}, intercept: {b[1]}\")"
   ]
  },
  {
   "cell_type": "code",
   "execution_count": 29,
   "id": "cab82899-1037-4bde-b7ac-690364ae0a08",
   "metadata": {},
   "outputs": [
    {
     "name": "stdout",
     "output_type": "stream",
     "text": [
      "MSE: 1.1074845785616634\n"
     ]
    }
   ],
   "source": [
    "y_pred = X @ b\n",
    "mse = ((y_pred - y)**2).mean()\n",
    "print(f\"MSE: {mse}\")"
   ]
  },
  {
   "cell_type": "code",
   "execution_count": 30,
   "id": "6ceebfe5-b018-44c8-824c-4fb6072eaa8f",
   "metadata": {},
   "outputs": [
    {
     "data": {
      "image/png": "[encoded data removed]",
      "text/plain": [
       "<Figure size 640x480 with 1 Axes>"
      ]
     },
     "metadata": {},
     "output_type": "display_data"
    }
   ],
   "source": [
    "plt.scatter(X[:,0], y)\n",
    "plt.axline((0, b[1]), slope=b[0], color=\"red\")\n",
    "plt.show()"
   ]
  }
 ],
 "metadata": {
  "kernelspec": {
   "display_name": "Python [conda env:dev12]",
   "language": "python",
   "name": "conda-env-dev12-py"
  },
  "language_info": {
   "codemirror_mode": {
    "name": "ipython",
    "version": 3
   },
   "file_extension": ".py",
   "mimetype": "text/x-python",
   "name": "python",
   "nbconvert_exporter": "python",
   "pygments_lexer": "ipython3",
   "version": "3.12.4"
  }
 },
 "nbformat": 4,
 "nbformat_minor": 5
}
