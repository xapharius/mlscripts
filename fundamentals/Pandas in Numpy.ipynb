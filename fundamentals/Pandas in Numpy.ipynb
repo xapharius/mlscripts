{
 "cells": [
  {
   "cell_type": "markdown",
   "id": "2a484d43-dd24-409d-8a42-f40aa2f806e3",
   "metadata": {},
   "source": [
    "# Some Exercises to implement Pandas functionality in Numpy"
   ]
  },
  {
   "cell_type": "code",
   "execution_count": 66,
   "id": "ba3012d1-9b5a-4847-9ec7-e9f46682a548",
   "metadata": {},
   "outputs": [
    {
     "data": {
      "text/html": [
       "<div>\n",
       "<style scoped>\n",
       "    .dataframe tbody tr th:only-of-type {\n",
       "        vertical-align: middle;\n",
       "    }\n",
       "\n",
       "    .dataframe tbody tr th {\n",
       "        vertical-align: top;\n",
       "    }\n",
       "\n",
       "    .dataframe thead th {\n",
       "        text-align: right;\n",
       "    }\n",
       "</style>\n",
       "<table border=\"1\" class=\"dataframe\">\n",
       "  <thead>\n",
       "    <tr style=\"text-align: right;\">\n",
       "      <th></th>\n",
       "      <th>F0</th>\n",
       "      <th>F1</th>\n",
       "      <th>F2</th>\n",
       "      <th>F3</th>\n",
       "    </tr>\n",
       "  </thead>\n",
       "  <tbody>\n",
       "    <tr>\n",
       "      <th>0</th>\n",
       "      <td>0.501595</td>\n",
       "      <td>-0.981152</td>\n",
       "      <td>-0.195478</td>\n",
       "      <td>0.766600</td>\n",
       "    </tr>\n",
       "    <tr>\n",
       "      <th>1</th>\n",
       "      <td>-0.720401</td>\n",
       "      <td>-0.917118</td>\n",
       "      <td>-1.436942</td>\n",
       "      <td>-0.477504</td>\n",
       "    </tr>\n",
       "    <tr>\n",
       "      <th>2</th>\n",
       "      <td>-0.765944</td>\n",
       "      <td>0.686679</td>\n",
       "      <td>-0.311043</td>\n",
       "      <td>-0.970970</td>\n",
       "    </tr>\n",
       "    <tr>\n",
       "      <th>3</th>\n",
       "      <td>-0.196118</td>\n",
       "      <td>0.165628</td>\n",
       "      <td>1.935702</td>\n",
       "      <td>-0.775140</td>\n",
       "    </tr>\n",
       "    <tr>\n",
       "      <th>4</th>\n",
       "      <td>-0.327880</td>\n",
       "      <td>1.228247</td>\n",
       "      <td>0.420124</td>\n",
       "      <td>-0.585357</td>\n",
       "    </tr>\n",
       "  </tbody>\n",
       "</table>\n",
       "</div>"
      ],
      "text/plain": [
       "         F0        F1        F2        F3\n",
       "0  0.501595 -0.981152 -0.195478  0.766600\n",
       "1 -0.720401 -0.917118 -1.436942 -0.477504\n",
       "2 -0.765944  0.686679 -0.311043 -0.970970\n",
       "3 -0.196118  0.165628  1.935702 -0.775140\n",
       "4 -0.327880  1.228247  0.420124 -0.585357"
      ]
     },
     "execution_count": 66,
     "metadata": {},
     "output_type": "execute_result"
    }
   ],
   "source": [
    "# Data\n",
    "\n",
    "import numpy as np\n",
    "import pandas as pd\n",
    "\n",
    "X = np.random.randn(100, 3)\n",
    "X = np.hstack([X, (X[:,0] + 0.5 * np.random.randn(100)).reshape(-1, 1)]) # correlated variable\n",
    "X[np.random.uniform(low=0, high=1, size=X.shape) < 0.01] = np.nan # add NaNs\n",
    "\n",
    "df = pd.DataFrame(X, columns=[f\"F{i}\" for i in range(X.shape[1])])\n",
    "df.head()"
   ]
  },
  {
   "cell_type": "markdown",
   "id": "69c48c36-ad0d-4b12-9e13-d8968206e483",
   "metadata": {},
   "source": [
    "# DropNA"
   ]
  },
  {
   "cell_type": "code",
   "execution_count": 90,
   "id": "5d197edb-1b40-4034-a79a-e68191f9bdda",
   "metadata": {},
   "outputs": [
    {
     "name": "stdout",
     "output_type": "stream",
     "text": [
      "Same as pandas dropna:  True\n"
     ]
    }
   ],
   "source": [
    "keep_idx = np.isnan(X).sum(axis=1) == 0 # boolean index for rows that don't have any nans\n",
    "\n",
    "X = X[keep_idx]\n",
    "df = df.dropna()\n",
    "\n",
    "print(\"Same as pandas dropna: \", np.array_equal(X, df))"
   ]
  },
  {
   "cell_type": "markdown",
   "id": "fed33d8c-0bbc-4e0a-83a7-c2d0d2d34ea9",
   "metadata": {},
   "source": [
    "# Standardization"
   ]
  },
  {
   "cell_type": "code",
   "execution_count": 140,
   "id": "71856be9-858a-4781-b2ce-fcb1e14ad4a5",
   "metadata": {},
   "outputs": [
    {
     "name": "stdout",
     "output_type": "stream",
     "text": [
      "Same as sklearn StandardScaler: True\n"
     ]
    }
   ],
   "source": [
    "mean = X.sum(axis=0) / len(X)\n",
    "std = (((X - mean)**2).sum(axis=0) / len(X)) ** 0.5\n",
    "\n",
    "Z = (X - mean) / std\n",
    "\n",
    "from sklearn.preprocessing import StandardScaler\n",
    "\n",
    "print(\"Same as sklearn StandardScaler:\", np.isclose(Z, StandardScaler().fit_transform(df)).all())"
   ]
  },
  {
   "cell_type": "markdown",
   "id": "3de550fd-eef4-4645-9ff1-21840e7ffb65",
   "metadata": {},
   "source": [
    "# Correlation Matrix\n",
    "$\\rho = \\frac{cov(x, y)}{\\sigma_x \\sigma_y}$\n",
    "- Same as cov on standardised data\n",
    "- Describing pop stastistic so divide by $N$"
   ]
  },
  {
   "cell_type": "code",
   "execution_count": 143,
   "id": "b36e68d4-8efb-463a-a55d-ab2e0c05a0da",
   "metadata": {},
   "outputs": [
    {
     "name": "stdout",
     "output_type": "stream",
     "text": [
      "Same as pandas corr:  True\n"
     ]
    }
   ],
   "source": [
    "X_ = X - X.mean(axis=0) \n",
    "cov = (X_.T @ X_) / len(X) \n",
    "std = X_.std(axis=0).reshape(1, -1).repeat(len(cov), axis=0)\n",
    "corr = cov / (std * std.T)\n",
    "\n",
    "print(\"Same as pandas corr: \", np.isclose(corr, df.corr()).all() and )"
   ]
  },
  {
   "cell_type": "markdown",
   "id": "0c4e8805-b388-4a4d-8197-6dcdb8175024",
   "metadata": {},
   "source": [
    "# Histogram"
   ]
  },
  {
   "cell_type": "code",
   "execution_count": 337,
   "id": "75d5caba-63a2-4eb0-902d-b4313a9c4fd7",
   "metadata": {},
   "outputs": [
    {
     "data": {
      "text/plain": [
       "<BarContainer object of 17 artists>"
      ]
     },
     "execution_count": 337,
     "metadata": {},
     "output_type": "execute_result"
    },
    {
     "data": {
      "image/png": "[encoded data removed]",
      "text/plain": [
       "<Figure size 640x480 with 1 Axes>"
      ]
     },
     "metadata": {},
     "output_type": "display_data"
    }
   ],
   "source": [
    "x = np.random.randn(100)\n",
    "n_bins = 20\n",
    "bins = np.linspace(x.min(), x.max(), n_bins).reshape(1, -1)\n",
    "\n",
    "# True for every bin x is larger than - number of those bins equals the next bin's index!\n",
    "# vectorised comparison [100, 1] with [1, 20]\n",
    "bin_nr = (x.reshape(-1, 1) >= bins.reshape(1, -1)).sum(axis=1)\n",
    "\n",
    "from collections import Counter\n",
    "bin_count = Counter(bin_nr)\n",
    "bin_count = dict(sorted(bin_count.items()))\n",
    "\n",
    "import matplotlib.pyplot as plt\n",
    "plt.bar(bin_count.keys(), bin_count.values())"
   ]
  },
  {
   "cell_type": "markdown",
   "id": "71c7d4d3-5641-4849-92e0-858e3157d376",
   "metadata": {},
   "source": [
    "# Moving Average\n",
    "- Can use convolve, cumsum or a few shifting"
   ]
  },
  {
   "cell_type": "code",
   "execution_count": 192,
   "id": "061571e6-2ca3-48ef-ab29-603a789c0c3b",
   "metadata": {},
   "outputs": [
    {
     "name": "stdout",
     "output_type": "stream",
     "text": [
      "Shifting same as pd.rolling: True\n"
     ]
    }
   ],
   "source": [
    "# Adding the same numpy array to iself but shifed. A bit cryptic, but basically a generalisation of X[2:] + X[1:-1] etc\n",
    "window = 5\n",
    "res = 0\n",
    "for w in range(window):\n",
    "    res += X[window - w - 1: len(X) - w]\n",
    "res /= window\n",
    "    \n",
    "print(\"Shifting same as pd.rolling:\", np.isclose(res, df.rolling(window).mean().dropna()).all())"
   ]
  },
  {
   "cell_type": "code",
   "execution_count": 300,
   "id": "83b2a4be-41aa-492f-a093-4a940f9aef2c",
   "metadata": {},
   "outputs": [
    {
     "name": "stdout",
     "output_type": "stream",
     "text": [
      "Cumsum diff same as pd.rolling: True\n"
     ]
    }
   ],
   "source": [
    "window = 2\n",
    "cumsum = X.cumsum(axis=0)\n",
    "res = (cumsum[window:] - cumsum[:-window]) / window \n",
    "\n",
    "print(\"Cumsum diff same as pd.rolling:\", np.isclose(res, df.rolling(window).mean().dropna().iloc[1:]).all())"
   ]
  },
  {
   "cell_type": "markdown",
   "id": "37668c70-9eab-4680-93aa-f6a90c599aba",
   "metadata": {},
   "source": [
    "# GroupBy"
   ]
  },
  {
   "cell_type": "code",
   "execution_count": 302,
   "id": "b94af087-133f-4141-bba3-51e917d26d1f",
   "metadata": {},
   "outputs": [],
   "source": [
    "cat_col = np.random.choice([\"A\", \"B\", \"C\"], len(X))"
   ]
  },
  {
   "cell_type": "code",
   "execution_count": 306,
   "id": "b50e97c4-3c25-49cf-a162-e91a27912039",
   "metadata": {},
   "outputs": [
    {
     "name": "stdout",
     "output_type": "stream",
     "text": [
      "Manual groupby same as df.groupby: True\n"
     ]
    }
   ],
   "source": [
    "res = np.vstack([X[cat_col == group].mean(axis=0) for group in sorted(set(cat_col))])\n",
    "\n",
    "print(\"Manual groupby same as df.groupby:\", np.isclose(res, df.groupby(cat_col).mean()).all())"
   ]
  }
 ],
 "metadata": {
  "kernelspec": {
   "display_name": "Python [conda env:dev12]",
   "language": "python",
   "name": "conda-env-dev12-py"
  },
  "language_info": {
   "codemirror_mode": {
    "name": "ipython",
    "version": 3
   },
   "file_extension": ".py",
   "mimetype": "text/x-python",
   "name": "python",
   "nbconvert_exporter": "python",
   "pygments_lexer": "ipython3",
   "version": "3.12.4"
  }
 },
 "nbformat": 4,
 "nbformat_minor": 5
}
