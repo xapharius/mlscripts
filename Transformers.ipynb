{
 "cells": [
  {
   "cell_type": "markdown",
   "metadata": {},
   "source": [
    "# Transformers under the hood\n",
    "- Following the tutorial from pytorch to obtain the trained model (Predicting next word, same length as input size)\n",
    "- Reimplementing the forward passes of encoding, transformer encoder layer and multihead self attention\n",
    "- Comparing the output of my forward implementations with the model as sanity checks\n",
    "- Useful for understanding how the matrix operations (and tensor shapes) suppose work"
   ]
  },
  {
   "cell_type": "markdown",
   "metadata": {},
   "source": [
    "# 1. Pytorch's Tutorial\n",
    "https://pytorch.org/tutorials/beginner/transformer_tutorial.html"
   ]
  },
  {
   "cell_type": "markdown",
   "metadata": {},
   "source": [
    "## 1.1. Model"
   ]
  },
  {
   "cell_type": "code",
   "execution_count": 2,
   "metadata": {},
   "outputs": [],
   "source": [
    "import math\n",
    "import torch\n",
    "import torch.nn as nn\n",
    "import torch.nn.functional as F\n",
    "\n",
    "class TransformerModel(nn.Module):\n",
    "\n",
    "    def __init__(self, ntoken, ninp, nhead, nhid, nlayers, dropout=0.5):\n",
    "        super(TransformerModel, self).__init__()\n",
    "        from torch.nn import TransformerEncoder, TransformerEncoderLayer\n",
    "        self.model_type = 'Transformer'\n",
    "        self.pos_encoder = PositionalEncoding(ninp, dropout)\n",
    "        encoder_layers = TransformerEncoderLayer(ninp, nhead, nhid, dropout)\n",
    "        self.transformer_encoder = TransformerEncoder(encoder_layers, nlayers)\n",
    "        self.encoder = nn.Embedding(ntoken, ninp)\n",
    "        self.ninp = ninp\n",
    "        self.decoder = nn.Linear(ninp, ntoken)\n",
    "\n",
    "        self.init_weights()\n",
    "\n",
    "    def generate_square_subsequent_mask(self, sz):\n",
    "        mask = (torch.triu(torch.ones(sz, sz)) == 1).transpose(0, 1)\n",
    "        mask = mask.float().masked_fill(mask == 0, float('-inf')).masked_fill(mask == 1, float(0.0))\n",
    "        return mask\n",
    "\n",
    "    def init_weights(self):\n",
    "        initrange = 0.1\n",
    "        self.encoder.weight.data.uniform_(-initrange, initrange)\n",
    "        self.decoder.bias.data.zero_()\n",
    "        self.decoder.weight.data.uniform_(-initrange, initrange)\n",
    "\n",
    "    def forward(self, src, src_mask):\n",
    "        src = self.encoder(src) * math.sqrt(self.ninp)\n",
    "        src = self.pos_encoder(src)\n",
    "        output = self.transformer_encoder(src, src_mask)\n",
    "        output = self.decoder(output)\n",
    "        return output\n",
    "    \n",
    "class PositionalEncoding(nn.Module):\n",
    "\n",
    "    def __init__(self, d_model, dropout=0.1, max_len=5000):\n",
    "        super(PositionalEncoding, self).__init__()\n",
    "        self.dropout = nn.Dropout(p=dropout)\n",
    "\n",
    "        pe = torch.zeros(max_len, d_model)\n",
    "        position = torch.arange(0, max_len, dtype=torch.float).unsqueeze(1)\n",
    "        div_term = torch.exp(torch.arange(0, d_model, 2).float() * (-math.log(10000.0) / d_model))\n",
    "        pe[:, 0::2] = torch.sin(position * div_term)\n",
    "        pe[:, 1::2] = torch.cos(position * div_term)\n",
    "        pe = pe.unsqueeze(0).transpose(0, 1)\n",
    "        self.register_buffer('pe', pe)\n",
    "\n",
    "    def forward(self, x):\n",
    "        x = x + self.pe[:x.size(0), :]\n",
    "        return self.dropout(x)"
   ]
  },
  {
   "cell_type": "markdown",
   "metadata": {},
   "source": [
    "## 1.2. Data"
   ]
  },
  {
   "cell_type": "code",
   "execution_count": 43,
   "metadata": {},
   "outputs": [
    {
     "name": "stderr",
     "output_type": "stream",
     "text": [
      "36718lines [00:01, 32408.33lines/s]\n"
     ]
    }
   ],
   "source": [
    "import io\n",
    "import torch\n",
    "from torchtext.utils import download_from_url, extract_archive\n",
    "from torchtext.data.utils import get_tokenizer\n",
    "from torchtext.vocab import build_vocab_from_iterator\n",
    "\n",
    "# url = 'https://s3.amazonaws.com/research.metamind.io/wikitext/wikitext-2-v1.zip'\n",
    "# test_filepath, valid_filepath, train_filepath = extract_archive(download_from_url(url, \"/data/datasets/wikitext-2-v1.zip\"))\n",
    "tokenizer = get_tokenizer('basic_english')\n",
    "vocab = build_vocab_from_iterator(map(tokenizer, iter(io.open(train_filepath, encoding=\"utf8\"))))\n",
    "\n",
    "def data_process(raw_text_iter):\n",
    "    data = [\n",
    "        torch.tensor([vocab[token] for token in tokenizer(item)],dtype=torch.long) \n",
    "        for item in raw_text_iter\n",
    "    ]\n",
    "    return torch.cat(tuple(filter(lambda t: t.numel() > 0, data)))\n",
    "\n",
    "train_data = data_process(iter(io.open(train_filepath, encoding=\"utf8\")))\n",
    "val_data = data_process(iter(io.open(valid_filepath, encoding=\"utf8\")))\n",
    "test_data = data_process(iter(io.open(test_filepath, encoding=\"utf8\")))\n",
    "\n",
    "device = torch.device(\"cuda\" if torch.cuda.is_available() else \"cpu\")\n",
    "\n",
    "def batchify(data, bsz):\n",
    "    # Divide the dataset into bsz parts.\n",
    "    nbatch = data.size(0) // bsz\n",
    "    # Trim off any extra elements that wouldn't cleanly fit (remainders).\n",
    "    data = data.narrow(0, 0, nbatch * bsz)\n",
    "    # Evenly divide the data across the bsz batches.\n",
    "    data = data.view(bsz, -1).t().contiguous()\n",
    "    return data.to(device)\n",
    "\n",
    "batch_size = 20\n",
    "eval_batch_size = 10\n",
    "train_data = batchify(train_data, batch_size)\n",
    "val_data = batchify(val_data, eval_batch_size)\n",
    "test_data = batchify(test_data, eval_batch_size)"
   ]
  },
  {
   "cell_type": "code",
   "execution_count": 105,
   "metadata": {},
   "outputs": [
    {
     "name": "stdout",
     "output_type": "stream",
     "text": [
      "I am a potato\n",
      "[65, 1732, 9, 15999]\n",
      "['i', 'am', 'a', 'potato']\n"
     ]
    }
   ],
   "source": [
    "# String to Ints\n",
    "inv_vocab = {v:k for k,v in vocab.stoi.items()}\n",
    "s = \"I am a potato\"\n",
    "t = [vocab[x] for x in tokenizer(s)]\n",
    "print(s)\n",
    "print(t)\n",
    "print([inv_vocab[x] for x in t])"
   ]
  },
  {
   "cell_type": "code",
   "execution_count": 55,
   "metadata": {},
   "outputs": [],
   "source": [
    "bptt = 35\n",
    "def get_batch(source, i):\n",
    "    seq_len = min(bptt, len(source) - 1 - i)\n",
    "    data = source[i:i+seq_len]\n",
    "    target = source[i+1:i+1+seq_len].reshape(-1)\n",
    "    return data, target"
   ]
  },
  {
   "cell_type": "code",
   "execution_count": 136,
   "metadata": {},
   "outputs": [
    {
     "name": "stdout",
     "output_type": "stream",
     "text": [
      "shape X (seq_len x batch_size): torch.Size([35, 20])\n",
      "X0: '= valkyria chronicles iii = senjō no valkyria 3 999 chronicles ( japanese 戦場のヴァルキュリア3 , lit . valkyria of the battlefield 3 ) , commonly referred to as valkyria chronicles iii outside japan , is'\n",
      "shape y (seq_len * batch_size): torch.Size([700])\n",
      "y0: 'valkyria chronicles iii = senjō no valkyria 3 999 chronicles ( japanese 戦場のヴァルキュリア3 , lit . valkyria of the battlefield 3 ) , commonly referred to as valkyria chronicles iii outside japan , is a'\n"
     ]
    }
   ],
   "source": [
    "batch = get_batch(train_data, 0)\n",
    "# The sequences are columns (=batch_size), while the tokens are rows (=bptt)\n",
    "print(\"shape X (seq_len x batch_size):\", batch[0].shape)\n",
    "\n",
    "# Example sequence (col 0)\n",
    "print(\"X0:\", \"'\" + \" \".join(str(inv_vocab[x.item()]) for x in batch[0][:, 0]) + \"'\")\n",
    "\n",
    "# Targets are flattened, but their structure was also seq_len x batch size.\n",
    "print(\"shape y (seq_len * batch_size):\", batch[1].shape)\n",
    "\n",
    "# To print the targets for a sequence (the sequence shifted), which was originally as a column, one must skip by batchsize\n",
    "print(\"y0:\", \"'\" + \" \".join(str(inv_vocab[x.item()]) for x in batch[1][0::batch_size]) + \"'\")"
   ]
  },
  {
   "cell_type": "markdown",
   "metadata": {},
   "source": [
    "## 1.3. Training"
   ]
  },
  {
   "cell_type": "code",
   "execution_count": 138,
   "metadata": {},
   "outputs": [],
   "source": [
    "ntokens = len(vocab.stoi) # the size of vocabulary\n",
    "emsize = 200 # embedding dimension\n",
    "nhid = 200 # the dimension of the feedforward network model in nn.TransformerEncoder\n",
    "nlayers = 2 # the number of nn.TransformerEncoderLayer in nn.TransformerEncoder\n",
    "nhead = 2 # the number of heads in the multiheadattention models\n",
    "dropout = 0.2 # the dropout value\n",
    "model = TransformerModel(ntokens, emsize, nhead, nhid, nlayers, dropout).to(device)"
   ]
  },
  {
   "cell_type": "code",
   "execution_count": 139,
   "metadata": {},
   "outputs": [],
   "source": [
    "criterion = nn.CrossEntropyLoss()\n",
    "lr = 5.0 # learning rate\n",
    "optimizer = torch.optim.SGD(model.parameters(), lr=lr)\n",
    "scheduler = torch.optim.lr_scheduler.StepLR(optimizer, 1.0, gamma=0.95)\n",
    "\n",
    "import time\n",
    "def train():\n",
    "    model.train() # Turn on the train mode\n",
    "    total_loss = 0.\n",
    "    start_time = time.time()\n",
    "    src_mask = model.generate_square_subsequent_mask(bptt).to(device)\n",
    "    for batch, i in enumerate(range(0, train_data.size(0) - 1, bptt)):\n",
    "        data, targets = get_batch(train_data, i)\n",
    "        optimizer.zero_grad()\n",
    "        if data.size(0) != bptt:\n",
    "            src_mask = model.generate_square_subsequent_mask(data.size(0)).to(device)\n",
    "        output = model(data, src_mask)\n",
    "        loss = criterion(output.view(-1, ntokens), targets)\n",
    "        loss.backward()\n",
    "        torch.nn.utils.clip_grad_norm_(model.parameters(), 0.5)\n",
    "        optimizer.step()\n",
    "\n",
    "        total_loss += loss.item()\n",
    "        log_interval = 200\n",
    "        if batch % log_interval == 0 and batch > 0:\n",
    "            cur_loss = total_loss / log_interval\n",
    "            elapsed = time.time() - start_time\n",
    "            print('| epoch {:3d} | {:5d}/{:5d} batches | '\n",
    "                  'lr {:02.2f} | ms/batch {:5.2f} | '\n",
    "                  'loss {:5.2f} | ppl {:8.2f}'.format(\n",
    "                    epoch, batch, len(train_data) // bptt, scheduler.get_lr()[0],\n",
    "                    elapsed * 1000 / log_interval,\n",
    "                    cur_loss, math.exp(cur_loss)))\n",
    "            total_loss = 0\n",
    "            start_time = time.time()\n",
    "\n",
    "def evaluate(eval_model, data_source):\n",
    "    eval_model.eval() # Turn on the evaluation mode\n",
    "    total_loss = 0.\n",
    "    src_mask = model.generate_square_subsequent_mask(bptt).to(device)\n",
    "    with torch.no_grad():\n",
    "        for i in range(0, data_source.size(0) - 1, bptt):\n",
    "            data, targets = get_batch(data_source, i)\n",
    "            if data.size(0) != bptt:\n",
    "                src_mask = model.generate_square_subsequent_mask(data.size(0)).to(device)\n",
    "            output = eval_model(data, src_mask)\n",
    "            output_flat = output.view(-1, ntokens)\n",
    "            total_loss += len(data) * criterion(output_flat, targets).item()\n",
    "    return total_loss / (len(data_source) - 1)"
   ]
  },
  {
   "cell_type": "code",
   "execution_count": 140,
   "metadata": {},
   "outputs": [
    {
     "name": "stdout",
     "output_type": "stream",
     "text": [
      "| epoch   1 |   200/ 2928 batches | lr 5.00 | ms/batch 13.90 | loss  8.24 | ppl  3784.98\n",
      "| epoch   1 |   400/ 2928 batches | lr 5.00 | ms/batch 11.86 | loss  6.91 | ppl  1005.75\n",
      "| epoch   1 |   600/ 2928 batches | lr 5.00 | ms/batch 11.87 | loss  6.46 | ppl   640.40\n",
      "| epoch   1 |   800/ 2928 batches | lr 5.00 | ms/batch 11.87 | loss  6.31 | ppl   551.57\n",
      "| epoch   1 |  1000/ 2928 batches | lr 5.00 | ms/batch 11.98 | loss  6.20 | ppl   492.49\n",
      "| epoch   1 |  1200/ 2928 batches | lr 5.00 | ms/batch 11.88 | loss  6.17 | ppl   475.80\n",
      "| epoch   1 |  1400/ 2928 batches | lr 5.00 | ms/batch 11.86 | loss  6.12 | ppl   456.28\n",
      "| epoch   1 |  1600/ 2928 batches | lr 5.00 | ms/batch 11.87 | loss  6.11 | ppl   450.54\n",
      "| epoch   1 |  1800/ 2928 batches | lr 5.00 | ms/batch 11.94 | loss  6.03 | ppl   417.41\n",
      "| epoch   1 |  2000/ 2928 batches | lr 5.00 | ms/batch 11.91 | loss  6.02 | ppl   412.42\n",
      "| epoch   1 |  2200/ 2928 batches | lr 5.00 | ms/batch 11.93 | loss  5.91 | ppl   367.42\n",
      "| epoch   1 |  2400/ 2928 batches | lr 5.00 | ms/batch 11.97 | loss  5.98 | ppl   393.55\n",
      "| epoch   1 |  2600/ 2928 batches | lr 5.00 | ms/batch 11.98 | loss  5.95 | ppl   384.30\n",
      "| epoch   1 |  2800/ 2928 batches | lr 5.00 | ms/batch 11.99 | loss  5.88 | ppl   358.27\n",
      "-----------------------------------------------------------------------------------------\n",
      "| end of epoch   1 | time: 36.90s | valid loss  5.81 | valid ppl   335.19\n",
      "-----------------------------------------------------------------------------------------\n",
      "| epoch   2 |   200/ 2928 batches | lr 4.51 | ms/batch 12.03 | loss  5.88 | ppl   356.82\n",
      "| epoch   2 |   400/ 2928 batches | lr 4.51 | ms/batch 12.02 | loss  5.86 | ppl   349.70\n",
      "| epoch   2 |   600/ 2928 batches | lr 4.51 | ms/batch 11.98 | loss  5.68 | ppl   292.36\n",
      "| epoch   2 |   800/ 2928 batches | lr 4.51 | ms/batch 11.96 | loss  5.71 | ppl   301.31\n",
      "| epoch   2 |  1000/ 2928 batches | lr 4.51 | ms/batch 12.02 | loss  5.66 | ppl   286.26\n",
      "| epoch   2 |  1200/ 2928 batches | lr 4.51 | ms/batch 11.96 | loss  5.69 | ppl   294.81\n",
      "| epoch   2 |  1400/ 2928 batches | lr 4.51 | ms/batch 11.96 | loss  5.69 | ppl   295.64\n",
      "| epoch   2 |  1600/ 2928 batches | lr 4.51 | ms/batch 11.98 | loss  5.72 | ppl   304.96\n",
      "| epoch   2 |  1800/ 2928 batches | lr 4.51 | ms/batch 12.01 | loss  5.66 | ppl   286.75\n",
      "| epoch   2 |  2000/ 2928 batches | lr 4.51 | ms/batch 12.04 | loss  5.68 | ppl   293.62\n",
      "| epoch   2 |  2200/ 2928 batches | lr 4.51 | ms/batch 12.07 | loss  5.56 | ppl   260.75\n",
      "| epoch   2 |  2400/ 2928 batches | lr 4.51 | ms/batch 12.05 | loss  5.65 | ppl   284.25\n",
      "| epoch   2 |  2600/ 2928 batches | lr 4.51 | ms/batch 12.09 | loss  5.66 | ppl   287.14\n",
      "| epoch   2 |  2800/ 2928 batches | lr 4.51 | ms/batch 12.01 | loss  5.59 | ppl   267.89\n",
      "-----------------------------------------------------------------------------------------\n",
      "| end of epoch   2 | time: 36.80s | valid loss  5.66 | valid ppl   286.32\n",
      "-----------------------------------------------------------------------------------------\n",
      "| epoch   3 |   200/ 2928 batches | lr 4.29 | ms/batch 12.13 | loss  5.61 | ppl   274.18\n",
      "| epoch   3 |   400/ 2928 batches | lr 4.29 | ms/batch 12.11 | loss  5.63 | ppl   277.50\n",
      "| epoch   3 |   600/ 2928 batches | lr 4.29 | ms/batch 12.07 | loss  5.43 | ppl   227.95\n",
      "| epoch   3 |   800/ 2928 batches | lr 4.29 | ms/batch 12.06 | loss  5.49 | ppl   242.54\n",
      "| epoch   3 |  1000/ 2928 batches | lr 4.29 | ms/batch 12.01 | loss  5.45 | ppl   232.68\n",
      "| epoch   3 |  1200/ 2928 batches | lr 4.29 | ms/batch 12.09 | loss  5.48 | ppl   240.90\n",
      "| epoch   3 |  1400/ 2928 batches | lr 4.29 | ms/batch 12.13 | loss  5.50 | ppl   244.85\n",
      "| epoch   3 |  1600/ 2928 batches | lr 4.29 | ms/batch 12.06 | loss  5.53 | ppl   251.75\n",
      "| epoch   3 |  1800/ 2928 batches | lr 4.29 | ms/batch 12.04 | loss  5.48 | ppl   238.85\n",
      "| epoch   3 |  2000/ 2928 batches | lr 4.29 | ms/batch 12.08 | loss  5.49 | ppl   243.17\n",
      "| epoch   3 |  2200/ 2928 batches | lr 4.29 | ms/batch 12.06 | loss  5.37 | ppl   214.39\n",
      "| epoch   3 |  2400/ 2928 batches | lr 4.29 | ms/batch 12.02 | loss  5.48 | ppl   239.59\n",
      "| epoch   3 |  2600/ 2928 batches | lr 4.29 | ms/batch 12.10 | loss  5.48 | ppl   240.06\n",
      "| epoch   3 |  2800/ 2928 batches | lr 4.29 | ms/batch 12.09 | loss  5.42 | ppl   224.79\n",
      "-----------------------------------------------------------------------------------------\n",
      "| end of epoch   3 | time: 36.96s | valid loss  5.57 | valid ppl   262.26\n",
      "-----------------------------------------------------------------------------------------\n"
     ]
    }
   ],
   "source": [
    "best_val_loss = float(\"inf\")\n",
    "epochs = 3 # The number of epochs\n",
    "best_model = None\n",
    "\n",
    "for epoch in range(1, epochs + 1):\n",
    "    epoch_start_time = time.time()\n",
    "    train()\n",
    "    val_loss = evaluate(model, val_data)\n",
    "    print('-' * 89)\n",
    "    print('| end of epoch {:3d} | time: {:5.2f}s | valid loss {:5.2f} | '\n",
    "          'valid ppl {:8.2f}'.format(epoch, (time.time() - epoch_start_time),\n",
    "                                     val_loss, math.exp(val_loss)))\n",
    "    print('-' * 89)\n",
    "\n",
    "    if val_loss < best_val_loss:\n",
    "        best_val_loss = val_loss\n",
    "        best_model = model\n",
    "\n",
    "    scheduler.step()"
   ]
  },
  {
   "cell_type": "markdown",
   "metadata": {},
   "source": [
    "# 2. Forward Walkthrough\n",
    "- Looking into embedding, encoding layers and self attention\n",
    "- First calling forward of the modules, then reimplementing the operations using the existing parameters\n",
    "- Model is in eval mode, so dropout is disabled"
   ]
  },
  {
   "cell_type": "code",
   "execution_count": 831,
   "metadata": {},
   "outputs": [],
   "source": [
    "import numpy as np\n",
    "import seaborn as sns\n",
    "import matplotlib.pyplot as plt\n",
    "\n",
    "seq_len = bptt"
   ]
  },
  {
   "cell_type": "code",
   "execution_count": 188,
   "metadata": {},
   "outputs": [
    {
     "name": "stdout",
     "output_type": "stream",
     "text": [
      "data shape torch.Size([35, 20])\n",
      "output.shape torch.Size([35, 20, 28786])\n"
     ]
    }
   ],
   "source": [
    "data, targets = get_batch(train_data, 0)\n",
    "src_mask = model.generate_square_subsequent_mask(data.size(0)).to(device)\n",
    "output = model(data, src_mask)\n",
    "\n",
    "print(\"data shape\", data.shape)\n",
    "print(\"output.shape\", output.shape)"
   ]
  },
  {
   "cell_type": "code",
   "execution_count": 349,
   "metadata": {},
   "outputs": [
    {
     "data": {
      "text/plain": [
       "False"
      ]
     },
     "execution_count": 349,
     "metadata": {},
     "output_type": "execute_result"
    }
   ],
   "source": [
    "model.training"
   ]
  },
  {
   "cell_type": "markdown",
   "metadata": {},
   "source": [
    "## 2.1 Encoding"
   ]
  },
  {
   "cell_type": "code",
   "execution_count": 189,
   "metadata": {},
   "outputs": [
    {
     "data": {
      "text/plain": [
       "Embedding(28786, 200)"
      ]
     },
     "execution_count": 189,
     "metadata": {},
     "output_type": "execute_result"
    }
   ],
   "source": [
    "model.encoder"
   ]
  },
  {
   "cell_type": "code",
   "execution_count": 190,
   "metadata": {},
   "outputs": [
    {
     "data": {
      "text/plain": [
       "torch.Size([35, 20, 200])"
      ]
     },
     "execution_count": 190,
     "metadata": {},
     "output_type": "execute_result"
    }
   ],
   "source": [
    "src_enc = model.encoder(data) * math.sqrt(model.ninp)\n",
    "src_enc.shape"
   ]
  },
  {
   "cell_type": "code",
   "execution_count": 191,
   "metadata": {},
   "outputs": [],
   "source": [
    "src_pos = model.pos_encoder(src_enc)"
   ]
  },
  {
   "cell_type": "code",
   "execution_count": 283,
   "metadata": {},
   "outputs": [
    {
     "data": {
      "text/plain": [
       "0.9857063889503479"
      ]
     },
     "execution_count": 283,
     "metadata": {},
     "output_type": "execute_result"
    }
   ],
   "source": [
    "# similarity post positional encoding\n",
    "torch.cosine_similarity(src_enc[0,0], src_pos[0, 0], dim=0).item()"
   ]
  },
  {
   "cell_type": "markdown",
   "metadata": {},
   "source": [
    "## 2.2 Transformer Encoder Layer\n",
    "- Each transformation works on a per-token level\n",
    "- Linear can accept tensors of any shape and will apply the transformaton on only the last dimension\n",
    "- It means that the transformation of a token does not depend on other tokens from the same sequence or batch (technically it does because of softmax, but conceptually it's just an importance score)\n",
    "- The preservation of the token concept is necessary for attention to have multiple layers. If one would have a linear layer convolving all tokens then it wouldnt be clear what attention would even mean."
   ]
  },
  {
   "cell_type": "code",
   "execution_count": 186,
   "metadata": {},
   "outputs": [
    {
     "data": {
      "text/plain": [
       "TransformerEncoderLayer(\n",
       "  (self_attn): MultiheadAttention(\n",
       "    (out_proj): Linear(in_features=200, out_features=200, bias=True)\n",
       "  )\n",
       "  (linear1): Linear(in_features=200, out_features=200, bias=True)\n",
       "  (dropout): Dropout(p=0.2, inplace=False)\n",
       "  (linear2): Linear(in_features=200, out_features=200, bias=True)\n",
       "  (norm1): LayerNorm((200,), eps=1e-05, elementwise_affine=True)\n",
       "  (norm2): LayerNorm((200,), eps=1e-05, elementwise_affine=True)\n",
       "  (dropout1): Dropout(p=0.2, inplace=False)\n",
       "  (dropout2): Dropout(p=0.2, inplace=False)\n",
       ")"
      ]
     },
     "execution_count": 186,
     "metadata": {},
     "output_type": "execute_result"
    }
   ],
   "source": [
    "layer = model.transformer_encoder.layers[0]\n",
    "layer"
   ]
  },
  {
   "cell_type": "code",
   "execution_count": 196,
   "metadata": {},
   "outputs": [],
   "source": [
    "src = src_pos\n",
    "\n",
    "sub1 = layer.self_attn(src, src, src, attn_mask=src_mask)[0]\n",
    "sub1 = layer.norm1(src + layer.dropout1(sub1))\n",
    "\n",
    "sub2 = layer.linear2(layer.dropout(layer.activation(layer.linear1(sub1))))\n",
    "sub2 = layer.norm2(sub1 + layer.dropout2(sub2))"
   ]
  },
  {
   "cell_type": "code",
   "execution_count": 197,
   "metadata": {},
   "outputs": [
    {
     "data": {
      "text/plain": [
       "torch.Size([35, 20, 200])"
      ]
     },
     "execution_count": 197,
     "metadata": {},
     "output_type": "execute_result"
    }
   ],
   "source": [
    "sub1.shape"
   ]
  },
  {
   "cell_type": "code",
   "execution_count": 198,
   "metadata": {},
   "outputs": [
    {
     "data": {
      "text/plain": [
       "torch.Size([35, 20, 200])"
      ]
     },
     "execution_count": 198,
     "metadata": {},
     "output_type": "execute_result"
    }
   ],
   "source": [
    "sub2.shape"
   ]
  },
  {
   "cell_type": "code",
   "execution_count": 282,
   "metadata": {},
   "outputs": [
    {
     "data": {
      "text/plain": [
       "0.5762916803359985"
      ]
     },
     "execution_count": 282,
     "metadata": {},
     "output_type": "execute_result"
    }
   ],
   "source": [
    "torch.cosine_similarity(sub1[0,0], sub2[0, 0], dim=0).item()"
   ]
  },
  {
   "cell_type": "markdown",
   "metadata": {},
   "source": [
    "## 2.3 Self-Attention\n",
    "\n",
    "$$Attention(Q,K,V) = softmax(\\frac{QK^⊤}{\\sqrt n})V$$\n",
    "\n",
    "\n",
    "- q, k, v parameters are stored in one linear layer. splitting pre or post op yields same result\n",
    "- torch linear works on any shapes as long as the last dim matches the linear dim. it applies the linear projection on each element independently, similar to how it is applied to each observation in a batch.\n",
    "- similarly, torch matmul in 3 dimensions works by \"batching\" the multiplications on the first dimension. [N, A, B] x [N, B, C] = [N, A, C]\n",
    "- Mask is added, not multiplied (as one usually does with masks) to avoid the inversion of -inf by negative dot products\n",
    "- The scaling factor is based on the encoding size of token, not the number of tokens in the sequence as the magnitude of the dot product changes the more dimensions it has. The dimensionality is dependent on the nr of heads.\n",
    "- Each head operates on a different subspace of the embedding. Each head has access to all tokens in sequence, but focuses on a different part of the embedding. If the embedding dim is 200 and we have two heads, then the first head will operate on the first 100 values of the embedding.\n",
    "- When computing the attention matrix we want to obtain a distance matrix between all tokens (35 * 35) for each sequence in the batch (20) across the embedding (200 / n_heads). The matmul op receives the batch as the first dimension. Attetion matrix [batch_size, n_tokens, n_tokens] = [batch_size, n_tokens, embedding] x [batch_size, embedding, n_tokens]\n",
    "- The attention weights/matrix is averaged over all heads to obtain a visualisation\n",
    "- The attention output is computed per head and concatenated only before feeding it into the output linear layer\n",
    "- Will be plotting the attention matrix of the first sequence only"
   ]
  },
  {
   "cell_type": "markdown",
   "metadata": {},
   "source": [
    "### 2.3.1 Auto Forward\n",
    "- attention layer produces two outputs: the embedding and the attention matrix"
   ]
  },
  {
   "cell_type": "code",
   "execution_count": 214,
   "metadata": {},
   "outputs": [
    {
     "data": {
      "text/plain": [
       "MultiheadAttention(\n",
       "  (out_proj): Linear(in_features=200, out_features=200, bias=True)\n",
       ")"
      ]
     },
     "execution_count": 214,
     "metadata": {},
     "output_type": "execute_result"
    }
   ],
   "source": [
    "attention = model.transformer_encoder.layers[0].self_attn\n",
    "attention"
   ]
  },
  {
   "cell_type": "code",
   "execution_count": 550,
   "metadata": {},
   "outputs": [
    {
     "data": {
      "text/plain": [
       "(torch.Size([35, 20, 200]), torch.Size([20, 35, 35]))"
      ]
     },
     "execution_count": 550,
     "metadata": {},
     "output_type": "execute_result"
    }
   ],
   "source": [
    "attention_out, attention_matrix = attention(src_pos, src_pos, src_pos, attn_mask=src_mask)\n",
    "attention_out.shape, attention_matrix.shape"
   ]
  },
  {
   "cell_type": "code",
   "execution_count": 551,
   "metadata": {},
   "outputs": [
    {
     "data": {
      "text/plain": [
       "<matplotlib.axes._subplots.AxesSubplot at 0x7f78a8a48590>"
      ]
     },
     "execution_count": 551,
     "metadata": {},
     "output_type": "execute_result"
    },
    {
     "data": {
      "image/png": "[encoded data removed]",
      "text/plain": [
       "<Figure size 432x288 with 2 Axes>"
      ]
     },
     "metadata": {
      "needs_background": "light"
     },
     "output_type": "display_data"
    }
   ],
   "source": [
    "sns.heatmap(attention_matrix[0].detach().cpu()) # the first sequence"
   ]
  },
  {
   "cell_type": "markdown",
   "metadata": {},
   "source": [
    "### 2.3.2 Manual Forward with 1 Head\n",
    "- Pretending it has one head\n",
    "- Embedding size = 200\n",
    "- batch size = 20\n",
    "- Sequence length = 35\n",
    "- scaling factor is $\\sqrt 200$"
   ]
  },
  {
   "cell_type": "code",
   "execution_count": 864,
   "metadata": {},
   "outputs": [],
   "source": [
    "# Splitting the linear layer for conceptual simplicity\n",
    "q_w, k_w, v_w = attention.in_proj_weight.chunk(3)\n",
    "q_b, k_b, v_b = attention.in_proj_bias.chunk(3)\n",
    "\n",
    "q = torch.matmul(src, q_w.T) + q_b\n",
    "k = torch.matmul(src, k_w.T) + k_b\n",
    "v = torch.matmul(src, v_w.T) + v_b"
   ]
  },
  {
   "cell_type": "code",
   "execution_count": 833,
   "metadata": {},
   "outputs": [
    {
     "data": {
      "text/plain": [
       "(torch.Size([35, 20, 200]),\n",
       " torch.Size([35, 20, 200]),\n",
       " torch.Size([35, 20, 200]))"
      ]
     },
     "execution_count": 833,
     "metadata": {},
     "output_type": "execute_result"
    }
   ],
   "source": [
    "q.shape, k.shape, v.shape"
   ]
  },
  {
   "cell_type": "code",
   "execution_count": 834,
   "metadata": {},
   "outputs": [
    {
     "data": {
      "text/plain": [
       "<matplotlib.axes._subplots.AxesSubplot at 0x7f789e464350>"
      ]
     },
     "execution_count": 834,
     "metadata": {},
     "output_type": "execute_result"
    },
    {
     "data": {
      "image/png": "[encoded data removed]",
      "text/plain": [
       "<Figure size 432x288 with 2 Axes>"
      ]
     },
     "metadata": {
      "needs_background": "light"
     },
     "output_type": "display_data"
    }
   ],
   "source": [
    "# We want a similarity matrix for each sequence (dim0=20) between all tokens (35 * 35) across embeddings. [n_tokens, embd] x [embd, n_tokens] \n",
    "m = torch.matmul(q.permute(1, 0, 2), k.permute(1, 2, 0))\n",
    "m = (m + src_mask) / emsize ** .5\n",
    "m = m.softmax(dim=-1)\n",
    "sns.heatmap(m.detach().cpu()[0])"
   ]
  },
  {
   "cell_type": "code",
   "execution_count": 850,
   "metadata": {},
   "outputs": [
    {
     "data": {
      "text/plain": [
       "torch.Size([35, 20, 200])"
      ]
     },
     "execution_count": 850,
     "metadata": {},
     "output_type": "execute_result"
    }
   ],
   "source": [
    "out = attention.out_proj(        \n",
    "    torch.matmul(m, v.transpose(0, 1)) # [20, 35, 35] x [20, 35, 200]\n",
    "    .transpose(0, 1)   # back to [seq_len, batch_size, emsize]\n",
    ")\n",
    "out.shape"
   ]
  },
  {
   "cell_type": "markdown",
   "metadata": {},
   "source": [
    "### 2.3.2 Manual with 2 Heads\n",
    "- Split the embedding dimension in two (head_emsize=100)\n",
    "- Scaling factor is now $\\sqrt100$\n",
    "- Final attention matrix is the average of the head attention matrices"
   ]
  },
  {
   "cell_type": "code",
   "execution_count": 865,
   "metadata": {},
   "outputs": [
    {
     "name": "stdout",
     "output_type": "stream",
     "text": [
      "Orig Embedding size: 200, n_heads: 2, embedding size per head: 100\n"
     ]
    }
   ],
   "source": [
    "head_emsize = emsize // nhead\n",
    "print(f\"Orig Embedding size: {emsize}, n_heads: {nhead}, embedding size per head: {head_emsize}\")"
   ]
  },
  {
   "cell_type": "code",
   "execution_count": 866,
   "metadata": {},
   "outputs": [
    {
     "data": {
      "text/plain": [
       "torch.Size([35, 20, 100])"
      ]
     },
     "execution_count": 866,
     "metadata": {},
     "output_type": "execute_result"
    }
   ],
   "source": [
    "q0, k0, v0 = q[:,:,:head_emsize], k[:,:,:head_emsize], v[:,:,:head_emsize]\n",
    "q1, k1, v1 = q[:,:,head_emsize:], k[:,:,head_emsize:], v[:,:,head_emsize:]\n",
    "\n",
    "q0.shape"
   ]
  },
  {
   "cell_type": "code",
   "execution_count": 867,
   "metadata": {},
   "outputs": [
    {
     "data": {
      "text/plain": [
       "<matplotlib.axes._subplots.AxesSubplot at 0x7f789ed6f510>"
      ]
     },
     "execution_count": 867,
     "metadata": {},
     "output_type": "execute_result"
    },
    {
     "data": {
      "image/png": "[encoded data removed]",
      "text/plain": [
       "<Figure size 432x288 with 2 Axes>"
      ]
     },
     "metadata": {
      "needs_background": "light"
     },
     "output_type": "display_data"
    }
   ],
   "source": [
    "# Attention matrix head0\n",
    "m0 = torch.matmul(q0.permute(1, 0, 2), k0.permute(1, 2, 0))\n",
    "m0 = (m0 + src_mask) / head_emsize ** .5\n",
    "m0 = m0.softmax(dim=-1)\n",
    "sns.heatmap(m0.detach().cpu()[0])"
   ]
  },
  {
   "cell_type": "code",
   "execution_count": 868,
   "metadata": {},
   "outputs": [
    {
     "data": {
      "text/plain": [
       "<matplotlib.axes._subplots.AxesSubplot at 0x7f789dd70cd0>"
      ]
     },
     "execution_count": 868,
     "metadata": {},
     "output_type": "execute_result"
    },
    {
     "data": {
      "image/png": "[encoded data removed]",
      "text/plain": [
       "<Figure size 432x288 with 2 Axes>"
      ]
     },
     "metadata": {
      "needs_background": "light"
     },
     "output_type": "display_data"
    }
   ],
   "source": [
    "# Attention matrix head1\n",
    "m1 = torch.matmul(q1.permute(1, 0, 2), k1.permute(1, 2, 0))\n",
    "m1 = (m1 + src_mask) / head_emsize ** .5\n",
    "m1 = m1.softmax(dim=-1)\n",
    "sns.heatmap(m1.detach().cpu()[0])"
   ]
  },
  {
   "cell_type": "code",
   "execution_count": 869,
   "metadata": {},
   "outputs": [
    {
     "data": {
      "text/plain": [
       "<matplotlib.axes._subplots.AxesSubplot at 0x7f789db7d390>"
      ]
     },
     "execution_count": 869,
     "metadata": {},
     "output_type": "execute_result"
    },
    {
     "data": {
      "image/png": "[encoded data removed]",
      "text/plain": [
       "<Figure size 1080x360 with 4 Axes>"
      ]
     },
     "metadata": {
      "needs_background": "light"
     },
     "output_type": "display_data"
    }
   ],
   "source": [
    "# Average attention matrices (just for viz)\n",
    "m = (m0 + m1) / 2\n",
    "\n",
    "# plot side by side with layer output\n",
    "f, axarr = plt.subplots(1, 2, figsize=[15, 5])\n",
    "axarr[0].set_title(\"My Output\")\n",
    "sns.heatmap(m.detach().cpu()[0], ax=axarr[0])\n",
    "axarr[1].set_title(\"Layer Output\")\n",
    "sns.heatmap(attention_matrix.detach().cpu()[0], ax=axarr[1])\n"
   ]
  },
  {
   "cell_type": "code",
   "execution_count": 870,
   "metadata": {},
   "outputs": [
    {
     "data": {
      "text/plain": [
       "True"
      ]
     },
     "execution_count": 870,
     "metadata": {},
     "output_type": "execute_result"
    }
   ],
   "source": [
    "# Test that it's the same as the layer output. Rounding erros are quite high.\n",
    "np.array_equal(attention_matrix.detach().cpu().numpy().round(4), m.detach().cpu().numpy().round(4))"
   ]
  },
  {
   "cell_type": "code",
   "execution_count": 895,
   "metadata": {},
   "outputs": [
    {
     "data": {
      "text/plain": [
       "torch.Size([35, 20, 200])"
      ]
     },
     "execution_count": 895,
     "metadata": {},
     "output_type": "execute_result"
    }
   ],
   "source": [
    "# ... continue with computing the output of the layer\n",
    "\n",
    "# multiply the attention matrix with the value matrix for each head and concatenate the same way we split initially (on the embedding dimension)\n",
    "my_attention_out = torch.cat([\n",
    "    torch.matmul(m0, v0.permute(1, 0, 2)), # [batch_size, seq_len, embd]\n",
    "    torch.matmul(m1, v1.permute(1, 0, 2))\n",
    "], dim=-1)\n",
    "# my_attention_out.shape # [20, 35, 200]\n",
    "\n",
    "\n",
    "# permute again (swap batch_size and seq_len) and feed to final linear projection\n",
    "my_attention_out = my_attention_out.transpose(0, 1)\n",
    "my_attention_out = attention.out_proj(my_attention_out)\n",
    "my_attention_out.shape"
   ]
  },
  {
   "cell_type": "code",
   "execution_count": 926,
   "metadata": {},
   "outputs": [
    {
     "data": {
      "text/plain": [
       "False"
      ]
     },
     "execution_count": 926,
     "metadata": {},
     "output_type": "execute_result"
    }
   ],
   "source": [
    "# Compare with benchmark layer output\n",
    "np.array_equal(my_attention_out.detach().cpu().numpy().round(4), attention_out.detach().cpu().numpy().round(4))"
   ]
  },
  {
   "cell_type": "code",
   "execution_count": 928,
   "metadata": {},
   "outputs": [
    {
     "name": "stdout",
     "output_type": "stream",
     "text": [
      "tensor([[ 0.3610,  0.0270,  0.8850,  ...,  0.0983, -0.1146, -0.4112],\n",
      "        [-1.2647, -1.0522, -0.7382,  ...,  0.4196, -1.3759,  1.1311],\n",
      "        [ 0.6605,  0.4115, -0.0596,  ..., -0.1676,  0.5545, -1.4234],\n",
      "        ...,\n",
      "        [ 0.1075,  1.0240, -0.0183,  ..., -0.0478, -1.0747, -1.0681],\n",
      "        [ 1.3460,  1.2767, -1.9809,  ..., -0.5395, -0.6522, -0.5362],\n",
      "        [-0.6610, -0.0349, -0.0958,  ...,  0.0378, -0.1432,  0.3121]],\n",
      "       device='cuda:0', grad_fn=<SelectBackward>)\n",
      "tensor([[ 0.3610,  0.0270,  0.8850,  ...,  0.0983, -0.1146, -0.4112],\n",
      "        [-1.2647, -1.0522, -0.7382,  ...,  0.4196, -1.3759,  1.1311],\n",
      "        [ 0.6605,  0.4115, -0.0596,  ..., -0.1676,  0.5545, -1.4234],\n",
      "        ...,\n",
      "        [ 0.1075,  1.0240, -0.0183,  ..., -0.0478, -1.0747, -1.0681],\n",
      "        [ 1.3460,  1.2767, -1.9809,  ..., -0.5395, -0.6522, -0.5363],\n",
      "        [-0.6610, -0.0349, -0.0958,  ...,  0.0378, -0.1432,  0.3121]],\n",
      "       device='cuda:0', grad_fn=<SelectBackward>)\n"
     ]
    }
   ],
   "source": [
    "# Visually inspect to find difference\n",
    "print(my_attention_out[1])\n",
    "\n",
    "print(attention_out[1])\n",
    "# seems fine, might be rounding error"
   ]
  },
  {
   "cell_type": "code",
   "execution_count": 934,
   "metadata": {},
   "outputs": [
    {
     "name": "stdout",
     "output_type": "stream",
     "text": [
      "for 4 decimals results are equal: False\n",
      "for 3 decimals results are equal: False\n",
      "for 2 decimals results are equal: False\n",
      "for 1 decimals results are equal: True\n"
     ]
    }
   ],
   "source": [
    "# Round at different decimals to see how large the rounding errors are\n",
    "decimals = [4, 3, 2, 1]\n",
    "\n",
    "for decimal in decimals:\n",
    "    equal = np.array_equal(my_attention_out.detach().cpu().numpy().round(decimal), attention_out.detach().cpu().numpy().round(decimal))\n",
    "    print(f\"for {decimal} decimals results are equal: {equal}\")\n",
    "    \n",
    "# @_@"
   ]
  },
  {
   "cell_type": "markdown",
   "metadata": {},
   "source": [
    "# Torch source code multi_head_attention_forward\n",
    "- as a reference because the foldings/reshaping used to optimise attention are hard to digest\n",
    "- This implementation, using bmm and other under the hood directives, produces siginificant rounding differences in comparison with the naive approach"
   ]
  },
  {
   "cell_type": "code",
   "execution_count": 935,
   "metadata": {},
   "outputs": [],
   "source": [
    "src_len = tgt_len = 35\n",
    "bsz = 20\n",
    "num_heads = 2\n",
    "head_dim = 100\n",
    "embed_dim = 200\n",
    "attn_mask = src_mask\n",
    "\n",
    "\n",
    "q, k, v = torch.nn.functional.linear(src, attention.in_proj_weight, attention.in_proj_bias).chunk(3, dim=-1)\n",
    "q = q.contiguous().view(tgt_len, bsz * num_heads, head_dim).transpose(0, 1)\n",
    "k = k.contiguous().view(-1, bsz * num_heads, head_dim).transpose(0, 1)\n",
    "v = v.contiguous().view(-1, bsz * num_heads, head_dim).transpose(0, 1)\n",
    "\n",
    "scaling = float(head_dim) ** -0.5\n",
    "q = q * scaling\n",
    "\n",
    "attn_output_weights = torch.bmm(q, k.transpose(1, 2))\n",
    "attn_output_weights += attn_mask\n",
    "attn_output_weights = attn_output_weights.softmax(dim=-1)\n",
    "attn_output_weights = torch.nn.functional.dropout(attn_output_weights, p=attention.dropout, training=attention.training)\n",
    "\n",
    "\n",
    "attn_output = torch.bmm(attn_output_weights, v)\n",
    "attn_output = attn_output.transpose(0, 1).contiguous().view(tgt_len, bsz, embed_dim)\n",
    "attn_output = torch.nn.functional.linear(attn_output, attention.out_proj.weight, attention.out_proj.bias)\n",
    "\n",
    "\n",
    "attn_output_weights = attn_output_weights.view(bsz, num_heads, tgt_len, src_len)\n",
    "attn_output_weights = attn_output_weights.sum(dim=1) / num_heads"
   ]
  },
  {
   "cell_type": "code",
   "execution_count": 942,
   "metadata": {},
   "outputs": [
    {
     "data": {
      "text/plain": [
       "True"
      ]
     },
     "execution_count": 942,
     "metadata": {},
     "output_type": "execute_result"
    }
   ],
   "source": [
    "# it's the same implementation so this should be identical\n",
    "np.array_equal(attn_output.detach().cpu().numpy().round(3), attention_out.detach().cpu().numpy().round(3))"
   ]
  }
 ],
 "metadata": {
  "kernelspec": {
   "display_name": "Python 3",
   "language": "python",
   "name": "python3"
  },
  "language_info": {
   "codemirror_mode": {
    "name": "ipython",
    "version": 3
   },
   "file_extension": ".py",
   "mimetype": "text/x-python",
   "name": "python",
   "nbconvert_exporter": "python",
   "pygments_lexer": "ipython3",
   "version": "3.7.6"
  }
 },
 "nbformat": 4,
 "nbformat_minor": 4
}
