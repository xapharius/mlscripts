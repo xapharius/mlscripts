{
 "cells": [
  {
   "cell_type": "markdown",
   "metadata": {},
   "source": [
    "# Network Slimming\n",
    "- Pruning via L1 on Batchnorm Gammas\n",
    "- Based on \"Learning Efficient Convolutional Networks through Network Slimming\"\n",
    "- CIFAR100 and VGG16\n",
    "- Soft (setting bn params to 0) and Hard (chaning architecture) pruning strategies\n",
    "- Depending on location 50% filter pruning results in 80% of weights pruned\n",
    "- lr schedule, weight init and hyperparams as in paper\n",
    "- For 50% pruning can't get same 73% perf. always 1% lower"
   ]
  },
  {
   "cell_type": "code",
   "execution_count": 1,
   "metadata": {},
   "outputs": [],
   "source": [
    "import torch\n",
    "from torch import nn, optim\n",
    "from torch.utils.data import DataLoader\n",
    "from torchvision import transforms\n",
    "from torchvision.models import vgg16_bn\n",
    "from torchvision.datasets import CIFAR100\n",
    "\n",
    "import math\n",
    "import copy\n",
    "import numpy as np\n",
    "from tqdm import tqdm\n",
    "import seaborn as sns\n",
    "import matplotlib.pyplot as plt\n",
    "from collections import defaultdict\n",
    "\n",
    "DATASET_ROOT = \"/data/datasets/CIFAR100\""
   ]
  },
  {
   "cell_type": "code",
   "execution_count": 2,
   "metadata": {},
   "outputs": [],
   "source": [
    "train_transform = transforms.Compose(\n",
    "    [\n",
    "        transforms.RandomCrop(32, padding=4),\n",
    "        transforms.RandomHorizontalFlip(),\n",
    "        transforms.ToTensor(),\n",
    "        transforms.Normalize([0.5071, 0.4867, 0.4408], [0.2675, 0.2565, 0.2761]),\n",
    "    ]\n",
    ")\n",
    "\n",
    "test_transform = transforms.Compose(\n",
    "    [\n",
    "        transforms.ToTensor(),\n",
    "        transforms.Normalize([0.5071, 0.4867, 0.4408], [0.2675, 0.2565, 0.2761]),\n",
    "    ]\n",
    ")\n",
    "\n",
    "\n",
    "def get_loaders(batch_size=512):\n",
    "    train_ds = CIFAR100(root=DATASET_ROOT, transform=train_transform, train=True)\n",
    "    test_ds = CIFAR100(root=DATASET_ROOT, transform=test_transform, train=False)\n",
    "\n",
    "    train_loader = DataLoader(train_ds, batch_size=batch_size, shuffle=True, num_workers=1, pin_memory=True)\n",
    "    test_loader = DataLoader(test_ds, batch_size=batch_size, shuffle=False, num_workers=1, pin_memory=True)\n",
    "\n",
    "    return train_loader, test_loader\n"
   ]
  },
  {
   "cell_type": "code",
   "execution_count": 3,
   "metadata": {},
   "outputs": [],
   "source": [
    "def get_model():\n",
    "    model = vgg16_bn(pretrained=False)\n",
    "    model.features = model.features[:-1] # dropping the last maxpool\n",
    "    model.avgpool = nn.AvgPool2d(kernel_size=2)\n",
    "    model.classifier = nn.Sequential(nn.Linear(512, 100))\n",
    "    \n",
    "    for m in model.modules():\n",
    "        if isinstance(m, nn.Conv2d):\n",
    "            n = m.kernel_size[0] * m.kernel_size[1] * m.out_channels\n",
    "            m.weight.data.normal_(0, math.sqrt(2. / n))\n",
    "            if m.bias is not None:\n",
    "                m.bias = None\n",
    "        elif isinstance(m, nn.BatchNorm2d):\n",
    "            m.weight.data.fill_(0.5)\n",
    "            m.bias.data.zero_()\n",
    "        elif isinstance(m, nn.Linear):\n",
    "            m.weight.data.normal_(0, 0.01)\n",
    "            m.bias.data.zero_()\n",
    "    \n",
    "    return model\n",
    "\n",
    "\n",
    "def get_bn_l1_loss(model):\n",
    "    \"\"\"L1 reg loss for bn gamma\"\"\"\n",
    "    loss = 0\n",
    "    for layer in model.features:\n",
    "        if isinstance(layer, nn.BatchNorm2d):\n",
    "            loss += layer.weight.abs().sum()\n",
    "    return loss"
   ]
  },
  {
   "cell_type": "code",
   "execution_count": 4,
   "metadata": {},
   "outputs": [],
   "source": [
    "def evaluate(model, loader) -> float:\n",
    "    \"\"\"Get Accuracy\"\"\"\n",
    "    correct = 0\n",
    "    n_obs = 0\n",
    "    \n",
    "    model.eval()\n",
    "    for X, y in loader:\n",
    "        X, y = X.cuda(), y.cuda()\n",
    "        with torch.no_grad():\n",
    "            out = model(X)\n",
    "        correct += (out.argmax(dim=1) == y).float().sum()\n",
    "        n_obs += len(X)\n",
    "    model.train()    \n",
    "    \n",
    "    accuracy = correct / n_obs\n",
    "    return accuracy.item()\n",
    "\n",
    "\n",
    "def train(model, n_epochs=160, lr=1e-1, batch_size=512, bn_l1_weight=1e-4):\n",
    "    \"\"\"\n",
    "    :param inital_lr: for finetuning to continue cosine annealing\n",
    "    :param max_epochs: will stop at n_epochs but max_epochs is needed for scheduling\n",
    "    :param last_epoch: when finetuning need to specify at what epoch previously stopped\n",
    "    \"\"\"\n",
    "    model = copy.deepcopy(model).cuda().train()\n",
    "    train_loader, test_loader = get_loaders(batch_size)\n",
    "    logs = defaultdict(list)\n",
    "    criterion = nn.CrossEntropyLoss()\n",
    "    # Don't as me why but the original implementation uses l1 on top of the l2 for the whole model\n",
    "    optimiser = optim.SGD(model.parameters(), lr=lr, momentum=0.9, nesterov=True, weight_decay=1e-4)\n",
    "    \n",
    "    milestones = [int(n_epochs * .5), int(n_epochs * .75)]\n",
    "    print(f\"Reducing LR at: {milestones}\")\n",
    "    lr_scheduler = optim.lr_scheduler.MultiStepLR(optimiser, milestones=milestones, gamma=0.1)\n",
    "    \n",
    "    pbar = tqdm(range(n_epochs))\n",
    "    for epoch in pbar:\n",
    "        for X, y in train_loader:\n",
    "            X, y = X.cuda(), y.cuda()\n",
    "            out = model(X)\n",
    "            loss = criterion(out, y) + bn_l1_weight * get_bn_l1_loss(model)\n",
    "\n",
    "            optimiser.zero_grad()\n",
    "            loss.backward()\n",
    "            optimiser.step()\n",
    "\n",
    "        lr_scheduler.step()\n",
    "        #logs[\"train_acc\"].append(evaluate(model, train_loader))\n",
    "        logs[\"lr\"].append(optimiser.state_dict()[\"param_groups\"][0][\"lr\"])\n",
    "        logs[\"test_acc\"].append(evaluate(model, test_loader))\n",
    "        pbar.set_description(\"Test Acc: {:.4f}%\".format(logs['test_acc'][-1] * 100))\n",
    "    return model, logs\n"
   ]
  },
  {
   "cell_type": "code",
   "execution_count": 5,
   "metadata": {},
   "outputs": [
    {
     "name": "stderr",
     "output_type": "stream",
     "text": [
      "  0%|          | 0/160 [00:00<?, ?it/s]"
     ]
    },
    {
     "name": "stdout",
     "output_type": "stream",
     "text": [
      "Reducing LR at: [80, 120]\n"
     ]
    },
    {
     "name": "stderr",
     "output_type": "stream",
     "text": [
      "Test Acc: 73.6600%: 100%|██████████| 160/160 [49:44<00:00, 18.65s/it]\n"
     ]
    }
   ],
   "source": [
    "model = get_model()\n",
    "trained_model, trained_logs = train(model, n_epochs=160, batch_size=64, bn_l1_weight=1e-4)"
   ]
  },
  {
   "cell_type": "code",
   "execution_count": 6,
   "metadata": {},
   "outputs": [
    {
     "data": {
      "text/plain": [
       "0.7365999817848206"
      ]
     },
     "execution_count": 6,
     "metadata": {},
     "output_type": "execute_result"
    },
    {
     "data": {
      "image/png": "[encoded data removed]",
      "text/plain": [
       "<Figure size 432x288 with 1 Axes>"
      ]
     },
     "metadata": {
      "needs_background": "light"
     },
     "output_type": "display_data"
    }
   ],
   "source": [
    "plt.plot(trained_logs[\"test_acc\"])\n",
    "trained_logs[\"test_acc\"][-1]"
   ]
  },
  {
   "cell_type": "code",
   "execution_count": 7,
   "metadata": {},
   "outputs": [
    {
     "data": {
      "image/png": "[encoded data removed]",
      "text/plain": [
       "<Figure size 432x288 with 1 Axes>"
      ]
     },
     "metadata": {
      "needs_background": "light"
     },
     "output_type": "display_data"
    }
   ],
   "source": [
    "plt.plot(trained_logs[\"lr\"])\n",
    "plt.ylim(bottom=0)\n",
    "plt.show()"
   ]
  },
  {
   "cell_type": "code",
   "execution_count": 8,
   "metadata": {},
   "outputs": [],
   "source": [
    "def get_gammas(model, cat=False):\n",
    "    \"\"\"\n",
    "    Get the gamma parameters of the bn layers\n",
    "    :param cat: whether to concatenate and all gammas into one tensor.\n",
    "    \"\"\"\n",
    "    res = [bn.weight.view(-1).detach().cpu() for bn in model.modules() if isinstance(bn, nn.BatchNorm2d)]\n",
    "    if cat:\n",
    "        res = torch.cat(res)\n",
    "    return res\n",
    "\n",
    "\n",
    "def get_prune_masks(model, percentage=0.5, min_filters_per_layer: int=1) -> list:\n",
    "    \"\"\"Reuturns a list of masks of which filters to keep\"\"\"\n",
    "    res = []\n",
    "    threshold = np.quantile(get_gammas(model, cat=True).abs(), percentage)\n",
    "    bns = [layer for layer in model.modules() if isinstance(layer, nn.BatchNorm2d)]\n",
    "    for bn in bns:\n",
    "        local_threshold = threshold\n",
    "        # leave at least min_filters_per_layer\n",
    "        if (bn.weight.abs() >= local_threshold).float().sum() < min_filters_per_layer:\n",
    "            local_threshold = bn.weight.abs().sort()[0][-min_filters_per_layer].item()\n",
    "        mask = (bn.weight.abs() >= local_threshold).float().detach()  # filters to keep\n",
    "        res.append(mask)\n",
    "    return res\n",
    "\n",
    "\n",
    "def count_filters(model, cat=True):\n",
    "    gammas = get_gammas(model, cat=False)\n",
    "    counts = [(l != 0).int().sum().item() for l in gammas]\n",
    "    if cat == True:\n",
    "        counts = sum(counts) \n",
    "    return counts\n",
    "\n",
    "def count_parameters(model):\n",
    "    return sum(p.numel() for p in model.parameters() if p.requires_grad)"
   ]
  },
  {
   "cell_type": "markdown",
   "metadata": {},
   "source": [
    "# Soft Pruning\n",
    "- Just setting the BN params to 0, so the whole channel output will be 0 for that filter"
   ]
  },
  {
   "cell_type": "code",
   "execution_count": 9,
   "metadata": {},
   "outputs": [],
   "source": [
    "def prune_soft(model, percentage=0.5, min_filters_per_layer: int=1):\n",
    "    \"\"\"Just set bn gamma and beta to 0 to produce 'unused' filters\"\"\"\n",
    "    model = copy.deepcopy(model.cpu())\n",
    "    masks = get_prune_masks(model, percentage, min_filters_per_layer)#[:-1]\n",
    "    bns = [layer for layer in model.modules() if isinstance(layer, nn.BatchNorm2d)]#[:-1]\n",
    "    for mask, bn in zip(masks, bns):\n",
    "        with torch.no_grad():\n",
    "            bn.weight.mul_(mask)\n",
    "            bn.bias.mul_(mask)\n",
    "    return model"
   ]
  },
  {
   "cell_type": "code",
   "execution_count": 10,
   "metadata": {},
   "outputs": [
    {
     "name": "stdout",
     "output_type": "stream",
     "text": [
      "Pruned Filters: 0.49644886363636365\n",
      "Architecture: [30, 64, 118, 128, 253, 255, 255, 417, 181, 5, 5, 5, 411]\n"
     ]
    },
    {
     "data": {
      "image/png": "[encoded data removed]",
      "text/plain": [
       "<Figure size 1440x360 with 1 Axes>"
      ]
     },
     "metadata": {
      "needs_background": "light"
     },
     "output_type": "display_data"
    }
   ],
   "source": [
    "pruned_model_soft = prune_soft(trained_model, percentage=0.5, min_filters_per_layer=5)\n",
    "print(\"Pruned Filters:\", 1 - count_filters(pruned_model_soft) / count_filters(trained_model))\n",
    "print(\"Architecture:\", count_filters(pruned_model_soft, cat=False))\n",
    "\n",
    "plt.figure(figsize=(20, 5))\n",
    "sns.distplot(get_gammas(pruned_model_soft, cat=True), bins=100, kde=False, label=\"pruned_soft\")\n",
    "sns.distplot(get_gammas(trained_model, cat=True), bins=100, kde=False, label=\"trained\")\n",
    "plt.legend()\n",
    "plt.show()"
   ]
  },
  {
   "cell_type": "code",
   "execution_count": 11,
   "metadata": {},
   "outputs": [
    {
     "name": "stderr",
     "output_type": "stream",
     "text": [
      "  0%|          | 0/160 [00:00<?, ?it/s]"
     ]
    },
    {
     "name": "stdout",
     "output_type": "stream",
     "text": [
      "Reducing LR at: [80, 120]\n"
     ]
    },
    {
     "name": "stderr",
     "output_type": "stream",
     "text": [
      "Test Acc: 71.8000%: 100%|██████████| 160/160 [49:35<00:00, 18.59s/it]"
     ]
    },
    {
     "name": "stdout",
     "output_type": "stream",
     "text": [
      "Final Acc: 0.7179999947547913\n"
     ]
    },
    {
     "name": "stderr",
     "output_type": "stream",
     "text": [
      "\n"
     ]
    }
   ],
   "source": [
    "finetuned_model_soft, finetuned_logs_soft = train(pruned_model_soft, n_epochs=160, batch_size=64, bn_l1_weight=0)\n",
    "print(\"Final Acc:\", finetuned_logs_soft[\"test_acc\"][-1])"
   ]
  },
  {
   "cell_type": "code",
   "execution_count": 12,
   "metadata": {},
   "outputs": [
    {
     "data": {
      "image/png": "[encoded data removed]",
      "text/plain": [
       "<Figure size 432x288 with 1 Axes>"
      ]
     },
     "metadata": {
      "needs_background": "light"
     },
     "output_type": "display_data"
    }
   ],
   "source": [
    "plt.title(\"Accuracy\")\n",
    "plt.plot(trained_logs[\"test_acc\"] + finetuned_logs_soft[\"test_acc\"], label=\"finetuned_soft\")\n",
    "plt.plot(trained_logs[\"test_acc\"], label=\"trained\")\n",
    "plt.legend()\n",
    "plt.show()"
   ]
  },
  {
   "cell_type": "code",
   "execution_count": 13,
   "metadata": {},
   "outputs": [
    {
     "data": {
      "image/png": "[encoded data removed]",
      "text/plain": [
       "<Figure size 432x288 with 1 Axes>"
      ]
     },
     "metadata": {
      "needs_background": "light"
     },
     "output_type": "display_data"
    }
   ],
   "source": [
    "plt.title(\"LR\")\n",
    "plt.plot(trained_logs[\"lr\"] + finetuned_logs_soft[\"lr\"], label=\"finetuned_soft\")\n",
    "plt.plot(trained_logs[\"lr\"], label=\"trained\")\n",
    "plt.legend()\n",
    "plt.show()"
   ]
  },
  {
   "cell_type": "markdown",
   "metadata": {},
   "source": [
    "# Hard Pruning\n",
    "- Actually remove filters and weights by creating a new, pruned model"
   ]
  },
  {
   "cell_type": "code",
   "execution_count": 14,
   "metadata": {},
   "outputs": [],
   "source": [
    "def prune_hard(model, percentage=0.5, min_filters_per_layer: int=1):\n",
    "    \"\"\"Create a new model with a pruned architecture\"\"\"\n",
    "    model = copy.deepcopy(model.cpu())\n",
    "    masks = get_prune_masks(model, percentage, min_filters_per_layer)\n",
    "    \n",
    "    mask_ix = 0\n",
    "    with torch.no_grad():\n",
    "        for layer_ix in range(len(model.features)):\n",
    "            layer = model.features[layer_ix]\n",
    "            if not isinstance(layer, (nn.Conv2d, nn.BatchNorm2d)):\n",
    "                continue\n",
    "            mask_as_indices = masks[mask_ix].nonzero().view(-1)\n",
    "            if isinstance(layer, nn.Conv2d):\n",
    "                previous_mask_as_indices = torch.tensor(range(layer.weight.shape[1])) if mask_ix == 0 else masks[mask_ix-1].nonzero().view(-1) \n",
    "                new_conv = nn.Conv2d(len(previous_mask_as_indices), len(mask_as_indices), kernel_size=layer.kernel_size, padding=layer.padding)\n",
    "                new_conv.weight = nn.Parameter(layer.weight[mask_as_indices, :, :, :][:, previous_mask_as_indices, :, :])\n",
    "                new_conv.bias = None if layer.bias is None else nn.Parameter(layer.bias[mask_as_indices])\n",
    "                model.features[layer_ix] = new_conv\n",
    "            if isinstance(layer, nn.BatchNorm2d):\n",
    "                new_bn = nn.BatchNorm2d(len(mask_as_indices))\n",
    "                new_bn.weight = nn.Parameter(layer.weight[mask_as_indices])\n",
    "                new_bn.bias = nn.Parameter(layer.bias[mask_as_indices])\n",
    "                new_bn.running_mean = layer.running_mean[mask_as_indices]\n",
    "                new_bn.running_var = layer.running_var[mask_as_indices]\n",
    "                model.features[layer_ix] = new_bn\n",
    "                mask_ix += 1\n",
    "        \n",
    "        lin_mask = masks[-1].bool()\n",
    "        old_lin = model.classifier[0]\n",
    "        new_lin = nn.Linear(lin_mask.sum(), old_lin.out_features)\n",
    "        new_lin.weight = nn.Parameter(old_lin.weight[:, lin_mask])\n",
    "        new_lin.bias = nn.Parameter(old_lin.bias)\n",
    "        model.classifier[0] = new_lin\n",
    "    return model"
   ]
  },
  {
   "cell_type": "code",
   "execution_count": 15,
   "metadata": {},
   "outputs": [
    {
     "name": "stdout",
     "output_type": "stream",
     "text": [
      "Pruned Filter: 0.49644886363636365\n",
      "Architecture: [30, 64, 118, 128, 253, 255, 255, 417, 181, 5, 5, 5, 411]\n"
     ]
    },
    {
     "data": {
      "image/png": "[encoded data removed]",
      "text/plain": [
       "<Figure size 1440x360 with 1 Axes>"
      ]
     },
     "metadata": {
      "needs_background": "light"
     },
     "output_type": "display_data"
    }
   ],
   "source": [
    "pruned_model_hard = prune_hard(trained_model, percentage=0.5, min_filters_per_layer=5)\n",
    "print(\"Pruned Filter:\", 1 - count_filters(pruned_model_hard) / count_filters(trained_model))\n",
    "print(\"Architecture:\", count_filters(pruned_model_hard, cat=False))\n",
    "\n",
    "plt.figure(figsize=(20, 5))\n",
    "sns.distplot(get_gammas(pruned_model_hard, cat=True), bins=100, kde=False, label=\"pruned_hard\")\n",
    "sns.distplot(get_gammas(trained_model, cat=True), bins=100, kde=False, label=\"trained\")\n",
    "plt.legend()\n",
    "plt.show()"
   ]
  },
  {
   "cell_type": "code",
   "execution_count": 16,
   "metadata": {},
   "outputs": [
    {
     "name": "stdout",
     "output_type": "stream",
     "text": [
      "Pruned Parameters: 0.7706084381185592\n"
     ]
    }
   ],
   "source": [
    "print(\"Pruned Parameters:\", 1 - count_parameters(pruned_model_hard) / count_parameters(trained_model))"
   ]
  },
  {
   "cell_type": "code",
   "execution_count": 17,
   "metadata": {},
   "outputs": [
    {
     "name": "stderr",
     "output_type": "stream",
     "text": [
      "  0%|          | 0/160 [00:00<?, ?it/s]"
     ]
    },
    {
     "name": "stdout",
     "output_type": "stream",
     "text": [
      "Reducing LR at: [80, 120]\n"
     ]
    },
    {
     "name": "stderr",
     "output_type": "stream",
     "text": [
      "Test Acc: 71.7000%: 100%|██████████| 160/160 [33:09<00:00, 12.43s/it]"
     ]
    },
    {
     "name": "stdout",
     "output_type": "stream",
     "text": [
      "Final Acc: 0.7170000076293945\n"
     ]
    },
    {
     "name": "stderr",
     "output_type": "stream",
     "text": [
      "\n"
     ]
    }
   ],
   "source": [
    "finetuned_model_hard, finetuned_logs_hard = train(pruned_model_hard, n_epochs=160, batch_size=64, bn_l1_weight=0)\n",
    "print(\"Final Acc:\", finetuned_logs_hard[\"test_acc\"][-1])"
   ]
  },
  {
   "cell_type": "code",
   "execution_count": 18,
   "metadata": {},
   "outputs": [
    {
     "data": {
      "image/png": "[encoded data removed]",
      "text/plain": [
       "<Figure size 432x288 with 1 Axes>"
      ]
     },
     "metadata": {
      "needs_background": "light"
     },
     "output_type": "display_data"
    }
   ],
   "source": [
    "plt.title(\"Accuracy\")\n",
    "plt.plot(trained_logs[\"test_acc\"] + finetuned_logs_hard[\"test_acc\"], label=\"finetuned_hard\")\n",
    "plt.plot(trained_logs[\"test_acc\"], label=\"trained\")\n",
    "plt.legend()\n",
    "plt.show()"
   ]
  },
  {
   "cell_type": "code",
   "execution_count": 19,
   "metadata": {},
   "outputs": [
    {
     "data": {
      "image/png": "[encoded data removed]",
      "text/plain": [
       "<Figure size 432x288 with 1 Axes>"
      ]
     },
     "metadata": {
      "needs_background": "light"
     },
     "output_type": "display_data"
    }
   ],
   "source": [
    "plt.title(\"LR\")\n",
    "plt.plot(trained_logs[\"lr\"] + finetuned_logs_hard[\"lr\"], label=\"finetuned_soft\")\n",
    "plt.plot(trained_logs[\"lr\"], label=\"trained\")\n",
    "plt.legend()\n",
    "plt.show()"
   ]
  },
  {
   "cell_type": "code",
   "execution_count": 20,
   "metadata": {},
   "outputs": [
    {
     "data": {
      "text/plain": [
       "VGG(\n",
       "  (features): Sequential(\n",
       "    (0): Conv2d(3, 30, kernel_size=(3, 3), stride=(1, 1), padding=(1, 1), bias=False)\n",
       "    (1): BatchNorm2d(30, eps=1e-05, momentum=0.1, affine=True, track_running_stats=True)\n",
       "    (2): ReLU(inplace=True)\n",
       "    (3): Conv2d(30, 64, kernel_size=(3, 3), stride=(1, 1), padding=(1, 1), bias=False)\n",
       "    (4): BatchNorm2d(64, eps=1e-05, momentum=0.1, affine=True, track_running_stats=True)\n",
       "    (5): ReLU(inplace=True)\n",
       "    (6): MaxPool2d(kernel_size=2, stride=2, padding=0, dilation=1, ceil_mode=False)\n",
       "    (7): Conv2d(64, 118, kernel_size=(3, 3), stride=(1, 1), padding=(1, 1), bias=False)\n",
       "    (8): BatchNorm2d(118, eps=1e-05, momentum=0.1, affine=True, track_running_stats=True)\n",
       "    (9): ReLU(inplace=True)\n",
       "    (10): Conv2d(118, 128, kernel_size=(3, 3), stride=(1, 1), padding=(1, 1), bias=False)\n",
       "    (11): BatchNorm2d(128, eps=1e-05, momentum=0.1, affine=True, track_running_stats=True)\n",
       "    (12): ReLU(inplace=True)\n",
       "    (13): MaxPool2d(kernel_size=2, stride=2, padding=0, dilation=1, ceil_mode=False)\n",
       "    (14): Conv2d(128, 253, kernel_size=(3, 3), stride=(1, 1), padding=(1, 1), bias=False)\n",
       "    (15): BatchNorm2d(253, eps=1e-05, momentum=0.1, affine=True, track_running_stats=True)\n",
       "    (16): ReLU(inplace=True)\n",
       "    (17): Conv2d(253, 255, kernel_size=(3, 3), stride=(1, 1), padding=(1, 1), bias=False)\n",
       "    (18): BatchNorm2d(255, eps=1e-05, momentum=0.1, affine=True, track_running_stats=True)\n",
       "    (19): ReLU(inplace=True)\n",
       "    (20): Conv2d(255, 255, kernel_size=(3, 3), stride=(1, 1), padding=(1, 1), bias=False)\n",
       "    (21): BatchNorm2d(255, eps=1e-05, momentum=0.1, affine=True, track_running_stats=True)\n",
       "    (22): ReLU(inplace=True)\n",
       "    (23): MaxPool2d(kernel_size=2, stride=2, padding=0, dilation=1, ceil_mode=False)\n",
       "    (24): Conv2d(255, 417, kernel_size=(3, 3), stride=(1, 1), padding=(1, 1), bias=False)\n",
       "    (25): BatchNorm2d(417, eps=1e-05, momentum=0.1, affine=True, track_running_stats=True)\n",
       "    (26): ReLU(inplace=True)\n",
       "    (27): Conv2d(417, 181, kernel_size=(3, 3), stride=(1, 1), padding=(1, 1), bias=False)\n",
       "    (28): BatchNorm2d(181, eps=1e-05, momentum=0.1, affine=True, track_running_stats=True)\n",
       "    (29): ReLU(inplace=True)\n",
       "    (30): Conv2d(181, 5, kernel_size=(3, 3), stride=(1, 1), padding=(1, 1), bias=False)\n",
       "    (31): BatchNorm2d(5, eps=1e-05, momentum=0.1, affine=True, track_running_stats=True)\n",
       "    (32): ReLU(inplace=True)\n",
       "    (33): MaxPool2d(kernel_size=2, stride=2, padding=0, dilation=1, ceil_mode=False)\n",
       "    (34): Conv2d(5, 5, kernel_size=(3, 3), stride=(1, 1), padding=(1, 1), bias=False)\n",
       "    (35): BatchNorm2d(5, eps=1e-05, momentum=0.1, affine=True, track_running_stats=True)\n",
       "    (36): ReLU(inplace=True)\n",
       "    (37): Conv2d(5, 5, kernel_size=(3, 3), stride=(1, 1), padding=(1, 1), bias=False)\n",
       "    (38): BatchNorm2d(5, eps=1e-05, momentum=0.1, affine=True, track_running_stats=True)\n",
       "    (39): ReLU(inplace=True)\n",
       "    (40): Conv2d(5, 411, kernel_size=(3, 3), stride=(1, 1), padding=(1, 1), bias=False)\n",
       "    (41): BatchNorm2d(411, eps=1e-05, momentum=0.1, affine=True, track_running_stats=True)\n",
       "    (42): ReLU(inplace=True)\n",
       "  )\n",
       "  (avgpool): AvgPool2d(kernel_size=2, stride=2, padding=0)\n",
       "  (classifier): Sequential(\n",
       "    (0): Linear(in_features=411, out_features=100, bias=True)\n",
       "  )\n",
       ")"
      ]
     },
     "execution_count": 20,
     "metadata": {},
     "output_type": "execute_result"
    }
   ],
   "source": [
    "finetuned_model_hard"
   ]
  }
 ],
 "metadata": {
  "kernelspec": {
   "display_name": "Python 3",
   "language": "python",
   "name": "python3"
  },
  "language_info": {
   "codemirror_mode": {
    "name": "ipython",
    "version": 3
   },
   "file_extension": ".py",
   "mimetype": "text/x-python",
   "name": "python",
   "nbconvert_exporter": "python",
   "pygments_lexer": "ipython3",
   "version": "3.7.6"
  }
 },
 "nbformat": 4,
 "nbformat_minor": 4
}
